{
 "cells": [
  {
   "cell_type": "code",
   "execution_count": 1,
   "metadata": {},
   "outputs": [],
   "source": [
    "import numpy as np"
   ]
  },
  {
   "cell_type": "code",
   "execution_count": 2,
   "metadata": {},
   "outputs": [],
   "source": [
    "def find_neighbors(q, x):\n",
    "    if q in x:\n",
    "        index = np.searchsorted(x, q)\n",
    "        print(\"q is the collocation point with index \", index)\n",
    "    elif q < x[0]:\n",
    "        print(\"The query q is too small to be interpolated given x.\")\n",
    "    elif q > x[-1]:\n",
    "        print(\"The query q is too big to be interpolated given x.\")\n",
    "    else:\n",
    "        for i in range(len(x)):\n",
    "            if q < x[i+1]:\n",
    "                print(\"q lays between x_\", i, \"=\", x[i], \" and x_\", i+1,\"=\", x[i+1])\n",
    "                return i\n",
    "                break"
   ]
  },
  {
   "cell_type": "code",
   "execution_count": 3,
   "metadata": {},
   "outputs": [],
   "source": [
    "x = [0.0, 0.5, 1.0, 1.5, 2.0]\n",
    "y = [0.0, 1.0, 0.0, -1.0, 0.0]"
   ]
  },
  {
   "cell_type": "code",
   "execution_count": 4,
   "metadata": {},
   "outputs": [
    {
     "name": "stdout",
     "output_type": "stream",
     "text": [
      "q lays between x_ 0 = 0.0  and x_ 1 = 0.5\n"
     ]
    },
    {
     "data": {
      "text/plain": [
       "0"
      ]
     },
     "execution_count": 4,
     "metadata": {},
     "output_type": "execute_result"
    }
   ],
   "source": [
    "find_neighbors(0.25, x)"
   ]
  },
  {
   "cell_type": "code",
   "execution_count": 134,
   "metadata": {},
   "outputs": [],
   "source": [
    "### This looks halfly good now! Gives now correct result for Q3, but different from matlab in Q4\n",
    "def spline_interpolation(x, y, xq):\n",
    "    n = len(x)\n",
    "    assert len(x) == len(y), 'lists for x and y must have same length'\n",
    "    \n",
    "    i = find_neighbors(q, x)\n",
    "    print(\"i = \", i)\n",
    "    \n",
    "    h = np.zeros(n-1)\n",
    "    a = np.zeros(n-2)\n",
    "    b = np.zeros(n-1)\n",
    "    c = np.zeros(n-1)\n",
    "    d = np.zeros(n-1)\n",
    "\n",
    "    for j in range(len(h)):\n",
    "        h[j] = x[j+1] - x[j] # hi = xi+1 - xi\n",
    "    print(\"h = \", h)\n",
    "\n",
    "    for j in range(len(a)):\n",
    "        a[j] = 2/h[j] + 2/h[j+1]\n",
    "    print(\"a = \", a)\n",
    "\n",
    "    for j in range(len(b)):\n",
    "        b[j] = 1/h[j]\n",
    "    print(\"b = \", b) \n",
    "\n",
    "    for j in range(len(c)):\n",
    "        c[j] = (y[j+1] - y[j]) / (h[j] * h[j])\n",
    "    print(\"c = \", c)\n",
    "\n",
    "    for j in range(len(d)-1):\n",
    "        d[j] = 3 * (c[j] + c[j+1])\n",
    "    d[-1] = 2 * c[-1] + h[-1] / (h[-1] + h[-2]) * (c[-1] + c[-2])\n",
    "    print(\"d = \", d)\n",
    "\n",
    "\n",
    "    aa = 1/h[-2] + 1/h[-1]\n",
    "    print(\"an-2* = \", aa)\n",
    "\n",
    "    bb = 1/h[-1]\n",
    "    print(\"bn-1* = \", bb)\n",
    "\n",
    "    A = np.zeros(shape=(n-1, n-1));\n",
    "    # Boundary conditions: periodic spline\n",
    "    A[0, 0] = a[0];\n",
    "    A[0, 1] = b[1];\n",
    "    A[0, -1] = b[0];\n",
    "\n",
    "    A[-1, -2] = aa;\n",
    "    A[-1, -1] = bb;\n",
    "\n",
    "    k = -1; # column of A\n",
    "    for j in range(1, n-2):\n",
    "        k = k + 1;\n",
    "        A[j, k]   = b[j];\n",
    "        A[j, k+1] = a[j];\n",
    "        A[j, k+2] = b[j+1];\n",
    "\n",
    "\n",
    "    print(\"A = \", A)\n",
    "\n",
    "    df = np.zeros(n)\n",
    "    df[1:] = np.linalg.solve(A, d)\n",
    "    df[0] = df[-1] # Periodic Boundary Conditions\n",
    "    print(\"df = \", df)\n",
    "\n",
    "#     xq = [xq] # Make sure that xq is a list\n",
    "    Q = np.zeros(len(xq))\n",
    "    for j in range(len(xq)):\n",
    "        t = (xq[j] - x[i]) / h[i]\n",
    "        Q[j] = y[i] * (1 - 3*t**2 + 2*t**3) + y[i+1] * ( 3*t**2 - 2*t**3) + h[i] * df[i] * (t - 2*t**2 + t**3) + h[i] * df[i+1] * (-t**2 + t**3)\n",
    "    print(\"Q = \", Q)\n",
    "    return Q\n"
   ]
  },
  {
   "cell_type": "code",
   "execution_count": 137,
   "metadata": {},
   "outputs": [],
   "source": [
    "# xq = 0.25\n",
    "# spline_interpolation(x, y, [xq])"
   ]
  },
  {
   "cell_type": "code",
   "execution_count": 142,
   "metadata": {},
   "outputs": [
    {
     "name": "stdout",
     "output_type": "stream",
     "text": [
      "q lays between x_ 2 = -1.0  and x_ 3 = 1.0\n",
      "i =  2\n",
      "h =  [2. 2. 2. 2. 2.]\n",
      "a =  [2. 2. 2. 2.]\n",
      "b =  [0.5 0.5 0.5 0.5 0.5]\n",
      "c =  [ 0.01538462  0.1         0.         -0.1        -0.01538462]\n",
      "d =  [ 0.34615385  0.3        -0.3        -0.34615385 -0.08846154]\n",
      "an-2* =  1.0\n",
      "bn-1* =  0.5\n",
      "A =  [[2.  0.5 0.  0.  0.5]\n",
      " [0.5 2.  0.5 0.  0. ]\n",
      " [0.  0.5 2.  0.5 0. ]\n",
      " [0.  0.  0.5 2.  0.5]\n",
      " [0.  0.  0.  1.  0.5]]\n",
      "df =  [ 0.19339549  0.08337218  0.16542347 -0.14506605 -0.18515929  0.19339549]\n",
      "Q =  [-0.96969697  0.23659674  0.57762238  0.297669   -0.35897436]\n"
     ]
    }
   ],
   "source": [
    "n = 6\n",
    "x = np.zeros(n)\n",
    "y = np.zeros(n)\n",
    "for j in range(n):\n",
    "    x[j] = -5 + 2 * (j+1 - 1)\n",
    "    y[j] = 1/ (1 + x[j]*x[j])\n",
    "\n",
    "xq = np.arange(-4, 6, 2)\n",
    "yq = spline_interpolation(x, y, xq)\n",
    "\n",
    "# Correct results according to matlab: yq = -0.0285    0.3131    0.5685    0.3131   -0.0285"
   ]
  },
  {
   "cell_type": "code",
   "execution_count": 143,
   "metadata": {},
   "outputs": [
    {
     "data": {
      "text/plain": [
       "array([-0.96969697,  0.23659674,  0.57762238,  0.297669  , -0.35897436])"
      ]
     },
     "execution_count": 143,
     "metadata": {},
     "output_type": "execute_result"
    }
   ],
   "source": [
    "yq\n",
    "# Correct results according to matlab: yq = -0.0285    0.3131    0.5685    0.3131   -0.0285"
   ]
  },
  {
   "cell_type": "code",
   "execution_count": 144,
   "metadata": {},
   "outputs": [
    {
     "data": {
      "text/plain": [
       "array([-4, -2,  0,  2,  4])"
      ]
     },
     "execution_count": 144,
     "metadata": {},
     "output_type": "execute_result"
    }
   ],
   "source": [
    "xq"
   ]
  },
  {
   "cell_type": "code",
   "execution_count": 145,
   "metadata": {},
   "outputs": [
    {
     "data": {
      "text/plain": [
       "(array([-5., -3., -1.,  1.,  3.,  5.]),\n",
       " array([0.03846154, 0.1       , 0.5       , 0.5       , 0.1       ,\n",
       "        0.03846154]))"
      ]
     },
     "execution_count": 145,
     "metadata": {},
     "output_type": "execute_result"
    }
   ],
   "source": [
    "x, y"
   ]
  },
  {
   "cell_type": "code",
   "execution_count": null,
   "metadata": {},
   "outputs": [],
   "source": []
  },
  {
   "cell_type": "code",
   "execution_count": null,
   "metadata": {},
   "outputs": [],
   "source": []
  }
 ],
 "metadata": {
  "kernelspec": {
   "display_name": "Python 3",
   "language": "python",
   "name": "python3"
  },
  "language_info": {
   "codemirror_mode": {
    "name": "ipython",
    "version": 3
   },
   "file_extension": ".py",
   "mimetype": "text/x-python",
   "name": "python",
   "nbconvert_exporter": "python",
   "pygments_lexer": "ipython3",
   "version": "3.6.5"
  }
 },
 "nbformat": 4,
 "nbformat_minor": 2
}
