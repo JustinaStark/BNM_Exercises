{
 "cells": [
  {
   "cell_type": "code",
   "execution_count": 1,
   "metadata": {},
   "outputs": [],
   "source": [
    "import numpy as np"
   ]
  },
  {
   "cell_type": "code",
   "execution_count": 2,
   "metadata": {},
   "outputs": [],
   "source": [
    "def find_neighbors(q, x):\n",
    "    if q in x:\n",
    "        index = np.searchsorted(x, q)\n",
    "        print(\"q is the collocation point with index \", index)\n",
    "    elif q < x[0]:\n",
    "        print(\"The query q is too small to be interpolated given x.\")\n",
    "    elif q > x[-1]:\n",
    "        print(\"The query q is too big to be interpolated given x.\")\n",
    "    else:\n",
    "        for i in range(len(x)):\n",
    "            if q < x[i+1]:\n",
    "                print(\"q = \", q, \" lays between x_\", i, \"=\", x[i], \" and x_\", i+1,\"=\", x[i+1])\n",
    "                return i\n",
    "                break"
   ]
  },
  {
   "cell_type": "code",
   "execution_count": 3,
   "metadata": {},
   "outputs": [],
   "source": [
    "x = [0.0, 0.5, 1.0, 1.5, 2.0]\n",
    "y = [0.0, 1.0, 0.0, -1.0, 0.0]"
   ]
  },
  {
   "cell_type": "code",
   "execution_count": 4,
   "metadata": {},
   "outputs": [
    {
     "name": "stdout",
     "output_type": "stream",
     "text": [
      "q =  0.25  lays between x_ 0 = 0.0  and x_ 1 = 0.5\n"
     ]
    },
    {
     "data": {
      "text/plain": [
       "0"
      ]
     },
     "execution_count": 4,
     "metadata": {},
     "output_type": "execute_result"
    }
   ],
   "source": [
    "find_neighbors(0.25, x)"
   ]
  },
  {
   "cell_type": "code",
   "execution_count": 5,
   "metadata": {},
   "outputs": [],
   "source": [
    "# Gives now correct result for Q3, but different from matlab in Q4\n",
    "def spline_interpolation(x, y, xq):\n",
    "    n = len(x)\n",
    "    assert len(x) == len(y), 'lists for x and y must have same length'\n",
    "    \n",
    "    i = find_neighbors(xq, x)\n",
    "    print(\"i = \", i)\n",
    "    \n",
    "    h = np.zeros(n-1)\n",
    "    a = np.zeros(n-2)\n",
    "    b = np.zeros(n-1)\n",
    "    c = np.zeros(n-1)\n",
    "    d = np.zeros(n)\n",
    "\n",
    "    for j in range(len(h)):\n",
    "        h[j] = x[j+1] - x[j] # hi = xi+1 - xi\n",
    "    print(\"h = \", h)\n",
    "\n",
    "    for j in range(len(a)):\n",
    "        a[j] = 2/h[j] + 2/h[j+1]\n",
    "    print(\"a = \", a)\n",
    "\n",
    "    for j in range(len(b)):\n",
    "        b[j] = 1/h[j]\n",
    "    print(\"b = \", b) \n",
    "\n",
    "    for j in range(len(c)):\n",
    "        c[j] = (y[j+1] - y[j]) / (h[j] * h[j])\n",
    "    print(\"c = \", c)\n",
    "\n",
    "    for j in range(len(d)-2):\n",
    "        d[j+1] = 3 * (c[j] + c[j+1])\n",
    "    d[-1] = 2 * c[-1] + h[-1] / (h[-1] + h[-2]) * (c[-1] + c[-2]) # d' from not-a-knot-condition\n",
    "    print(\"d = \", d)\n",
    "\n",
    "    \n",
    "    \n",
    "    # Constructing coefficient matrix A needed to solve for the first derivatives of f\n",
    "    A = np.zeros(shape=(n-1, n-1))\n",
    "    \n",
    "    # Boundary conditions to render system solvable\n",
    "    # Boor's not-a-knot-condition\n",
    "    a_nminus2_prime = 1/h[-2] + 1/h[-1]\n",
    "    print(\"an-2' = \", a_nminus2_prime)\n",
    "\n",
    "    b_nminus2_prime = 1/h[-1]\n",
    "    print(\"bn-1' = \", b_nminus2_prime)\n",
    "    \n",
    "    A[-1, -2] = a_nminus2_prime;\n",
    "    A[-1, -1] = b_nminus2_prime;\n",
    "\n",
    "    \n",
    "    \n",
    "    # Boundary conditions: periodic spline\n",
    "    # Fill first row of A according to periodic B.C.s\n",
    "    A[0, 0] = a[0];\n",
    "    A[0, 1] = b[1];\n",
    "    A[0, -1] = b[0];\n",
    "    \n",
    "    # Filling rest of A starting from second row\n",
    "    k = -1; # column of A\n",
    "    for j in range(1, n-2):\n",
    "        k += 1;\n",
    "        A[j, k]   = b[j];\n",
    "        A[j, k+1] = a[j];\n",
    "        A[j, k+2] = b[j+1];\n",
    "\n",
    "\n",
    "    print(\"A = \", A)\n",
    "\n",
    "    df = np.zeros(n)\n",
    "    df[1:] = np.linalg.solve(A, d[1:])\n",
    "    df[0] = df[-1] # Periodic Boundary Conditions\n",
    "    print(\"df = \", df)\n",
    "\n",
    "\n",
    "\n",
    "    t = (xq - x[i]) / h[i]\n",
    "    print(\"t = \", t)\n",
    "    Q = y[i] * (1 - 3*t**2 + 2*t**3) + y[i+1] * ( 3*t**2 - 2*t**3) + h[i] * df[i] * (t - 2*t**2 + t**3) + h[i] * df[i+1] * (-t**2 + t**3)\n",
    "    print(\"Q = \", Q)\n",
    "    return Q\n"
   ]
  },
  {
   "cell_type": "code",
   "execution_count": 6,
   "metadata": {},
   "outputs": [
    {
     "name": "stdout",
     "output_type": "stream",
     "text": [
      "q =  0.25  lays between x_ 0 = 0.0  and x_ 1 = 0.5\n",
      "i =  0\n",
      "h =  [0.5 0.5 0.5 0.5]\n",
      "a =  [8. 8. 8.]\n",
      "b =  [2. 2. 2. 2.]\n",
      "c =  [ 4. -4. -4.  4.]\n",
      "d =  [  0.   0. -24.   0.   8.]\n",
      "an-2' =  4.0\n",
      "bn-1' =  2.0\n",
      "A =  [[8. 2. 0. 2.]\n",
      " [2. 8. 2. 0.]\n",
      " [0. 2. 8. 2.]\n",
      " [0. 0. 4. 2.]]\n",
      "df =  [ 5.33333333 -0.66666667 -2.66666667 -0.66666667  5.33333333]\n",
      "t =  0.5\n",
      "Q =  0.8749999999999999\n"
     ]
    },
    {
     "data": {
      "text/plain": [
       "0.8749999999999999"
      ]
     },
     "execution_count": 6,
     "metadata": {},
     "output_type": "execute_result"
    }
   ],
   "source": [
    "xq = 0.25\n",
    "spline_interpolation(x, y, xq)"
   ]
  },
  {
   "cell_type": "code",
   "execution_count": 7,
   "metadata": {},
   "outputs": [
    {
     "data": {
      "text/plain": [
       "0.875"
      ]
     },
     "execution_count": 7,
     "metadata": {},
     "output_type": "execute_result"
    }
   ],
   "source": [
    "# Compare with master solution\n",
    "0.875"
   ]
  }
 ],
 "metadata": {
  "kernelspec": {
   "display_name": "Python 3",
   "language": "python",
   "name": "python3"
  },
  "language_info": {
   "codemirror_mode": {
    "name": "ipython",
    "version": 3
   },
   "file_extension": ".py",
   "mimetype": "text/x-python",
   "name": "python",
   "nbconvert_exporter": "python",
   "pygments_lexer": "ipython3",
   "version": "3.6.5"
  }
 },
 "nbformat": 4,
 "nbformat_minor": 2
}
