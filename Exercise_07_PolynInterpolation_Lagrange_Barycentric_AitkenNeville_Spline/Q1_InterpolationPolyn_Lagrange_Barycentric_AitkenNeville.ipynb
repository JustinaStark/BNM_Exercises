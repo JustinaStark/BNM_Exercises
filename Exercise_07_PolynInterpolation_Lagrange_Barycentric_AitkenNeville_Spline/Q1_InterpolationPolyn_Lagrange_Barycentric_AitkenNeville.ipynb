{
 "cells": [
  {
   "cell_type": "code",
   "execution_count": 1,
   "metadata": {},
   "outputs": [],
   "source": [
    "import numpy as np\n",
    "from fractions import Fraction"
   ]
  },
  {
   "cell_type": "code",
   "execution_count": 2,
   "metadata": {},
   "outputs": [],
   "source": [
    "x = [1, 2, 4, 8]\n",
    "f = [0, -2, -1, 2]"
   ]
  },
  {
   "cell_type": "markdown",
   "metadata": {},
   "source": [
    "# Lagrange interpolation polynomial"
   ]
  },
  {
   "cell_type": "code",
   "execution_count": 3,
   "metadata": {},
   "outputs": [],
   "source": [
    "def lagrange_polynomial_basis(x, i, q):\n",
    "    \"\"\"\n",
    "    Input:\n",
    "    x = list of collocation points\n",
    "    i = 0, 1, ..., n, where n = degree of polynomial and n+1 = numb. of collocation points used for interpolation (len of x)\n",
    "    q = scalar query point for which function value should be interpolated\n",
    "    \n",
    "    Return:\n",
    "    Basis function for lagrange polynomial\n",
    "    \"\"\"\n",
    "    nominator   = np.prod([(q - x[j]) for j in range(len(x)) if j != i])\n",
    "    denominator = np.prod([(x[i] - x[j]) for j in range(len(x)) if j != i])\n",
    "    print(\"l_\",i, \"(\", q, \") = \", nominator/denominator)\n",
    "    return nominator/denominator\n",
    "\n",
    "\n",
    "\n",
    "def lagrange_interpolation(x, f, q):\n",
    "    \"\"\"\n",
    "    Input:\n",
    "    x = list of collocation points\n",
    "    f = list function values corresponding to x\n",
    "    q = scalar query point for which function value should be interpolated\n",
    "   \n",
    "    Return:\n",
    "    Lagrange interpolation at q\n",
    "    \"\"\"\n",
    "    assert (len(x) == len(f))\n",
    "    \n",
    "    l = [lagrange_polynomial_basis(x, i, q) for i in range(len(x))] # Get the basis functions\n",
    "    Ln = sum( [ f[i] * l[i] for i in range(len(x)) ] ) # Weighted sum up the basis functions\n",
    "    \n",
    "    print(\"Ln(\", q, \") = \", Ln)\n",
    "    return Ln"
   ]
  },
  {
   "cell_type": "code",
   "execution_count": 4,
   "metadata": {},
   "outputs": [],
   "source": [
    "q = 3"
   ]
  },
  {
   "cell_type": "code",
   "execution_count": 5,
   "metadata": {},
   "outputs": [
    {
     "name": "stdout",
     "output_type": "stream",
     "text": [
      "l_ 0 ( 3 ) =  -0.23809523809523808\n",
      "l_ 1 ( 3 ) =  0.8333333333333334\n",
      "l_ 2 ( 3 ) =  0.4166666666666667\n",
      "l_ 3 ( 3 ) =  -0.011904761904761904\n",
      "Ln( 3 ) =  -2.107142857142857\n"
     ]
    }
   ],
   "source": [
    "# Determine Lagrange polynomial for the above data points and evaluate at q=3\n",
    "Ln = lagrange_interpolation(x, f, q)"
   ]
  },
  {
   "cell_type": "code",
   "execution_count": 6,
   "metadata": {},
   "outputs": [
    {
     "data": {
      "text/plain": [
       "(-0.23809523809523808,\n",
       " 0.8333333333333334,\n",
       " 0.4166666666666667,\n",
       " -0.011904761904761904,\n",
       " -2.107142857142857)"
      ]
     },
     "execution_count": 6,
     "metadata": {},
     "output_type": "execute_result"
    }
   ],
   "source": [
    "# Compare with master solution\n",
    "-5/21, 5/6, 5/12, -1/84, -59/28"
   ]
  },
  {
   "cell_type": "markdown",
   "metadata": {},
   "source": [
    "# Barycentric formula"
   ]
  },
  {
   "cell_type": "code",
   "execution_count": 7,
   "metadata": {},
   "outputs": [],
   "source": [
    "def barycentric_weights(x, i):\n",
    "    \"\"\"\n",
    "    Barycentric weights lambda_i\n",
    "    Independent of query point --> compute only once\n",
    "    \"\"\"\n",
    "    denominator = np.prod([(x[i] - x[j]) for j in range(len(x)) if j != i])\n",
    "    w = 1/denominator\n",
    "    return w\n",
    "\n",
    "\n",
    "def get_mui(x, i, w, q):\n",
    "    mui = w[i] / (q - x[i])\n",
    "    return mui\n",
    "\n",
    "\n",
    "def barycentric_interpolation(x, f, q):\n",
    "    \"\"\"\n",
    "    Input:\n",
    "    x = list of collocation points\n",
    "    f = list function values corresponding to x\n",
    "    q = scalar query point for which function value should be interpolated\n",
    "    \n",
    "    Return:\n",
    "    Barycentric interpolation at q\n",
    "    \"\"\"\n",
    "    assert (len(x) == len(f))\n",
    "    \n",
    "    w  = [barycentric_weights(x, i) for i in range(len(x))] # List of barycentric weights for i = 0, 1, .... n \n",
    "    print(\"w = \", w)\n",
    "    \n",
    "    mu = [get_mui(x, i, w, q)       for i in range(len(x))] # List of mus for i = 0, 1, .... n\n",
    "    print(\"mu = \", mu)\n",
    "    \n",
    "    Pn = sum([mu[i] * f[i]          for i in range(len(x))]) / sum(mu)\n",
    "    print(\"Pn(\", q, \") = \", Pn)\n",
    "    \n",
    "    return Pn\n",
    "    "
   ]
  },
  {
   "cell_type": "code",
   "execution_count": 8,
   "metadata": {},
   "outputs": [
    {
     "name": "stdout",
     "output_type": "stream",
     "text": [
      "w =  [-0.047619047619047616, 0.08333333333333333, -0.041666666666666664, 0.005952380952380952]\n",
      "mu =  [-0.023809523809523808, 0.08333333333333333, 0.041666666666666664, -0.0011904761904761904]\n",
      "Pn( 3 ) =  -2.1071428571428568\n"
     ]
    },
    {
     "data": {
      "text/plain": [
       "-2.1071428571428568"
      ]
     },
     "execution_count": 8,
     "metadata": {},
     "output_type": "execute_result"
    }
   ],
   "source": [
    "# Evaluate the interpolation polynomial at x = 3 using the Barycentric formula.\n",
    "barycentric_interpolation(x, f, q)"
   ]
  },
  {
   "cell_type": "code",
   "execution_count": 9,
   "metadata": {},
   "outputs": [
    {
     "data": {
      "text/plain": [
       "(-0.047619047619047616,\n",
       " 0.08333333333333333,\n",
       " -0.041666666666666664,\n",
       " 0.005952380952380952,\n",
       " -2.107142857142857)"
      ]
     },
     "execution_count": 9,
     "metadata": {},
     "output_type": "execute_result"
    }
   ],
   "source": [
    "# Compare with master solution\n",
    "-1/21, 1/12, -1/24, 1/168, -59/28"
   ]
  },
  {
   "cell_type": "markdown",
   "metadata": {},
   "source": [
    "# Aitken-Neville interpolation"
   ]
  },
  {
   "cell_type": "code",
   "execution_count": 10,
   "metadata": {},
   "outputs": [],
   "source": [
    "def Aitken_Neville_interpolation(x, f, q):\n",
    "    \"\"\"\n",
    "    Implements the Aitken-Neville algorithm:\n",
    "    Determines interpolation polynomial and evaluates it at a query point q.\n",
    "    (see BNM script figure 6.2)\n",
    "    \n",
    "    Input:\n",
    "    x = list of collocation points\n",
    "    f = list function values corresponding to x\n",
    "    q = scalar query point for which function value should be interpolated\n",
    "    \n",
    "    Return:\n",
    "    Aitken-Neville interpolation at q\n",
    "    \"\"\"\n",
    "    assert (len(x) == len(f))\n",
    "    \n",
    "    P = np.zeros((len(x), len(x))) # Array that to store the intermediate results of the Aitken-Neville scheme\n",
    "    P[0] = f # Initialize first column with function values at collocation points\n",
    "    \n",
    "    # Merge columns-wise according to Aitken-Neville Algorithm\n",
    "    for i in range(1, len(x)):\n",
    "        for j in range(len(x) - i):\n",
    "            P[i, j] = P[i-1, j+1] + (q - x[j+i]) / (x[j] - x[j+i]) * (P[i-1, j] - P[i-1, j+1] )\n",
    "    \n",
    "    print(\"Columns of Aitken-Neville scheme:\\n\", P.T)\n",
    "    print(\"Pn(\", q, \") = \", P[-1, 0])\n",
    "    \n",
    "    return P[-1, 0]"
   ]
  },
  {
   "cell_type": "code",
   "execution_count": 11,
   "metadata": {},
   "outputs": [
    {
     "name": "stdout",
     "output_type": "stream",
     "text": [
      "Columns of Aitken-Neville scheme:\n",
      " [[ 0.         -8.          2.          0.64285714]\n",
      " [-2.         -0.5        -0.375       0.        ]\n",
      " [-1.         -0.25        0.          0.        ]\n",
      " [ 2.          0.          0.          0.        ]]\n",
      "Pn( 5 ) =  0.6428571428571428\n"
     ]
    },
    {
     "data": {
      "text/plain": [
       "0.6428571428571428"
      ]
     },
     "execution_count": 11,
     "metadata": {},
     "output_type": "execute_result"
    }
   ],
   "source": [
    "x = [1, 2, 4, 8]\n",
    "f = [0, -2, -1, 2]\n",
    "q = 5\n",
    "Aitken_Neville_interpolation(x, f, q)"
   ]
  },
  {
   "cell_type": "code",
   "execution_count": 12,
   "metadata": {},
   "outputs": [
    {
     "data": {
      "text/plain": [
       "0.6428571428571429"
      ]
     },
     "execution_count": 12,
     "metadata": {},
     "output_type": "execute_result"
    }
   ],
   "source": [
    "# Compare with master solution\n",
    "9/14\n"
   ]
  },
  {
   "cell_type": "code",
   "execution_count": null,
   "metadata": {},
   "outputs": [],
   "source": []
  },
  {
   "cell_type": "code",
   "execution_count": null,
   "metadata": {},
   "outputs": [],
   "source": []
  }
 ],
 "metadata": {
  "kernelspec": {
   "display_name": "Python 3",
   "language": "python",
   "name": "python3"
  },
  "language_info": {
   "codemirror_mode": {
    "name": "ipython",
    "version": 3
   },
   "file_extension": ".py",
   "mimetype": "text/x-python",
   "name": "python",
   "nbconvert_exporter": "python",
   "pygments_lexer": "ipython3",
   "version": "3.6.5"
  }
 },
 "nbformat": 4,
 "nbformat_minor": 2
}
