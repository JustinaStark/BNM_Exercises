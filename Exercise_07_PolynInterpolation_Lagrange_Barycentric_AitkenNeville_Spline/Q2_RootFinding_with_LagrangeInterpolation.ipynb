{
 "cells": [
  {
   "cell_type": "code",
   "execution_count": 1,
   "metadata": {},
   "outputs": [],
   "source": [
    "import numpy as np\n",
    "from fractions import Fraction"
   ]
  },
  {
   "cell_type": "code",
   "execution_count": 2,
   "metadata": {},
   "outputs": [],
   "source": [
    "x = [1.9, 2.3, 3.2, 4.0]\n",
    "y = [-3.0, -1.0, 2.0, 4.0]"
   ]
  },
  {
   "cell_type": "code",
   "execution_count": 3,
   "metadata": {},
   "outputs": [],
   "source": [
    "def lagrange_polynomial_basis(x, i, q):\n",
    "    \"\"\"\n",
    "    Input:\n",
    "    x = list of collocation points\n",
    "    i = 0, 1, ..., n, where n = degree of polynomial and n+1 = numb. of collocation points used for interpolation (len of x)\n",
    "    q = scalar query point for which function value should be interpolated\n",
    "    \n",
    "    Return:\n",
    "    Basis function for lagrange polynomial\n",
    "    \"\"\"\n",
    "    nominator   = np.prod([(q - x[j]) for j in range(len(x)) if j != i])\n",
    "    denominator = np.prod([(x[i] - x[j]) for j in range(len(x)) if j != i])\n",
    "    print(\"l_\",i, \"(\", q, \") = \", nominator/denominator)\n",
    "    return nominator/denominator\n",
    "\n",
    "\n",
    "\n",
    "def lagrange_interpolation(x, f, q):\n",
    "    \"\"\"\n",
    "    Input:\n",
    "    x = list of collocation points\n",
    "    f = list function values corresponding to x\n",
    "    q = scalar query point for which function value should be interpolated\n",
    "   \n",
    "    Return:\n",
    "    Lagrange interpolation at q\n",
    "    \"\"\"\n",
    "    assert (len(x) == len(f))\n",
    "    \n",
    "    l = [lagrange_polynomial_basis(x, i, q) for i in range(len(x))] # Get the basis functions\n",
    "    Ln = sum( [ f[i] * l[i] for i in range(len(x)) ] ) # Weighted sum up the basis functions\n",
    "    \n",
    "    print(\"Ln(\", q, \") = \", Ln)\n",
    "    return Ln"
   ]
  },
  {
   "cell_type": "code",
   "execution_count": 4,
   "metadata": {},
   "outputs": [
    {
     "name": "stdout",
     "output_type": "stream",
     "text": [
      "l_ 0 ( 0 ) =  -0.11428571428571428\n",
      "l_ 1 ( 0 ) =  0.8\n",
      "l_ 2 ( 0 ) =  0.4\n",
      "l_ 3 ( 0 ) =  -0.08571428571428572\n",
      "Ln( 0 ) =  2.56\n"
     ]
    },
    {
     "data": {
      "text/plain": [
       "2.56"
      ]
     },
     "execution_count": 4,
     "metadata": {},
     "output_type": "execute_result"
    }
   ],
   "source": [
    "# Finding the root: \n",
    "# Construct the Lagrange Polynomial using y as reference points and x as reference values (switching coordinate axes)\n",
    "# Evaluate at q = 0\n",
    "q = 0\n",
    "lagrange_interpolation(y, x, q)"
   ]
  },
  {
   "cell_type": "code",
   "execution_count": 5,
   "metadata": {},
   "outputs": [
    {
     "data": {
      "text/plain": [
       "(-0.11428571428571428, 0.8, -0.4, -0.08571428571428572)"
      ]
     },
     "execution_count": 5,
     "metadata": {},
     "output_type": "execute_result"
    }
   ],
   "source": [
    "# Compare with master solution\n",
    "-4/35, 4/5, -2/5, -3/35"
   ]
  },
  {
   "cell_type": "code",
   "execution_count": null,
   "metadata": {},
   "outputs": [],
   "source": []
  }
 ],
 "metadata": {
  "kernelspec": {
   "display_name": "Python 3",
   "language": "python",
   "name": "python3"
  },
  "language_info": {
   "codemirror_mode": {
    "name": "ipython",
    "version": 3
   },
   "file_extension": ".py",
   "mimetype": "text/x-python",
   "name": "python",
   "nbconvert_exporter": "python",
   "pygments_lexer": "ipython3",
   "version": "3.6.5"
  }
 },
 "nbformat": 4,
 "nbformat_minor": 2
}
