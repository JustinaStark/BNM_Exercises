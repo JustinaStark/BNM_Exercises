{
 "cells": [
  {
   "cell_type": "code",
   "execution_count": 1,
   "metadata": {},
   "outputs": [],
   "source": [
    "import numpy as np\n",
    "import matplotlib.pyplot as plt\n",
    "import sys\n",
    "# insert at 1, 0 is the script path (or '' in REPL)\n",
    "sys.path.insert(1, '/Users/jstark/Desktop/TUD_classes/BNM/Exercise/Exercise_10')\n",
    "import RK_solvers"
   ]
  },
  {
   "cell_type": "code",
   "execution_count": 2,
   "metadata": {},
   "outputs": [],
   "source": [
    "def adams_bashforth(y, n, h, f):\n",
    "    # Return the solution to for the next time step n+1\n",
    "    return y[n] + h/12 * (23 * f(y[n]) - 16 * f(y[n-1]) + 5 * f(y[n-2]))\n",
    "\n",
    "def multi_stepper(initial_tp, integrationMethod, h, t0, tf, f):\n",
    "    # The array/list initial_tp must contain the r initial solutions\n",
    "    if len(np.shape(initial_tp)) > 1:\n",
    "        r, m = np.shape(initial_tp)\n",
    "    else:\n",
    "        m = 1\n",
    "        r = len(initial_tp)\n",
    "    # Number of time steps to be computed\n",
    "    N = round((tf-t0) / h)\n",
    "    time = np.arange(t0, N*h, h)\n",
    "    # Initialize empty array for the N solutions\n",
    "    y = np.zeros([N, m])\n",
    "    # Copy the r initial values to the solution array\n",
    "    for i in range(r):\n",
    "        y[i] = initial_tp[i]\n",
    "    for n in range(r-1, N-1):\n",
    "        y[n+1] = integrationMethod(y, n, h, f)\n",
    "    return time, y"
   ]
  },
  {
   "cell_type": "code",
   "execution_count": 3,
   "metadata": {},
   "outputs": [],
   "source": [
    "def predator_prey_model(X):\n",
    "    # b: birth-rate of prey, d: death-rate of predator, c: contact-rate predator prey\n",
    "    b = 1; d = 10; c = 1;\n",
    "    # x1: prey concentration, x2: predator concentration\n",
    "    x1 = X[0]; x2 = X[1];\n",
    "    # System of ODE acc. to predator-prey model\n",
    "    dx1 =  b*x1 - c*x1*x2\n",
    "    dx2 = -d*x2 + c*x1*x2\n",
    "    # return change in the concentrations of prey and predator \n",
    "    return np.array(dx1, dx2)"
   ]
  },
  {
   "cell_type": "code",
   "execution_count": 4,
   "metadata": {},
   "outputs": [],
   "source": [
    "h = 0.01\n",
    "t0 = 0\n",
    "tf = 100\n",
    "starting_values = np.array([[0.5, 1.0], [0.50023020652423, 0.90937363770619], [0.50089337004375, 0.82696413439848]])"
   ]
  },
  {
   "cell_type": "code",
   "execution_count": 5,
   "metadata": {},
   "outputs": [],
   "source": [
    "time, y = multi_stepper(starting_values, adams_bashforth, h, t0, tf, predator_prey_model)"
   ]
  },
  {
   "cell_type": "code",
   "execution_count": 6,
   "metadata": {},
   "outputs": [
    {
     "data": {
      "image/png": "[encoded data removed]",
      "text/plain": [
       "<Figure size 432x288 with 1 Axes>"
      ]
     },
     "metadata": {},
     "output_type": "display_data"
    }
   ],
   "source": [
    "plt.plot(time, y)\n",
    "None"
   ]
  },
  {
   "cell_type": "markdown",
   "metadata": {},
   "source": [
    "# Testing the multistepper"
   ]
  },
  {
   "cell_type": "code",
   "execution_count": 7,
   "metadata": {},
   "outputs": [],
   "source": [
    "def test_func(y):\n",
    "    return -1 * y\n",
    "    \n",
    "\n",
    "def test_sol(y0, t):\n",
    "    return y0 * np.exp(-1 * t)"
   ]
  },
  {
   "cell_type": "code",
   "execution_count": 8,
   "metadata": {},
   "outputs": [
    {
     "data": {
      "image/png": "[encoded data removed]",
      "text/plain": [
       "<Figure size 432x288 with 1 Axes>"
      ]
     },
     "metadata": {},
     "output_type": "display_data"
    }
   ],
   "source": [
    "# Initial values\n",
    "y0 = np.array([10])\n",
    "\n",
    "# Parameters\n",
    "t0 = 0\n",
    "tf = 4\n",
    "h  = 0.1\n",
    "\n",
    "\n",
    "N  = round((tf-t0) / h) \n",
    "time = np.arange(t0, N*h, h)\n",
    "\n",
    "test_solution= test_sol(y0, time)\n",
    "\n",
    "r = 3\n",
    "test_initial_values = [test_solution[i] for i in range(r)]\n",
    "\n",
    "time, test_y = multi_stepper(test_initial_values, adams_bashforth, h, t0, tf, test_func)\n",
    "\n",
    "plt.plot(time, test_solution)\n",
    "plt.plot(time, test_y[:, 0], \"*\")\n",
    "plt.legend([\"Analytical solution\", \"Adams-Bashforth\"])\n",
    "plt.title(\"Test function: exponential decay\")\n",
    "None"
   ]
  },
  {
   "cell_type": "code",
   "execution_count": null,
   "metadata": {},
   "outputs": [],
   "source": []
  },
  {
   "cell_type": "code",
   "execution_count": null,
   "metadata": {},
   "outputs": [],
   "source": []
  },
  {
   "cell_type": "code",
   "execution_count": null,
   "metadata": {},
   "outputs": [],
   "source": []
  },
  {
   "cell_type": "code",
   "execution_count": 37,
   "metadata": {},
   "outputs": [],
   "source": [
    "A_RK4=np.array([[0,0,0],[0.5,0,0],[0,0.5,0],[0,0,1]])\n",
    "b_RK4=np.array([1/6.,1/3.,1/3.,1/6.])\n",
    "c_RK4=np.array([0,1/2.,1/2.,1])"
   ]
  },
  {
   "cell_type": "code",
   "execution_count": 38,
   "metadata": {},
   "outputs": [
    {
     "data": {
      "text/plain": [
       "[<matplotlib.lines.Line2D at 0x7f7f2e403fd0>,\n",
       " <matplotlib.lines.Line2D at 0x7f7f2e6d1898>]"
      ]
     },
     "execution_count": 38,
     "metadata": {},
     "output_type": "execute_result"
    },
    {
     "data": {
      "image/png": "[encoded data removed]",
      "text/plain": [
       "<Figure size 432x288 with 1 Axes>"
      ]
     },
     "metadata": {},
     "output_type": "display_data"
    }
   ],
   "source": [
    "time, y_all_timesteps = RK_solvers.rk_time_stepper(starting_values[0], A_RK4, b_RK4, c_RK4, h, t0, tf, predator_prey_model)\n",
    "\n",
    "plt.plot(time, y_all_timesteps)"
   ]
  },
  {
   "cell_type": "code",
   "execution_count": null,
   "metadata": {},
   "outputs": [],
   "source": []
  }
 ],
 "metadata": {
  "kernelspec": {
   "display_name": "Python 3",
   "language": "python",
   "name": "python3"
  },
  "language_info": {
   "codemirror_mode": {
    "name": "ipython",
    "version": 3
   },
   "file_extension": ".py",
   "mimetype": "text/x-python",
   "name": "python",
   "nbconvert_exporter": "python",
   "pygments_lexer": "ipython3",
   "version": "3.6.5"
  }
 },
 "nbformat": 4,
 "nbformat_minor": 2
}
