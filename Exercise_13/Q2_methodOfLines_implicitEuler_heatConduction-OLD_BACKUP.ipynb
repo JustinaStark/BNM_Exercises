{
 "cells": [
  {
   "cell_type": "code",
   "execution_count": 32,
   "metadata": {},
   "outputs": [],
   "source": [
    "import numpy as np\n",
    "import matplotlib.pyplot as plt\n"
   ]
  },
  {
   "cell_type": "code",
   "execution_count": 2,
   "metadata": {},
   "outputs": [],
   "source": [
    "# def implicit_euler(y0, h, f):\n",
    "    "
   ]
  },
  {
   "cell_type": "code",
   "execution_count": 3,
   "metadata": {},
   "outputs": [],
   "source": [
    "def fixed_point_iteration(yn, yn_plus1_init, h, f, integrator, RTOL, ATOL):\n",
    "    y_k = yn_plus1_init\n",
    "    repeat = 1\n",
    "    i = 0\n",
    "    while(repeat):\n",
    "        i += 1\n",
    "        print(\"\\nFixed point iteration \", i)\n",
    "        y_kplus1 = integrator(yn, y_k, h, f)\n",
    "        if abs(y_kplus1 - y_k) <= RTOL*y_k + ATOL:\n",
    "            repeat = 0\n",
    "            return y_kplus1\n",
    "        y_k = y_kplus1\n",
    "    \n",
    "\n",
    "\n",
    "def implicit_stepper(y0, h, f, t0, tf, integrator, RTOL, ATOL):\n",
    "    N    = int((tf - t0) / h)\n",
    "    time = np.arange(t0, N*h, h)\n",
    "    \n",
    "    y    = np.zeros(N)\n",
    "    y[0] = y0 # I.C.\n",
    "    \n",
    "    for n in range(N-1):\n",
    "        y[n+1] = y[n] + h * f(y[n]) # 1 Euler step to compute an initial y_nplus1_k for fixed-point-iteration\n",
    "        y[n+1] = fixed_point_iteration(y[n], y[n+1], h, f, integrator, RTOL, ATOL)\n",
    "\n",
    "    return time, y\n",
    "    "
   ]
  },
  {
   "cell_type": "code",
   "execution_count": 36,
   "metadata": {},
   "outputs": [],
   "source": [
    "from scipy.sparse import diags\n",
    "from scipy.linalg import lu\n",
    "\n",
    "def implicit_euler_parabolicPde(x, ic, bc, t0, tf, dt, additional_term=0):\n",
    "    # x: space discretizing array, ic: initial conditions u(0,x), bc: boundary conditions e.g. u(t,0), u(t,N)\n",
    "    # t0, tf: start/end time of simulation, additional_term: optional if term is added on RHS\n",
    "    \n",
    "    n    = len(x) # number of space dicretizing points\n",
    "    dx   = (x[-1] - x[0]) / (n-1) # space stepsize\n",
    "    time = np.arange(t0, tf+dt, dt) # time discretizing array (lines)\n",
    "    un   = np.zeros([len(time), len(x)]) # initialize array for solutions\n",
    "    un[0]= ic # fill solution column of initial time with I.C. given\n",
    "    \n",
    "    # Entries in tridiagonal matrix A corresponding to the stencil weights of 1D implicit Euler\n",
    "    c = dt / (dx**2)\n",
    "    d = 1 + 2*c\n",
    "\n",
    "    # Build tridiagonal matrix with stencil weights\n",
    "    k      = np.array([-c*np.ones(n-1),d*np.ones(n),-c*np.ones(n-1)])\n",
    "    offset = [-1,0,1]\n",
    "    A      = diags(k,offset).toarray() # Stencil weight matrix\n",
    "        \n",
    "    # LU decomposition of A in order to solve system of linear equation\n",
    "    P, L, U = lu(A)\n",
    "#     np.allclose(A - p @ l @ u, np.zeros((n, n))) # returns True is P*L*U = A\n",
    "    \n",
    "    \n",
    "    for t in range(0, len(time)):\n",
    "        b       = un[t] + c * bc + additional_term # RHS\n",
    "        # Solve system of linear equation for next time point u_n+1 using the lower and upper triangular matrix of A\n",
    "        c       = np.linalg.solve(L, P@b) # fwd subst. \n",
    "        un[t+1] = np.linalg.solve(U, c)      # bwd subst.\n",
    "    \n",
    "    \n",
    "    return un"
   ]
  },
  {
   "cell_type": "code",
   "execution_count": 8,
   "metadata": {},
   "outputs": [],
   "source": [
    "from scipy.sparse import diags\n",
    "\n",
    "dt = 0.001\n",
    "dx = 0.1\n",
    "c = dt / (dx**2)\n",
    "d = 1 + 2*c\n",
    "\n",
    "n = 5\n",
    "k = np.array([-c*np.ones(n-1),d*np.ones(n),-c*np.ones(n-1)])\n",
    "offset = [-1,0,1]\n",
    "A = diags(k,offset).toarray()"
   ]
  },
  {
   "cell_type": "code",
   "execution_count": 25,
   "metadata": {},
   "outputs": [
    {
     "data": {
      "text/plain": [
       "True"
      ]
     },
     "execution_count": 25,
     "metadata": {},
     "output_type": "execute_result"
    }
   ],
   "source": [
    "from scipy.linalg import lu\n",
    "n = np.shape(A)[0]\n",
    "P, L, U = lu(A)\n",
    "np.allclose(A - p @ l @ u, np.zeros((n, n)))"
   ]
  },
  {
   "cell_type": "code",
   "execution_count": 16,
   "metadata": {},
   "outputs": [],
   "source": [
    "N = 4\n",
    "leftBound = 0.0; rightBound = 1.0;\n",
    "dx = (rightBound - leftBound) / N\n",
    "x = np.arange(0, 1+dx, dx)"
   ]
  },
  {
   "cell_type": "code",
   "execution_count": 17,
   "metadata": {},
   "outputs": [
    {
     "data": {
      "text/plain": [
       "array([0.  , 0.25, 0.5 , 0.75, 1.  ])"
      ]
     },
     "execution_count": 17,
     "metadata": {},
     "output_type": "execute_result"
    }
   ],
   "source": [
    "x"
   ]
  },
  {
   "cell_type": "code",
   "execution_count": 20,
   "metadata": {},
   "outputs": [],
   "source": [
    "u0     = np.zeros(len(x)) # I.C.\n",
    "bc     = np.zeros(len(x)) # B.C.\n",
    "bc[0]  = 0\n",
    "bc[-1] = 0"
   ]
  },
  {
   "cell_type": "code",
   "execution_count": 21,
   "metadata": {},
   "outputs": [],
   "source": [
    "b = u0 + c * bc + np.cos(2 * np.pi * x)"
   ]
  },
  {
   "cell_type": "code",
   "execution_count": null,
   "metadata": {},
   "outputs": [],
   "source": []
  },
  {
   "cell_type": "code",
   "execution_count": 31,
   "metadata": {},
   "outputs": [],
   "source": []
  },
  {
   "cell_type": "code",
   "execution_count": 30,
   "metadata": {},
   "outputs": [
    {
     "data": {
      "text/plain": [
       "array([ 8.33333333e-01,  3.49370882e-17, -8.33333333e-01, -1.74694044e-16,\n",
       "        8.33333333e-01])"
      ]
     },
     "execution_count": 30,
     "metadata": {},
     "output_type": "execute_result"
    }
   ],
   "source": [
    "un"
   ]
  }
 ],
 "metadata": {
  "kernelspec": {
   "display_name": "Python 3",
   "language": "python",
   "name": "python3"
  },
  "language_info": {
   "codemirror_mode": {
    "name": "ipython",
    "version": 3
   },
   "file_extension": ".py",
   "mimetype": "text/x-python",
   "name": "python",
   "nbconvert_exporter": "python",
   "pygments_lexer": "ipython3",
   "version": "3.6.5"
  }
 },
 "nbformat": 4,
 "nbformat_minor": 2
}
