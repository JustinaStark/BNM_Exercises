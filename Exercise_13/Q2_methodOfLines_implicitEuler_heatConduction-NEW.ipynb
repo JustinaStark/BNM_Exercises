{
 "cells": [
  {
   "cell_type": "code",
   "execution_count": 96,
   "metadata": {},
   "outputs": [],
   "source": [
    "import numpy as np\n",
    "import matplotlib.pyplot as plt"
   ]
  },
  {
   "cell_type": "code",
   "execution_count": 409,
   "metadata": {},
   "outputs": [],
   "source": [
    "from scipy.sparse import diags\n",
    "from scipy.linalg import lu\n",
    "\n",
    "def implicit_euler_parabolicPde(x, ic, bc, t0, tf, dt, beta=1, additional_term=0):\n",
    "    # x: space discretizing array, ic: initial conditions u(0,x), bc: boundary conditions e.g. u(t,0), u(t,N)\n",
    "    # t0, tf: start/end time of simulation, additional_term: optional if term is added on RHS\n",
    "    \n",
    "    n    = len(x) # number of space dicretizing points including 2 boundary nodes (1 per side)\n",
    "    dx   = (x[-1] - x[0]) / (n-1) # space stepsize\n",
    "    time = np.arange(t0, tf+dt, dt) # time discretizing array (lines)\n",
    "    \n",
    "    un   = np.zeros([len(time), len(x)-2]) # initialize array for solutions of inner nodes\n",
    "    un[0]= ic[1:-1] # fill column of initial time of the inner nodes with I.C.\n",
    "    \n",
    "    \n",
    "    bc_adder = np.zeros(len(x)-2) # vector with the B.C. that will be added to RHS\n",
    "    bc_adder[0]  = bc[0]\n",
    "    bc_adder[-1] = bc[-1]\n",
    "    \n",
    "    # Entries in tridiagonal matrix A corresponding to the stencil weights of 1D implicit Euler\n",
    "    c = beta * dt / (dx**2)\n",
    "    d = 1 + 2*c\n",
    "\n",
    "    # Build tridiagonal matrix with stencil weights\n",
    "    k      = np.array([-c*np.ones(n-3),d*np.ones(n-2),-c*np.ones(n-3)])\n",
    "    offset = [-1,0,1]\n",
    "    A      = diags(k,offset).toarray() # Stencil weight matrix for implicit Euler \n",
    "    print(\"A = \", A)\n",
    "        \n",
    "    # LU decomposition of A in order to solve system of linear equation\n",
    "    P, L, U = lu(A)\n",
    "#     np.allclose(A - p @ l @ u, np.zeros((n, n))) # returns True is P*L*U = A\n",
    "    \n",
    "    \n",
    "    for t in range(0, len(time)-1):\n",
    "        print(\"np.shape(A) = \", np.shape(A))\n",
    "        print(\"len(un) = \",len(un[0]))\n",
    "#         print(\"np.shape(un[t, 1:-2]) = \", np.shape(un[t, 1:-2]))\n",
    "#         print(\"np.shape(bc_adder) = \", np.shape(bc_adder)\n",
    "        b       = un[t] + c * bc_adder + additional_term[1:-1] # RHS\n",
    "        # Solve system of linear equation for next time point u_n+1 using the lower and upper triangular matrix of A\n",
    "#         c       = np.linalg.solve(L, P@b) # fwd subst. \n",
    "#         un[t+1] = np.linalg.solve(U, c)      # bwd subst.\n",
    "    \n",
    "        un[t+1] = np.linalg.solve(A, b)\n",
    "    return time, un # arrays discretizing time, inner nodes of space"
   ]
  },
  {
   "cell_type": "code",
   "execution_count": 422,
   "metadata": {},
   "outputs": [],
   "source": [
    "dt = dx**2\n",
    "dx = 0.01\n",
    "t0 = 0\n",
    "tf = 100*dt\n",
    "\n",
    "leftBound = 0.0; rightBound = 10.0;\n",
    "x = np.arange(leftBound, rightBound+dx, dx)"
   ]
  },
  {
   "cell_type": "code",
   "execution_count": 423,
   "metadata": {},
   "outputs": [],
   "source": [
    "# x"
   ]
  },
  {
   "cell_type": "code",
   "execution_count": 424,
   "metadata": {},
   "outputs": [],
   "source": [
    "def gauss(x, mu, sigma):\n",
    "    return 1/(sigma * np.sqrt(2*np.pi)) * np.exp(- 0.5 * (x-mu)*(x-mu) / (sigma**2) )"
   ]
  },
  {
   "cell_type": "code",
   "execution_count": 425,
   "metadata": {},
   "outputs": [],
   "source": [
    "mu = (x[-1] - x[0]) / 2\n",
    "sigma = len(x) / 4"
   ]
  },
  {
   "cell_type": "code",
   "execution_count": 426,
   "metadata": {},
   "outputs": [],
   "source": [
    "bc     = np.zeros(len(x)) # B.C.\n",
    "bc[0]  = 0\n",
    "bc[-1] = 0\n",
    "\n",
    "# Exercise\n",
    "additional_term = np.cos(2 * np.pi * x)\n",
    "coefficient = 1\n",
    "ic     = np.zeros(len(x)) # I.C.\n",
    "\n",
    "# Diffusion\n",
    "# additional_term = 0\n",
    "# coefficient = 1e-2\n",
    "# ic = gauss(x, mu, sigma)"
   ]
  },
  {
   "cell_type": "code",
   "execution_count": 427,
   "metadata": {},
   "outputs": [],
   "source": [
    "# plt.plot(x, ic)"
   ]
  },
  {
   "cell_type": "code",
   "execution_count": 428,
   "metadata": {},
   "outputs": [
    {
     "name": "stdout",
     "output_type": "stream",
     "text": [
      "A =  [[ 201. -100.    0. ...    0.    0.    0.]\n",
      " [-100.  201. -100. ...    0.    0.    0.]\n",
      " [   0. -100.  201. ...    0.    0.    0.]\n",
      " ...\n",
      " [   0.    0.    0. ...  201. -100.    0.]\n",
      " [   0.    0.    0. ... -100.  201. -100.]\n",
      " [   0.    0.    0. ...    0. -100.  201.]]\n",
      "np.shape(A) =  (999, 999)\n",
      "len(un) =  999\n",
      "np.shape(A) =  (999, 999)\n",
      "len(un) =  999\n",
      "np.shape(A) =  (999, 999)\n",
      "len(un) =  999\n",
      "np.shape(A) =  (999, 999)\n",
      "len(un) =  999\n",
      "np.shape(A) =  (999, 999)\n",
      "len(un) =  999\n",
      "np.shape(A) =  (999, 999)\n",
      "len(un) =  999\n",
      "np.shape(A) =  (999, 999)\n",
      "len(un) =  999\n",
      "np.shape(A) =  (999, 999)\n",
      "len(un) =  999\n",
      "np.shape(A) =  (999, 999)\n",
      "len(un) =  999\n",
      "np.shape(A) =  (999, 999)\n",
      "len(un) =  999\n",
      "np.shape(A) =  (999, 999)\n",
      "len(un) =  999\n",
      "np.shape(A) =  (999, 999)\n",
      "len(un) =  999\n",
      "np.shape(A) =  (999, 999)\n",
      "len(un) =  999\n",
      "np.shape(A) =  (999, 999)\n",
      "len(un) =  999\n",
      "np.shape(A) =  (999, 999)\n",
      "len(un) =  999\n",
      "np.shape(A) =  (999, 999)\n",
      "len(un) =  999\n",
      "np.shape(A) =  (999, 999)\n",
      "len(un) =  999\n",
      "np.shape(A) =  (999, 999)\n",
      "len(un) =  999\n",
      "np.shape(A) =  (999, 999)\n",
      "len(un) =  999\n",
      "np.shape(A) =  (999, 999)\n",
      "len(un) =  999\n",
      "np.shape(A) =  (999, 999)\n",
      "len(un) =  999\n",
      "np.shape(A) =  (999, 999)\n",
      "len(un) =  999\n",
      "np.shape(A) =  (999, 999)\n",
      "len(un) =  999\n",
      "np.shape(A) =  (999, 999)\n",
      "len(un) =  999\n",
      "np.shape(A) =  (999, 999)\n",
      "len(un) =  999\n",
      "np.shape(A) =  (999, 999)\n",
      "len(un) =  999\n",
      "np.shape(A) =  (999, 999)\n",
      "len(un) =  999\n",
      "np.shape(A) =  (999, 999)\n",
      "len(un) =  999\n",
      "np.shape(A) =  (999, 999)\n",
      "len(un) =  999\n",
      "np.shape(A) =  (999, 999)\n",
      "len(un) =  999\n",
      "np.shape(A) =  (999, 999)\n",
      "len(un) =  999\n",
      "np.shape(A) =  (999, 999)\n",
      "len(un) =  999\n",
      "np.shape(A) =  (999, 999)\n",
      "len(un) =  999\n",
      "np.shape(A) =  (999, 999)\n",
      "len(un) =  999\n",
      "np.shape(A) =  (999, 999)\n",
      "len(un) =  999\n",
      "np.shape(A) =  (999, 999)\n",
      "len(un) =  999\n",
      "np.shape(A) =  (999, 999)\n",
      "len(un) =  999\n",
      "np.shape(A) =  (999, 999)\n",
      "len(un) =  999\n",
      "np.shape(A) =  (999, 999)\n",
      "len(un) =  999\n",
      "np.shape(A) =  (999, 999)\n",
      "len(un) =  999\n",
      "np.shape(A) =  (999, 999)\n",
      "len(un) =  999\n",
      "np.shape(A) =  (999, 999)\n",
      "len(un) =  999\n",
      "np.shape(A) =  (999, 999)\n",
      "len(un) =  999\n",
      "np.shape(A) =  (999, 999)\n",
      "len(un) =  999\n",
      "np.shape(A) =  (999, 999)\n",
      "len(un) =  999\n",
      "np.shape(A) =  (999, 999)\n",
      "len(un) =  999\n",
      "np.shape(A) =  (999, 999)\n",
      "len(un) =  999\n",
      "np.shape(A) =  (999, 999)\n",
      "len(un) =  999\n",
      "np.shape(A) =  (999, 999)\n",
      "len(un) =  999\n",
      "np.shape(A) =  (999, 999)\n",
      "len(un) =  999\n",
      "np.shape(A) =  (999, 999)\n",
      "len(un) =  999\n",
      "np.shape(A) =  (999, 999)\n",
      "len(un) =  999\n",
      "np.shape(A) =  (999, 999)\n",
      "len(un) =  999\n",
      "np.shape(A) =  (999, 999)\n",
      "len(un) =  999\n",
      "np.shape(A) =  (999, 999)\n",
      "len(un) =  999\n",
      "np.shape(A) =  (999, 999)\n",
      "len(un) =  999\n",
      "np.shape(A) =  (999, 999)\n",
      "len(un) =  999\n",
      "np.shape(A) =  (999, 999)\n",
      "len(un) =  999\n",
      "np.shape(A) =  (999, 999)\n",
      "len(un) =  999\n",
      "np.shape(A) =  (999, 999)\n",
      "len(un) =  999\n",
      "np.shape(A) =  (999, 999)\n",
      "len(un) =  999\n",
      "np.shape(A) =  (999, 999)\n",
      "len(un) =  999\n",
      "np.shape(A) =  (999, 999)\n",
      "len(un) =  999\n",
      "np.shape(A) =  (999, 999)\n",
      "len(un) =  999\n",
      "np.shape(A) =  (999, 999)\n",
      "len(un) =  999\n",
      "np.shape(A) =  (999, 999)\n",
      "len(un) =  999\n",
      "np.shape(A) =  (999, 999)\n",
      "len(un) =  999\n",
      "np.shape(A) =  (999, 999)\n",
      "len(un) =  999\n",
      "np.shape(A) =  (999, 999)\n",
      "len(un) =  999\n",
      "np.shape(A) =  (999, 999)\n",
      "len(un) =  999\n",
      "np.shape(A) =  (999, 999)\n",
      "len(un) =  999\n",
      "np.shape(A) =  (999, 999)\n",
      "len(un) =  999\n",
      "np.shape(A) =  (999, 999)\n",
      "len(un) =  999\n",
      "np.shape(A) =  (999, 999)\n",
      "len(un) =  999\n",
      "np.shape(A) =  (999, 999)\n",
      "len(un) =  999\n",
      "np.shape(A) =  (999, 999)\n",
      "len(un) =  999\n",
      "np.shape(A) =  (999, 999)\n",
      "len(un) =  999\n",
      "np.shape(A) =  (999, 999)\n",
      "len(un) =  999\n",
      "np.shape(A) =  (999, 999)\n",
      "len(un) =  999\n",
      "np.shape(A) =  (999, 999)\n",
      "len(un) =  999\n",
      "np.shape(A) =  (999, 999)\n",
      "len(un) =  999\n",
      "np.shape(A) =  (999, 999)\n",
      "len(un) =  999\n",
      "np.shape(A) =  (999, 999)\n",
      "len(un) =  999\n",
      "np.shape(A) =  (999, 999)\n",
      "len(un) =  999\n",
      "np.shape(A) =  (999, 999)\n",
      "len(un) =  999\n",
      "np.shape(A) =  (999, 999)\n",
      "len(un) =  999\n",
      "np.shape(A) =  (999, 999)\n",
      "len(un) =  999\n",
      "np.shape(A) =  (999, 999)\n",
      "len(un) =  999\n",
      "np.shape(A) =  (999, 999)\n",
      "len(un) =  999\n",
      "np.shape(A) =  (999, 999)\n",
      "len(un) =  999\n",
      "np.shape(A) =  (999, 999)\n",
      "len(un) =  999\n",
      "np.shape(A) =  (999, 999)\n",
      "len(un) =  999\n",
      "np.shape(A) =  (999, 999)\n",
      "len(un) =  999\n",
      "np.shape(A) =  (999, 999)\n",
      "len(un) =  999\n",
      "np.shape(A) =  (999, 999)\n",
      "len(un) =  999\n",
      "np.shape(A) =  (999, 999)\n",
      "len(un) =  999\n",
      "np.shape(A) =  (999, 999)\n",
      "len(un) =  999\n",
      "np.shape(A) =  (999, 999)\n",
      "len(un) =  999\n",
      "np.shape(A) =  (999, 999)\n",
      "len(un) =  999\n",
      "np.shape(A) =  (999, 999)\n",
      "len(un) =  999\n"
     ]
    }
   ],
   "source": [
    "time, un = implicit_euler_parabolicPde(x, ic, bc, t0, tf, dt, coefficient, additional_term)"
   ]
  },
  {
   "cell_type": "code",
   "execution_count": 429,
   "metadata": {},
   "outputs": [
    {
     "data": {
      "text/plain": [
       "101"
      ]
     },
     "execution_count": 429,
     "metadata": {},
     "output_type": "execute_result"
    }
   ],
   "source": [
    "len(un)"
   ]
  },
  {
   "cell_type": "code",
   "execution_count": 431,
   "metadata": {},
   "outputs": [
    {
     "data": {
      "image/png": "[encoded data removed]",
      "text/plain": [
       "<Figure size 432x288 with 1 Axes>"
      ]
     },
     "metadata": {},
     "output_type": "display_data"
    }
   ],
   "source": [
    "plt.plot(x[6:-6], un[0, 5:-5])\n",
    "plt.plot(x[6:-6], un[1, 5:-5])\n",
    "# plt.plot(x[1:-1], un[0])\n",
    "plt.plot(x[6:-6], un[100, 5:-5])\n",
    "# plt.plot(x[1:-1], un[20, 1:-1])\n",
    "# plt.plot(x[1:-1], un[30, 1:-1])\n",
    "# plt.plot(x, un[3])\n",
    "# plt.plot(x, un[7])\n",
    "# plt.plot(x[1:-1], un[-1, 1:-1])\n",
    "None"
   ]
  },
  {
   "cell_type": "code",
   "execution_count": 419,
   "metadata": {},
   "outputs": [
    {
     "data": {
      "text/plain": [
       "array([0., 0., 0., 0., 0., 0., 0., 0., 0., 0., 0., 0., 0., 0., 0., 0., 0.,\n",
       "       0., 0., 0., 0., 0., 0., 0., 0., 0., 0., 0., 0., 0., 0., 0., 0., 0.,\n",
       "       0., 0., 0., 0., 0., 0., 0., 0., 0., 0., 0., 0., 0., 0., 0., 0., 0.,\n",
       "       0., 0., 0., 0., 0., 0., 0., 0., 0., 0., 0., 0., 0., 0., 0., 0., 0.,\n",
       "       0., 0., 0., 0., 0., 0., 0., 0., 0., 0., 0., 0., 0., 0., 0., 0., 0.,\n",
       "       0., 0., 0., 0., 0., 0., 0., 0., 0., 0., 0., 0., 0., 0.])"
      ]
     },
     "execution_count": 419,
     "metadata": {},
     "output_type": "execute_result"
    }
   ],
   "source": [
    "un[0]"
   ]
  },
  {
   "cell_type": "code",
   "execution_count": 420,
   "metadata": {},
   "outputs": [
    {
     "data": {
      "text/plain": [
       "[<matplotlib.lines.Line2D at 0x7f9a3e03d1d0>]"
      ]
     },
     "execution_count": 420,
     "metadata": {},
     "output_type": "execute_result"
    },
    {
     "data": {
      "image/png": "[encoded data removed]",
      "text/plain": [
       "<Figure size 432x288 with 1 Axes>"
      ]
     },
     "metadata": {},
     "output_type": "display_data"
    }
   ],
   "source": [
    "plt.plot(x[1:-1], abs(un[-1] - un[0]))"
   ]
  },
  {
   "cell_type": "code",
   "execution_count": null,
   "metadata": {},
   "outputs": [],
   "source": []
  },
  {
   "cell_type": "code",
   "execution_count": null,
   "metadata": {},
   "outputs": [],
   "source": [
    "##"
   ]
  },
  {
   "cell_type": "code",
   "execution_count": null,
   "metadata": {},
   "outputs": [],
   "source": []
  }
 ],
 "metadata": {
  "kernelspec": {
   "display_name": "Python 3",
   "language": "python",
   "name": "python3"
  },
  "language_info": {
   "codemirror_mode": {
    "name": "ipython",
    "version": 3
   },
   "file_extension": ".py",
   "mimetype": "text/x-python",
   "name": "python",
   "nbconvert_exporter": "python",
   "pygments_lexer": "ipython3",
   "version": "3.6.5"
  }
 },
 "nbformat": 4,
 "nbformat_minor": 2
}
