{
 "cells": [
  {
   "cell_type": "code",
   "execution_count": 1,
   "metadata": {},
   "outputs": [],
   "source": [
    "import numpy as np"
   ]
  },
  {
   "cell_type": "code",
   "execution_count": 2,
   "metadata": {},
   "outputs": [],
   "source": [
    "# System of non-linear equations --> 2D Newton\n",
    "def f1(v):\n",
    "    x=v[0]; y=v[1];\n",
    "    return np.exp(x * y) + x*x + y - 1.4\n",
    "\n",
    "def f2(v):\n",
    "    x=v[0]; y=v[1];\n",
    "    return x*x + y*y + x - 0.46"
   ]
  },
  {
   "cell_type": "code",
   "execution_count": 3,
   "metadata": {},
   "outputs": [],
   "source": [
    "# Partial derivatives\n",
    "def df1dx(v):\n",
    "    x=v[0]; y=v[1];\n",
    "    return y*np.exp(x * y) + 2*x\n",
    "\n",
    "def df1dy(v):\n",
    "    x=v[0]; y=v[1];\n",
    "    return x*np.exp(x * y) + 1\n",
    "\n",
    "def df2dx(v):\n",
    "    x=v[0]; y=v[1];\n",
    "    return 2*x + 1\n",
    "\n",
    "def df2dy(v):\n",
    "    x=v[0]; y=v[1];\n",
    "    return 2*y"
   ]
  },
  {
   "cell_type": "code",
   "execution_count": 4,
   "metadata": {},
   "outputs": [],
   "source": [
    "def jacobian(*args):\n",
    "    n = int(np.sqrt(len(args)))\n",
    "    assert(n % 1 == 0)\n",
    "    J = np.zeros((n, n))\n",
    "    for i in range(n):\n",
    "        for j in range(n):\n",
    "            J[i, j] = args[i*n + j]\n",
    "    return J\n",
    "    "
   ]
  },
  {
   "cell_type": "code",
   "execution_count": 5,
   "metadata": {},
   "outputs": [
    {
     "data": {
      "text/plain": [
       "(0.4714027581601701, 0.45)"
      ]
     },
     "execution_count": 5,
     "metadata": {},
     "output_type": "execute_result"
    }
   ],
   "source": [
    "x0 = 0.5\n",
    "y0 = 0.4\n",
    "v0 = np.array([x0, y0])\n",
    "f1(v0), f2(v0)"
   ]
  },
  {
   "cell_type": "code",
   "execution_count": 6,
   "metadata": {},
   "outputs": [
    {
     "name": "stdout",
     "output_type": "stream",
     "text": [
      "J = \n",
      " [[1.4885611  1.61070138]\n",
      " [2.         0.8       ]]\n"
     ]
    }
   ],
   "source": [
    "J = jacobian(df1dx(v0), df1dy(v0), df2dx(v0), df2dy(v0))\n",
    "print(\"J = \\n\", J)"
   ]
  },
  {
   "cell_type": "code",
   "execution_count": 7,
   "metadata": {},
   "outputs": [
    {
     "data": {
      "text/plain": [
       "(2, 2)"
      ]
     },
     "execution_count": 7,
     "metadata": {},
     "output_type": "execute_result"
    }
   ],
   "source": [
    "J.shape"
   ]
  },
  {
   "cell_type": "code",
   "execution_count": 8,
   "metadata": {},
   "outputs": [],
   "source": [
    "def twoD_Newton(x0, F, RTOL, ATOL):\n",
    "    \"\"\"\n",
    "    2-dimensional Newton Method: \n",
    "    x0: starting vector cont. 2 elems.\n",
    "    F : iteration function taking a vector of 2 elems and returning 2 function values\n",
    "    \n",
    "    \"\"\"\n",
    "    xk = x0\n",
    "    i = 0\n",
    "    repeat = 1\n",
    "    while (repeat):\n",
    "        i+=1\n",
    "        print(\"iteration = \", i)\n",
    "        \n",
    "        J       = jacobian(df1dx(xk), df1dy(xk), df2dx(xk), df2dy(xk)) # Update Jacobi matrix with current xk\n",
    "        Delta   = np.linalg.solve(J, -F(xk)) # Solve for the next step-vector to be taken\n",
    "        print(\"Delta = \", Delta)\n",
    "        xkplus1 = xk + Delta # 1 Step of fixed point iteration\n",
    "        \n",
    "        print(\"xk = \", xk, \", xk+1 = \", xkplus1, \"\\n\")\n",
    "        if ((np.abs(xkplus1 - xk) <= abs(xkplus1) * RTOL + ATOL)).all:\n",
    "            print(\"Convergence to x = \", xkplus1)\n",
    "            repeat = 0\n",
    "            return xkplus1\n",
    "        \n",
    "        xk = xkplus1        \n",
    "    "
   ]
  },
  {
   "cell_type": "code",
   "execution_count": 9,
   "metadata": {},
   "outputs": [],
   "source": [
    "def F(x):\n",
    "    return np.array([f1(x), f2(x)])"
   ]
  },
  {
   "cell_type": "code",
   "execution_count": 11,
   "metadata": {},
   "outputs": [
    {
     "name": "stdout",
     "output_type": "stream",
     "text": [
      "iteration =  1\n",
      "Delta =  [-0.17123082 -0.13442294]\n",
      "xk =  [0.5 0.4] , xk+1 =  [0.32876918 0.26557706] \n",
      "\n",
      "Convergence to x =  [0.32876918 0.26557706]\n"
     ]
    },
    {
     "data": {
      "text/plain": [
       "array([0.32876918, 0.26557706])"
      ]
     },
     "execution_count": 11,
     "metadata": {},
     "output_type": "execute_result"
    }
   ],
   "source": [
    "RTOL = 1e-6\n",
    "ATOL = 1e-6\n",
    "v0   = np.array([x0, y0])\n",
    "twoD_Newton(v0, F, RTOL, ATOL)"
   ]
  },
  {
   "cell_type": "code",
   "execution_count": null,
   "metadata": {},
   "outputs": [],
   "source": []
  },
  {
   "cell_type": "markdown",
   "metadata": {},
   "source": [
    "# One 2D-Newton step \"By Hand\""
   ]
  },
  {
   "cell_type": "code",
   "execution_count": 15,
   "metadata": {},
   "outputs": [
    {
     "data": {
      "text/plain": [
       "array([ 0.        , -1.36410516])"
      ]
     },
     "execution_count": 15,
     "metadata": {},
     "output_type": "execute_result"
    }
   ],
   "source": [
    "J_tilde_row2 = J[1] - J[0] * J[1,0]/J[0,0]\n",
    "J_tilde_row2"
   ]
  },
  {
   "cell_type": "code",
   "execution_count": 24,
   "metadata": {},
   "outputs": [
    {
     "data": {
      "text/plain": [
       "0.1833670242041036"
      ]
     },
     "execution_count": 24,
     "metadata": {},
     "output_type": "execute_result"
    }
   ],
   "source": [
    "f2_tilde = -f2(v0) - (-f1(v0)) * J[1,0]/J[0,0]\n",
    "f2_tilde"
   ]
  },
  {
   "cell_type": "code",
   "execution_count": 25,
   "metadata": {},
   "outputs": [
    {
     "data": {
      "text/plain": [
       "-0.1344229390504218"
      ]
     },
     "execution_count": 25,
     "metadata": {},
     "output_type": "execute_result"
    }
   ],
   "source": [
    "d2 = f2_tilde / J_tilde_row2[1]\n",
    "d2"
   ]
  },
  {
   "cell_type": "code",
   "execution_count": 27,
   "metadata": {},
   "outputs": [
    {
     "data": {
      "text/plain": [
       "-0.17123082437983125"
      ]
     },
     "execution_count": 27,
     "metadata": {},
     "output_type": "execute_result"
    }
   ],
   "source": [
    "d1 = (-f1(v0) - J[0,1]*d2) / J[0,0]\n",
    "d1"
   ]
  },
  {
   "cell_type": "code",
   "execution_count": 28,
   "metadata": {},
   "outputs": [
    {
     "data": {
      "text/plain": [
       "array([0.32876918, 0.26557706])"
      ]
     },
     "execution_count": 28,
     "metadata": {},
     "output_type": "execute_result"
    }
   ],
   "source": [
    "Delta = np.array([d1, d2])\n",
    "v1 = v0 + Delta\n",
    "v1"
   ]
  },
  {
   "cell_type": "code",
   "execution_count": null,
   "metadata": {},
   "outputs": [],
   "source": []
  }
 ],
 "metadata": {
  "kernelspec": {
   "display_name": "Python 3",
   "language": "python",
   "name": "python3"
  },
  "language_info": {
   "codemirror_mode": {
    "name": "ipython",
    "version": 3
   },
   "file_extension": ".py",
   "mimetype": "text/x-python",
   "name": "python",
   "nbconvert_exporter": "python",
   "pygments_lexer": "ipython3",
   "version": "3.6.5"
  }
 },
 "nbformat": 4,
 "nbformat_minor": 2
}
