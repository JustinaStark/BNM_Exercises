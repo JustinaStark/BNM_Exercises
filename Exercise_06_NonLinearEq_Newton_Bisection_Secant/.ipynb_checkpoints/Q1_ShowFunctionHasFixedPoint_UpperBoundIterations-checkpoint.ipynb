{
 "cells": [
  {
   "cell_type": "code",
   "execution_count": 1,
   "metadata": {},
   "outputs": [],
   "source": [
    "import numpy as np\n",
    "import matplotlib.pyplot as plt"
   ]
  },
  {
   "cell_type": "markdown",
   "metadata": {},
   "source": [
    "# Graphically show that function has a fixed point in the given interval"
   ]
  },
  {
   "cell_type": "code",
   "execution_count": 18,
   "metadata": {},
   "outputs": [],
   "source": [
    "def f(x):\n",
    "    \"\"\"\n",
    "    Function for which we should show that it has a unique fixed point in the interval I=[a, b]\n",
    "    \"\"\"\n",
    "    y = 2 * np.exp(-x/2)\n",
    "    return y"
   ]
  },
  {
   "cell_type": "code",
   "execution_count": 21,
   "metadata": {},
   "outputs": [
    {
     "data": {
      "image/png": "[encoded data removed]",
      "text/plain": [
       "<Figure size 432x288 with 1 Axes>"
      ]
     },
     "metadata": {},
     "output_type": "display_data"
    }
   ],
   "source": [
    "a = 0.8; b = 1.4\n",
    "x = np.arange(a,b, 0.1)\n",
    "plt.plot(x, f(x)) # y=f(x) for x in I=[a,b]\n",
    "plt.plot(x, x)    # y=x\n",
    "None"
   ]
  },
  {
   "cell_type": "markdown",
   "metadata": {},
   "source": [
    "# Show that f maps I onto itself: \n",
    "# Monotonically decreasing and f(a) and f(b) are contained in I"
   ]
  },
  {
   "cell_type": "code",
   "execution_count": 15,
   "metadata": {},
   "outputs": [
    {
     "data": {
      "text/plain": [
       "(1.3406400920712787, 0.993170607582819)"
      ]
     },
     "execution_count": 15,
     "metadata": {},
     "output_type": "execute_result"
    }
   ],
   "source": [
    "f(0.8), f(1.4)"
   ]
  },
  {
   "cell_type": "markdown",
   "metadata": {},
   "source": [
    "# Show that f is a contracion map: \n",
    "# |F'(x)| is a monotonically decreasing function and therefore has it's maximum at x=a"
   ]
  },
  {
   "cell_type": "code",
   "execution_count": 14,
   "metadata": {},
   "outputs": [],
   "source": [
    "def dF(x):\n",
    "    return -np.exp(-x/2)"
   ]
  },
  {
   "cell_type": "code",
   "execution_count": 22,
   "metadata": {},
   "outputs": [
    {
     "data": {
      "image/png": "[encoded data removed]",
      "text/plain": [
       "<Figure size 432x288 with 1 Axes>"
      ]
     },
     "metadata": {},
     "output_type": "display_data"
    }
   ],
   "source": [
    "plt.plot(x, abs(dF(x)))\n",
    "None"
   ]
  },
  {
   "cell_type": "code",
   "execution_count": 25,
   "metadata": {},
   "outputs": [
    {
     "data": {
      "text/plain": [
       "0.6703200460356393"
      ]
     },
     "execution_count": 25,
     "metadata": {},
     "output_type": "execute_result"
    }
   ],
   "source": [
    "# Show that the maximum value of |F'(x)| < 1 --> F is a contraction map\n",
    "abs(dF(a))"
   ]
  },
  {
   "cell_type": "markdown",
   "metadata": {},
   "source": [
    "# Find maximum number of iterations required to reach an abs. error of 1e-6"
   ]
  },
  {
   "cell_type": "code",
   "execution_count": 28,
   "metadata": {},
   "outputs": [
    {
     "name": "stdout",
     "output_type": "stream",
     "text": [
      "Upper bound on iterations needed for an absolute error of  1e-06 is n =  37.0\n"
     ]
    }
   ],
   "source": [
    "# |x* - xn| <= L**n / (1-L) * |x1 - x0|\n",
    "\n",
    "# Use: \n",
    "# max(e0) = max(|x1 - x0|) = |b - a|\n",
    "# Lmax = max(|F'(x)|) = |F'(a)|\n",
    "# final error en = |x* - xn| = 1e-6\n",
    "\n",
    "en   = 1e-6\n",
    "e0   = abs(b-a)\n",
    "Lmax = abs(dF(a))\n",
    "\n",
    "n = np.log((en / e0) * (1-Lmax)) / np.log(Lmax)\n",
    "print(\"Upper bound on iterations needed for an absolute error of \", en, \"is n = \", np.ceil(n))\n"
   ]
  },
  {
   "cell_type": "code",
   "execution_count": null,
   "metadata": {},
   "outputs": [],
   "source": []
  }
 ],
 "metadata": {
  "kernelspec": {
   "display_name": "Python 3",
   "language": "python",
   "name": "python3"
  },
  "language_info": {
   "codemirror_mode": {
    "name": "ipython",
    "version": 3
   },
   "file_extension": ".py",
   "mimetype": "text/x-python",
   "name": "python",
   "nbconvert_exporter": "python",
   "pygments_lexer": "ipython3",
   "version": "3.6.5"
  }
 },
 "nbformat": 4,
 "nbformat_minor": 2
}
