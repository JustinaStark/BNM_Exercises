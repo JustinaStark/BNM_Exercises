{
 "cells": [
  {
   "cell_type": "code",
   "execution_count": 1,
   "metadata": {},
   "outputs": [],
   "source": [
    "import numpy as np\n",
    "from math import sin, cos\n",
    "import matplotlib.pyplot as plt"
   ]
  },
  {
   "cell_type": "code",
   "execution_count": 25,
   "metadata": {},
   "outputs": [],
   "source": [
    "# Kepler's equation\n",
    "def kepler(x, e, t):\n",
    "    y = x - e * sin(x) - t\n",
    "    return y\n",
    "\n",
    "def dkepler(x, e, t):\n",
    "    y = 1 - e * cos(x)\n",
    "    return y"
   ]
  },
  {
   "cell_type": "code",
   "execution_count": 34,
   "metadata": {},
   "outputs": [],
   "source": [
    "def newton_method(x0, F, dF, RTOL, ATOL, *args):\n",
    "    \"\"\"\n",
    "    Newton's Method: \n",
    "    Fixed point iteration to find root x* of F for a starting value x0 close enough to x*\n",
    "    \"\"\"\n",
    "    xk = x0\n",
    "    i = 0\n",
    "    repeat = 1\n",
    "    while (repeat):\n",
    "        i+=1\n",
    "        print(\"iteration = \", i)\n",
    "        \n",
    "        xkplus1 = xk - F(xk, *args) / dF(xk, *args) # 1 Step of fixed point iteration\n",
    "        \n",
    "        print(\"xk = \", xk, \", xk+1 = \", xkplus1, \"\\n\")\n",
    "        if (np.abs(xkplus1 - xk) <= abs(xkplus1) * RTOL + ATOL):\n",
    "            print(\"Convergence to x = \", xkplus1)\n",
    "            repeat = 0\n",
    "            return xkplus1\n",
    "        \n",
    "        xk = xkplus1        "
   ]
  },
  {
   "cell_type": "code",
   "execution_count": 35,
   "metadata": {},
   "outputs": [
    {
     "name": "stdout",
     "output_type": "stream",
     "text": [
      "iteration =  1\n",
      "xk =  0.7 , xk+1 =  0.6390359124760184 \n",
      "\n",
      "iteration =  2\n",
      "xk =  0.6390359124760184 , xk+1 =  0.638347826754796 \n",
      "\n",
      "iteration =  3\n",
      "xk =  0.638347826754796 , xk+1 =  0.6383477435758264 \n",
      "\n",
      "iteration =  4\n",
      "xk =  0.6383477435758264 , xk+1 =  0.638347743575825 \n",
      "\n",
      "Convergence to x =  0.638347743575825\n"
     ]
    }
   ],
   "source": [
    "x0 = 0.7\n",
    "e = 0.4\n",
    "t = 0.4\n",
    "tol = 1e-15\n",
    "xkplus1 = newton_method(x0, kepler, dkepler, tol, tol, e, t)"
   ]
  },
  {
   "cell_type": "code",
   "execution_count": 39,
   "metadata": {},
   "outputs": [
    {
     "data": {
      "text/plain": [
       "True"
      ]
     },
     "execution_count": 39,
     "metadata": {},
     "output_type": "execute_result"
    }
   ],
   "source": [
    "# Check if solution found by Newton mtehod is a root of kepler's equation for the given params\n",
    "abs(kepler(xkplus1, e, t)) < tol"
   ]
  },
  {
   "cell_type": "code",
   "execution_count": 40,
   "metadata": {},
   "outputs": [
    {
     "data": {
      "image/png": "[encoded data removed]",
      "text/plain": [
       "<Figure size 432x288 with 1 Axes>"
      ]
     },
     "metadata": {},
     "output_type": "display_data"
    }
   ],
   "source": [
    "x = np.arange(0, 1, 0.1)\n",
    "y = [kepler(x[i], e, t) for i in range(len(x))]\n",
    "plt.plot(x, y)\n",
    "None"
   ]
  },
  {
   "cell_type": "code",
   "execution_count": null,
   "metadata": {},
   "outputs": [],
   "source": []
  }
 ],
 "metadata": {
  "kernelspec": {
   "display_name": "Python 3",
   "language": "python",
   "name": "python3"
  },
  "language_info": {
   "codemirror_mode": {
    "name": "ipython",
    "version": 3
   },
   "file_extension": ".py",
   "mimetype": "text/x-python",
   "name": "python",
   "nbconvert_exporter": "python",
   "pygments_lexer": "ipython3",
   "version": "3.6.5"
  }
 },
 "nbformat": 4,
 "nbformat_minor": 2
}
