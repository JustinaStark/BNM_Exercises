{
 "cells": [
  {
   "cell_type": "code",
   "execution_count": 1,
   "metadata": {},
   "outputs": [],
   "source": [
    "import numpy as np\n",
    "import matplotlib.pyplot as plt"
   ]
  },
  {
   "cell_type": "code",
   "execution_count": 77,
   "metadata": {},
   "outputs": [],
   "source": [
    "# Bisection method\n",
    "def bisection_method(a, b, f, ATOL):\n",
    "    if (f(a) * f(b) > 0):\n",
    "        print(\"Choose larger interval.\")\n",
    "        return -1\n",
    "    repeat = 1\n",
    "    k = 0\n",
    "    while(repeat):\n",
    "        k += 1\n",
    "        m = 0.5 * (a + b)\n",
    "        if (abs(f(m)) < ATOL):\n",
    "            print(\"Converged at Bisection iteration \", k, \": [a, b] = [\", a, \", \", b, \"]\")\n",
    "            repeat = 0\n",
    "            return m\n",
    "        elif (f(a) * f(m) < 0):\n",
    "            b = m\n",
    "        else:\n",
    "            a = m\n",
    "        print(\"Bisection iteration \", k, \": [a, b] = [\", a, \", \", b, \"]\")"
   ]
  },
  {
   "cell_type": "code",
   "execution_count": 78,
   "metadata": {},
   "outputs": [],
   "source": [
    "# Secant method\n",
    "def secant_method(x0, x1, f, RTOL, ATOL):\n",
    "    k = 0\n",
    "    repeat = 1\n",
    "    while (repeat):\n",
    "        k = k+1\n",
    "        x2 = (x0 * f(x1) - x1 * f(x0)) / (f(x1) - f(x0))\n",
    "        print(\"Secant iteration \", k, \": [a, b] = [\", x1, \", \", x2, \"]\")\n",
    "        if (abs(x2 - x1) <= abs(x1) * RTOL + ATOL):\n",
    "            print(\"Converged at Secant iteration \", k, \": [a, b] = [\", x1, \", \", x2, \"]\")\n",
    "            repeat = 0\n",
    "            return x2\n",
    "        x0 = x1\n",
    "        x1 = x2"
   ]
  },
  {
   "cell_type": "code",
   "execution_count": 79,
   "metadata": {},
   "outputs": [],
   "source": [
    "# 1D Newton method\n",
    "def newton_method(x0, f, df, RTOL, ATOL):\n",
    "    k = 0\n",
    "    repeat = 1\n",
    "    xk = x0\n",
    "    while (repeat):\n",
    "        k += 1\n",
    "        xkplus1 = xk - f(xk) / df(xk)\n",
    "        print(\"Newton iteration \", k, \": xk = \", xk)\n",
    "        if (abs(xkplus1 - xk) <= abs(xkplus1) * RTOL + ATOL):\n",
    "            print(\"Converged at Newton iteration \", k, \": xk = \", xk)\n",
    "            repeat = 0\n",
    "            return xkplus1\n",
    "        xk = xkplus1\n",
    "        "
   ]
  },
  {
   "cell_type": "code",
   "execution_count": 80,
   "metadata": {},
   "outputs": [],
   "source": [
    "def func1(x):\n",
    "    return (x - 2 + np.log(x))\n",
    "def func2(x):\n",
    "    return ((x-1) * (x+1) * (x+2))\n",
    "\n",
    "def dfunc1(x):\n",
    "    return (1 + (1/x))\n",
    "def dfunc2(x):\n",
    "    return (3*x*x + 4*x -1)"
   ]
  },
  {
   "cell_type": "code",
   "execution_count": 81,
   "metadata": {},
   "outputs": [
    {
     "name": "stderr",
     "output_type": "stream",
     "text": [
      "/Applications/miniconda3/lib/python3.6/site-packages/ipykernel_launcher.py:2: RuntimeWarning: invalid value encountered in log\n",
      "  \n"
     ]
    },
    {
     "data": {
      "image/png": "[encoded data removed]",
      "text/plain": [
       "<Figure size 432x288 with 1 Axes>"
      ]
     },
     "metadata": {},
     "output_type": "display_data"
    }
   ],
   "source": [
    "x = np.arange(a0-1, b0+1, 0.001)\n",
    "# plt.plot(x[-int(len(x)/2)], func1(x[-int(len(x)/2)]))\n",
    "plt.plot(x, func1(x))\n",
    "plt.plot(x, func2(x))\n",
    "None"
   ]
  },
  {
   "cell_type": "code",
   "execution_count": 82,
   "metadata": {},
   "outputs": [],
   "source": [
    "# When choosing a large interval, the search converges faster when applying bisection/secant prior to Newton\n",
    "# When the interval is already very small and the starting point is close to the root, one bisection/secant doesn't help so much\n",
    "# a0   = -0.9\n",
    "# b0   = 1.1\n",
    "a0 = -3\n",
    "b0 = 3\n",
    "\n",
    "tol0 = 3\n",
    "tol  = 1e-10"
   ]
  },
  {
   "cell_type": "code",
   "execution_count": 83,
   "metadata": {},
   "outputs": [
    {
     "name": "stdout",
     "output_type": "stream",
     "text": [
      "Converged at Bisection iteration  1 : [a, b] = [ -3 ,  3 ]\n",
      "Newton iteration  1 : xk =  0.0\n",
      "Newton iteration  2 : xk =  -2.0\n",
      "Converged at Newton iteration  2 : xk =  -2.0\n"
     ]
    }
   ],
   "source": [
    "x_bisection = bisection_method(a0, b0, func2, tol0)\n",
    "x_newton = newton_method(x_bisection, func2, dfunc2, tol, tol)"
   ]
  },
  {
   "cell_type": "code",
   "execution_count": 84,
   "metadata": {},
   "outputs": [
    {
     "name": "stdout",
     "output_type": "stream",
     "text": [
      "Secant iteration  1 : [a, b] = [ 3 ,  -2.0 ]\n",
      "Converged at Secant iteration  1 : [a, b] = [ 3 ,  -2.0 ]\n",
      "Newton iteration  1 : xk =  -2.0\n",
      "Converged at Newton iteration  1 : xk =  -2.0\n"
     ]
    }
   ],
   "source": [
    "x_secant = secant_method(a0, b0, func2, tol0, tol0)\n",
    "x_newton = newton_method(x_secant, func2, dfunc2, tol, tol)"
   ]
  },
  {
   "cell_type": "code",
   "execution_count": 85,
   "metadata": {},
   "outputs": [
    {
     "name": "stdout",
     "output_type": "stream",
     "text": [
      "Newton iteration  1 : xk =  -3\n",
      "Newton iteration  2 : xk =  -2.428571428571429\n",
      "Newton iteration  3 : xk =  -2.1278195488721803\n",
      "Newton iteration  4 : xk =  -2.0170764446870137\n",
      "Newton iteration  5 : xk =  -2.0003749431439752\n",
      "Newton iteration  6 : xk =  -2.0000001872909996\n",
      "Newton iteration  7 : xk =  -2.0000000000000466\n",
      "Converged at Newton iteration  7 : xk =  -2.0000000000000466\n"
     ]
    }
   ],
   "source": [
    "xk = newton_method(-3, func2, dfunc2, tol, tol)"
   ]
  },
  {
   "cell_type": "code",
   "execution_count": null,
   "metadata": {},
   "outputs": [],
   "source": []
  },
  {
   "cell_type": "code",
   "execution_count": null,
   "metadata": {},
   "outputs": [],
   "source": []
  },
  {
   "cell_type": "code",
   "execution_count": null,
   "metadata": {},
   "outputs": [],
   "source": []
  },
  {
   "cell_type": "code",
   "execution_count": null,
   "metadata": {},
   "outputs": [],
   "source": []
  },
  {
   "cell_type": "code",
   "execution_count": null,
   "metadata": {},
   "outputs": [],
   "source": []
  },
  {
   "cell_type": "code",
   "execution_count": null,
   "metadata": {},
   "outputs": [],
   "source": []
  },
  {
   "cell_type": "code",
   "execution_count": 99,
   "metadata": {},
   "outputs": [
    {
     "data": {
      "text/plain": [
       "[<matplotlib.lines.Line2D at 0x7ff9c82bbf28>]"
      ]
     },
     "execution_count": 99,
     "metadata": {},
     "output_type": "execute_result"
    },
    {
     "data": {
      "image/png": "[encoded data removed]",
      "text/plain": [
       "<Figure size 432x288 with 1 Axes>"
      ]
     },
     "metadata": {},
     "output_type": "display_data"
    }
   ],
   "source": [
    "x = np.arange(0.1, 100, 0.1)\n",
    "plt.plot(x, func2(x))"
   ]
  },
  {
   "cell_type": "code",
   "execution_count": 39,
   "metadata": {},
   "outputs": [],
   "source": [
    "# a0   = -0.9\n",
    "# b0   = 1.1\n",
    "a0 = 0.1\n",
    "b0 = 3\n",
    "\n",
    "tol0 = 3\n",
    "tol  = 1e-10"
   ]
  },
  {
   "cell_type": "code",
   "execution_count": 40,
   "metadata": {},
   "outputs": [
    {
     "name": "stdout",
     "output_type": "stream",
     "text": [
      "Secant iteration  1 : [a, b] = [ 3 ,  2.0341556900202775 ]\n",
      "Newton iteration  1 : xk =  2.0341556900202775\n",
      "Newton iteration  2 : xk =  1.5352053645261359\n",
      "Newton iteration  3 : xk =  1.557084341457021\n",
      "Newton iteration  4 : xk =  1.557145598526395\n",
      "Newton iteration  5 : xk =  1.5571455989976115\n"
     ]
    }
   ],
   "source": [
    "x_secant = secant_method(a0, b0, func1, tol0, tol0)\n",
    "x_newton = newton_method(x_secant, func1, dfunc1, tol, tol)"
   ]
  },
  {
   "cell_type": "code",
   "execution_count": 44,
   "metadata": {},
   "outputs": [
    {
     "name": "stdout",
     "output_type": "stream",
     "text": [
      "Bisection iteration  0 : [a, b] = [ 0.1 ,  3 ]\n",
      "Newton iteration  1 : xk =  1.55\n",
      "Newton iteration  2 : xk =  1.557139159630082\n",
      "Newton iteration  3 : xk =  1.5571455989924046\n"
     ]
    }
   ],
   "source": [
    "x_bisection = bisection_method(a0, b0, func1, tol0)\n",
    "x_newton = newton_method(x_bisection, func1, dfunc1, tol, tol)"
   ]
  },
  {
   "cell_type": "code",
   "execution_count": 45,
   "metadata": {},
   "outputs": [
    {
     "name": "stdout",
     "output_type": "stream",
     "text": [
      "Newton iteration  1 : xk =  0.1\n",
      "Newton iteration  2 : xk =  0.48205319027218596\n",
      "Newton iteration  3 : xk =  1.213123921436944\n",
      "Newton iteration  4 : xk =  1.5385481412074138\n",
      "Newton iteration  5 : xk =  1.5571016753461604\n",
      "Newton iteration  6 : xk =  1.5571455987553446\n"
     ]
    }
   ],
   "source": [
    "x_newton = newton_method(a0, func1, dfunc1, tol, tol)"
   ]
  },
  {
   "cell_type": "code",
   "execution_count": null,
   "metadata": {},
   "outputs": [],
   "source": []
  },
  {
   "cell_type": "code",
   "execution_count": null,
   "metadata": {},
   "outputs": [],
   "source": []
  }
 ],
 "metadata": {
  "kernelspec": {
   "display_name": "Python 3",
   "language": "python",
   "name": "python3"
  },
  "language_info": {
   "codemirror_mode": {
    "name": "ipython",
    "version": 3
   },
   "file_extension": ".py",
   "mimetype": "text/x-python",
   "name": "python",
   "nbconvert_exporter": "python",
   "pygments_lexer": "ipython3",
   "version": "3.6.5"
  }
 },
 "nbformat": 4,
 "nbformat_minor": 2
}
