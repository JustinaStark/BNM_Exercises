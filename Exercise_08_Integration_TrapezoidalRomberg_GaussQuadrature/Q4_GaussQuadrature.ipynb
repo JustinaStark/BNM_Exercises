{
 "cells": [
  {
   "cell_type": "code",
   "execution_count": 1,
   "metadata": {},
   "outputs": [],
   "source": [
    "import numpy as np"
   ]
  },
  {
   "cell_type": "code",
   "execution_count": 2,
   "metadata": {},
   "outputs": [],
   "source": [
    "def get_Q(w, f):\n",
    "    \"\"\"\n",
    "    Gauss quadrature: integral as convolution operation\n",
    "    Input:\n",
    "    w: weights\n",
    "    f: function values at collocation points of change-of-interval function \n",
    "    \"\"\"\n",
    "    assert(len(w) == len(f))\n",
    "    N = len(f)\n",
    "    Q = sum([ w[j] * f[j] for j in range(N)])\n",
    "    print(\"Q = \", Q)\n",
    "    return Q"
   ]
  },
  {
   "cell_type": "code",
   "execution_count": 3,
   "metadata": {},
   "outputs": [],
   "source": [
    "def func_changeOfInterval(a, b, x, g):\n",
    "    \"\"\"\n",
    "    Change of interval [a, b] to [-1, 1] by change of variables\n",
    "    \n",
    "    Input: \n",
    "    a: lower bound of original interval\n",
    "    b: upper bound of original interval\n",
    "    x: (array of) collocation points\n",
    "    g: original integrand\n",
    "    \n",
    "    Return:\n",
    "    function value of the change-of-variables-integrand\n",
    "    for the interval [-1, 1]\n",
    "\n",
    "    \"\"\"\n",
    "    t  = (b-a)/2 * x + (a+b)/2  # Change of variable\n",
    "    fj = g(t) * (b-a)/2         # New integrand\n",
    "    print(\"f = \", fj)\n",
    "    return fj"
   ]
  },
  {
   "cell_type": "markdown",
   "metadata": {},
   "source": [
    "# Things to change when using this notebook:\n",
    "- the original function that we want to integrate: func_orig\n",
    "- the list of collocation points x\n",
    "- the list of corresponding weights w\n",
    "- the interval bounds: a, b"
   ]
  },
  {
   "cell_type": "code",
   "execution_count": 4,
   "metadata": {},
   "outputs": [],
   "source": [
    "def func_orig(x):\n",
    "    \"\"\"\n",
    "    The original function that we want to intergrate\n",
    "    \"\"\"\n",
    "    return 1 / (1 + np.cos(x)**2)"
   ]
  },
  {
   "cell_type": "code",
   "execution_count": 5,
   "metadata": {},
   "outputs": [],
   "source": [
    "### Mind the minus sign when mirroring the collocation points!!! ################\n",
    "x = np.array([-0.90617985, -0.53846931,  0, 0.53846931, 0.90617985]) # collocation points (= roots of legendre polyn.)\n",
    "\n",
    "w = np.array([0.23692689, 0.47862867, 0.56888889, 0.47862867, 0.23692689]) # weights"
   ]
  },
  {
   "cell_type": "markdown",
   "metadata": {},
   "source": [
    "# a) Gauss quadrature single interval"
   ]
  },
  {
   "cell_type": "code",
   "execution_count": 6,
   "metadata": {},
   "outputs": [
    {
     "name": "stdout",
     "output_type": "stream",
     "text": [
      "f =  [0.79395775 1.00673973 1.57079633 1.00673973 0.79395775]\n",
      "Q =  2.233537457500136\n"
     ]
    }
   ],
   "source": [
    "a = 0\n",
    "b = np.pi\n",
    "f = func_changeOfInterval(a, b, x, func_orig)\n",
    "Q = get_Q(w, f)"
   ]
  },
  {
   "cell_type": "markdown",
   "metadata": {},
   "source": [
    "# b) Gauss quadrature 3 sub-intervals"
   ]
  },
  {
   "cell_type": "code",
   "execution_count": 7,
   "metadata": {},
   "outputs": [
    {
     "name": "stdout",
     "output_type": "stream",
     "text": [
      "f =  [0.2621154  0.26951702 0.2991993  0.35381572 0.40473595]\n",
      "Q =  0.6265510923839734\n"
     ]
    }
   ],
   "source": [
    "a = 0\n",
    "b = 1/3 * np.pi\n",
    "f = func_changeOfInterval(a, b, x, func_orig)\n",
    "Q1 = get_Q(w, f)"
   ]
  },
  {
   "cell_type": "code",
   "execution_count": 8,
   "metadata": {},
   "outputs": [
    {
     "name": "stdout",
     "output_type": "stream",
     "text": [
      "f =  [0.43318046 0.48598042 0.52359878 0.48598042 0.43318046]\n",
      "Q =  0.9683420519867346\n"
     ]
    }
   ],
   "source": [
    "a = 1/3 * np.pi\n",
    "b = 2/3 * np.pi\n",
    "f = func_changeOfInterval(a, b, x, func_orig)\n",
    "Q2 = get_Q(w, f)"
   ]
  },
  {
   "cell_type": "code",
   "execution_count": 9,
   "metadata": {},
   "outputs": [
    {
     "name": "stdout",
     "output_type": "stream",
     "text": [
      "f =  [0.40473595 0.35381572 0.2991993  0.26951702 0.2621154 ]\n",
      "Q =  0.6265510923839737\n"
     ]
    }
   ],
   "source": [
    "a = 2/3 * np.pi\n",
    "b = np.pi\n",
    "f = func_changeOfInterval(a, b, x, func_orig)\n",
    "Q3 = get_Q(w, f)"
   ]
  },
  {
   "cell_type": "code",
   "execution_count": 10,
   "metadata": {},
   "outputs": [
    {
     "name": "stdout",
     "output_type": "stream",
     "text": [
      "Q5* =  2.2214442367546816\n"
     ]
    }
   ],
   "source": [
    "Qsum = Q1 + Q2 + Q3\n",
    "print(\"Q5* = \", Qsum)"
   ]
  },
  {
   "cell_type": "code",
   "execution_count": null,
   "metadata": {},
   "outputs": [],
   "source": []
  },
  {
   "cell_type": "code",
   "execution_count": null,
   "metadata": {},
   "outputs": [],
   "source": []
  },
  {
   "cell_type": "code",
   "execution_count": null,
   "metadata": {},
   "outputs": [],
   "source": []
  }
 ],
 "metadata": {
  "kernelspec": {
   "display_name": "Python 3",
   "language": "python",
   "name": "python3"
  },
  "language_info": {
   "codemirror_mode": {
    "name": "ipython",
    "version": 3
   },
   "file_extension": ".py",
   "mimetype": "text/x-python",
   "name": "python",
   "nbconvert_exporter": "python",
   "pygments_lexer": "ipython3",
   "version": "3.6.5"
  }
 },
 "nbformat": 4,
 "nbformat_minor": 2
}
