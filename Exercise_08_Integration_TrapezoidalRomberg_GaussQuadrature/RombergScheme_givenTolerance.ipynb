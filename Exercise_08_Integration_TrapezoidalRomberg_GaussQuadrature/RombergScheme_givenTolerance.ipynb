{
 "cells": [
  {
   "cell_type": "code",
   "execution_count": 1,
   "metadata": {},
   "outputs": [],
   "source": [
    "import numpy as np\n",
    "import math"
   ]
  },
  {
   "cell_type": "code",
   "execution_count": 2,
   "metadata": {},
   "outputs": [],
   "source": [
    "def trapezoidal(a, b, f, number_of_iterations):\n",
    "    T_all = []\n",
    "    # Iteration 0 -> T0\n",
    "    h = (b - a) \n",
    "    s = 0.5 * (f(a) + f(b))\n",
    "    T = h * s\n",
    "    N = 0\n",
    "    T_all.append(T)\n",
    "    # Iteration 1 until max_iter\n",
    "    for i in range(1, number_of_iterations):\n",
    "        h = h / 2.0\n",
    "        s = s + sum([f(a + (2*j + 1) * h) for j in range(N+1)])\n",
    "        T = h * s\n",
    "        N = 2*N + 1\n",
    "        T_all.append(T)\n",
    "    return T_all\n",
    "        "
   ]
  },
  {
   "cell_type": "code",
   "execution_count": 62,
   "metadata": {},
   "outputs": [],
   "source": [
    "def romberg(a, b, f, RTOL, ATOL):\n",
    "    cols   = 2\n",
    "    repeat = 1\n",
    "    while(repeat):\n",
    "        rows = cols\n",
    "        R = np.zeros((rows, cols))\n",
    "        R[:, 0] = trapezoidal(a, b, f, rows) # Compute 1st column of Romberg scheme: Ti for row i=0, 1, ..., imax\n",
    "        for k in range(1, cols):\n",
    "            for i in range(k, rows):\n",
    "                R[i, k] = ( R[i, k-1] - 4**(-k) * R[i-1, k-1] ) / ( 1 - 4**(-k)) # Compute the other cols by combining results from the respective previous col\n",
    "        print(\"\\nR for imax = \", cols, \":\\n\", R)\n",
    "\n",
    "        # Check if tolerance met and return if that's the case\n",
    "        if (abs(R[-1, -1] - R[-2, -2]) <= abs(R[-1, -1])*RTOL + ATOL):\n",
    "            repeat = 0\n",
    "            print(\"\\nFor the given tolerance, Romberg Method converged at imax = \", cols, \" \\nto final approx. R = \", R[-1, -1])\n",
    "            return R\n",
    "\n",
    "        # Else if error above tolerance, repeat Richardson extrapolation with one col and 1 row more\n",
    "        else:\n",
    "            cols += 1\n",
    "\n",
    "        \n"
   ]
  },
  {
   "cell_type": "code",
   "execution_count": 63,
   "metadata": {},
   "outputs": [],
   "source": [
    "def f1(x):\n",
    "    return 1 / x\n",
    "def f2(x):\n",
    "    return math.sin(x) / (1 + x**2)"
   ]
  },
  {
   "cell_type": "code",
   "execution_count": 64,
   "metadata": {},
   "outputs": [
    {
     "name": "stdout",
     "output_type": "stream",
     "text": [
      "Exact I =  0.6931471805599453 \n",
      "\n",
      "\n",
      "R for imax =  2 :\n",
      " [[0.75       0.        ]\n",
      " [0.70833333 0.69444444]]\n",
      "\n",
      "R for imax =  3 :\n",
      " [[0.75       0.         0.        ]\n",
      " [0.70833333 0.69444444 0.        ]\n",
      " [0.69702381 0.69325397 0.6931746 ]]\n",
      "\n",
      "R for imax =  4 :\n",
      " [[0.75       0.         0.         0.        ]\n",
      " [0.70833333 0.69444444 0.         0.        ]\n",
      " [0.69702381 0.69325397 0.6931746  0.        ]\n",
      " [0.69412185 0.69315453 0.6931479  0.69314748]]\n",
      "\n",
      "R for imax =  5 :\n",
      " [[0.75       0.         0.         0.         0.        ]\n",
      " [0.70833333 0.69444444 0.         0.         0.        ]\n",
      " [0.69702381 0.69325397 0.6931746  0.         0.        ]\n",
      " [0.69412185 0.69315453 0.6931479  0.69314748 0.        ]\n",
      " [0.6933912  0.69314765 0.69314719 0.69314718 0.69314718]]\n",
      "\n",
      "For the given tolerance, Romberg Method converged at imax =  5  \n",
      "to final approx. R =  0.6931471819167452\n",
      "\n",
      "Final error =  1.3567998946584225e-09\n"
     ]
    }
   ],
   "source": [
    "a = 1\n",
    "b = 2\n",
    "I = np.log(2)\n",
    "print(\"Exact I = \", I, \"\\n\")\n",
    "\n",
    "\n",
    "RTOL = 1e-5\n",
    "ATOL = 1e-5\n",
    "R = romberg(a, b, f1, RTOL, ATOL)\n",
    "# print(R)\n",
    "print(\"\\nFinal error = \", abs(I - R[-1, -1]))"
   ]
  },
  {
   "cell_type": "code",
   "execution_count": 68,
   "metadata": {},
   "outputs": [
    {
     "name": "stdout",
     "output_type": "stream",
     "text": [
      "Exact I =  0.526978557614 \n",
      "\n",
      "\n",
      "R for imax =  2 :\n",
      " [[0.22650918 0.        ]\n",
      " [0.45673745 0.53348021]]\n",
      "\n",
      "R for imax =  3 :\n",
      " [[0.22650918 0.         0.        ]\n",
      " [0.45673745 0.53348021 0.        ]\n",
      " [0.51050416 0.5284264  0.52808948]]\n",
      "\n",
      "R for imax =  4 :\n",
      " [[0.22650918 0.         0.         0.        ]\n",
      " [0.45673745 0.53348021 0.         0.        ]\n",
      " [0.51050416 0.5284264  0.52808948 0.        ]\n",
      " [0.52291075 0.52704627 0.52695426 0.52693624]]\n",
      "\n",
      "R for imax =  5 :\n",
      " [[0.22650918 0.         0.         0.         0.        ]\n",
      " [0.45673745 0.53348021 0.         0.         0.        ]\n",
      " [0.51050416 0.5284264  0.52808948 0.         0.        ]\n",
      " [0.52291075 0.52704627 0.52695426 0.52693624 0.        ]\n",
      " [0.52596453 0.52698246 0.52697821 0.52697859 0.52697875]]\n",
      "\n",
      "R for imax =  6 :\n",
      " [[0.22650918 0.         0.         0.         0.         0.        ]\n",
      " [0.45673745 0.53348021 0.         0.         0.         0.        ]\n",
      " [0.51050416 0.5284264  0.52808948 0.         0.         0.        ]\n",
      " [0.52291075 0.52704627 0.52695426 0.52693624 0.         0.        ]\n",
      " [0.52596453 0.52698246 0.52697821 0.52697859 0.52697875 0.        ]\n",
      " [0.52672523 0.5269788  0.52697855 0.52697856 0.52697856 0.52697856]]\n",
      "\n",
      "For the given tolerance, Romberg Method converged at imax =  6  \n",
      "to final approx. R =  0.5269785584543211\n",
      "\n",
      "Final error =  8.403210349783308e-10\n"
     ]
    }
   ],
   "source": [
    "a = 0\n",
    "b = math.pi / 2.0\n",
    "I = 0.526978557614\n",
    "print(\"Exact I = \", I, \"\\n\")\n",
    "\n",
    "\n",
    "RTOL = 1e-5\n",
    "ATOL = 1e-5\n",
    "R = romberg(a, b, f2, RTOL, ATOL)\n",
    "# print(R)\n",
    "print(\"\\nFinal error = \", abs(I - R[-1, -1]))"
   ]
  },
  {
   "cell_type": "code",
   "execution_count": null,
   "metadata": {},
   "outputs": [],
   "source": []
  },
  {
   "cell_type": "code",
   "execution_count": null,
   "metadata": {},
   "outputs": [],
   "source": []
  },
  {
   "cell_type": "code",
   "execution_count": null,
   "metadata": {},
   "outputs": [],
   "source": []
  }
 ],
 "metadata": {
  "kernelspec": {
   "display_name": "Python 3",
   "language": "python",
   "name": "python3"
  },
  "language_info": {
   "codemirror_mode": {
    "name": "ipython",
    "version": 3
   },
   "file_extension": ".py",
   "mimetype": "text/x-python",
   "name": "python",
   "nbconvert_exporter": "python",
   "pygments_lexer": "ipython3",
   "version": "3.6.5"
  }
 },
 "nbformat": 4,
 "nbformat_minor": 2
}
