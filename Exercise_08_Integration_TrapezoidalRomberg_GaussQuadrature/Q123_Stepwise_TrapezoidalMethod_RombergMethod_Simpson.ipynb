{
 "cells": [
  {
   "cell_type": "code",
   "execution_count": 1,
   "metadata": {},
   "outputs": [],
   "source": [
    "import numpy as np\n",
    "import matplotlib.pyplot as plt\n",
    "import math"
   ]
  },
  {
   "cell_type": "markdown",
   "metadata": {},
   "source": [
    "# Q1 : Error bound of trapezoidal method"
   ]
  },
  {
   "cell_type": "code",
   "execution_count": 2,
   "metadata": {},
   "outputs": [],
   "source": [
    "x = np.arange(-10, 11, 1)"
   ]
  },
  {
   "cell_type": "code",
   "execution_count": 3,
   "metadata": {},
   "outputs": [],
   "source": [
    "a = -10\n",
    "b = 10\n",
    "l = np.array([(i - a) * (i - b) for i in x])"
   ]
  },
  {
   "cell_type": "code",
   "execution_count": 4,
   "metadata": {},
   "outputs": [
    {
     "data": {
      "text/plain": [
       "array([   0,  -19,  -36,  -51,  -64,  -75,  -84,  -91,  -96,  -99, -100,\n",
       "        -99,  -96,  -91,  -84,  -75,  -64,  -51,  -36,  -19,    0])"
      ]
     },
     "execution_count": 4,
     "metadata": {},
     "output_type": "execute_result"
    }
   ],
   "source": [
    "l"
   ]
  },
  {
   "cell_type": "code",
   "execution_count": 5,
   "metadata": {},
   "outputs": [
    {
     "data": {
      "text/plain": [
       "[<matplotlib.lines.Line2D at 0x7fbb1c740b70>]"
      ]
     },
     "execution_count": 5,
     "metadata": {},
     "output_type": "execute_result"
    },
    {
     "data": {
      "image/png": "[encoded data removed]",
      "text/plain": [
       "<Figure size 432x288 with 1 Axes>"
      ]
     },
     "metadata": {},
     "output_type": "display_data"
    }
   ],
   "source": [
    "plt.plot(x, l)"
   ]
  },
  {
   "cell_type": "markdown",
   "metadata": {},
   "source": [
    "# Q2 : n-step trapezoidal method for specific goal-tolerance"
   ]
  },
  {
   "cell_type": "code",
   "execution_count": 89,
   "metadata": {},
   "outputs": [],
   "source": [
    "def n_step_trapezoidalMethod(a, b, f, n):\n",
    "    h = (b-a) / float(n)\n",
    "    x = np.linspace(a, b, n+1)\n",
    "    print(\"x = \", x, \", len(x) = \",len(x))\n",
    "    T = h * ( 0.5 * f(x[0]) + sum([f(x[i]) for i in range(1, n)]) + 0.5 * f(x[n]) )\n",
    "    print(\"I_trapezoidal for \", n, \"steps = \", T)\n",
    "    return T"
   ]
  },
  {
   "cell_type": "code",
   "execution_count": 90,
   "metadata": {},
   "outputs": [],
   "source": [
    "def get_n_for_specificTolerance(a, b, f, goal_tol):\n",
    "    n = np.sqrt( (b-a)**3 / (4*tol) )\n",
    "    return n\n",
    "    "
   ]
  },
  {
   "cell_type": "code",
   "execution_count": 91,
   "metadata": {},
   "outputs": [],
   "source": [
    "def someFunc(x):\n",
    "    return 1/x"
   ]
  },
  {
   "cell_type": "code",
   "execution_count": 92,
   "metadata": {},
   "outputs": [
    {
     "name": "stdout",
     "output_type": "stream",
     "text": [
      "15.811388300841896\n",
      "So we choose n =  16\n"
     ]
    }
   ],
   "source": [
    "a   = 1\n",
    "b   = 2\n",
    "tol = 1e-3\n",
    "n   = get_n_for_specificTolerance(a, b, someFunc, tol)\n",
    "print(n)\n",
    "n   = int(np.ceil(n))\n",
    "print(\"So we choose n = \", n)"
   ]
  },
  {
   "cell_type": "code",
   "execution_count": 93,
   "metadata": {},
   "outputs": [
    {
     "name": "stdout",
     "output_type": "stream",
     "text": [
      "x =  [1.     1.0625 1.125  1.1875 1.25   1.3125 1.375  1.4375 1.5    1.5625\n",
      " 1.625  1.6875 1.75   1.8125 1.875  1.9375 2.    ] , len(x) =  17\n",
      "I_trapezoidal for  16 steps =  0.6933912022075267\n"
     ]
    }
   ],
   "source": [
    "I_trapezoidal = n_step_trapezoidalMethod(a, b, someFunc, n)"
   ]
  },
  {
   "cell_type": "code",
   "execution_count": 94,
   "metadata": {},
   "outputs": [
    {
     "name": "stdout",
     "output_type": "stream",
     "text": [
      "Exact integral: ln(2) =  0.6931471805599453\n",
      "Absolute error: 0.0002440216475814161 =  0.2440216475814161 * 1e-3\n"
     ]
    }
   ],
   "source": [
    "# Compare with exact solution and see if tolerance met\n",
    "I_exact = np.log(2)\n",
    "print(\"Exact integral: ln(2) = \", I_exact)\n",
    "print(\"Absolute error:\", abs(I_exact - I_trapezoidal), \"= \", abs(I_exact - I_trapezoidal) * 1e3, \"* 1e-3\")"
   ]
  },
  {
   "cell_type": "code",
   "execution_count": 95,
   "metadata": {},
   "outputs": [
    {
     "data": {
      "image/png": "[encoded data removed]",
      "text/plain": [
       "<Figure size 432x288 with 1 Axes>"
      ]
     },
     "metadata": {},
     "output_type": "display_data"
    }
   ],
   "source": [
    "# The error of the trapezoidal method is bounded by f\" <= M for x in [a, b]\n",
    "# Plot f\" = ddf to see for which x in [a, b] it is maximal \n",
    "# We see that f\" is monotonically decreasing, thus has its maximum for the given interval for x=a\n",
    "x = np.linspace(a, b, 10)\n",
    "ddf = 2 / x**3\n",
    "plt.plot(x, ddf)\n",
    "None"
   ]
  },
  {
   "cell_type": "code",
   "execution_count": null,
   "metadata": {},
   "outputs": [],
   "source": []
  },
  {
   "cell_type": "code",
   "execution_count": null,
   "metadata": {},
   "outputs": [],
   "source": []
  },
  {
   "cell_type": "code",
   "execution_count": null,
   "metadata": {},
   "outputs": [],
   "source": []
  },
  {
   "cell_type": "code",
   "execution_count": null,
   "metadata": {},
   "outputs": [],
   "source": []
  },
  {
   "cell_type": "markdown",
   "metadata": {},
   "source": [
    "# Q3 : Trapezoidal method, Romberg method (Simpson's rule)"
   ]
  },
  {
   "cell_type": "markdown",
   "metadata": {},
   "source": [
    "# a) Integral Approx. with 3 step trapezoidal method"
   ]
  },
  {
   "cell_type": "code",
   "execution_count": 111,
   "metadata": {},
   "outputs": [],
   "source": [
    "def funcQ3(x):\n",
    "    return np.sin(x) / (1 + x**2)"
   ]
  },
  {
   "cell_type": "code",
   "execution_count": 112,
   "metadata": {},
   "outputs": [
    {
     "name": "stdout",
     "output_type": "stream",
     "text": [
      "x =  [0.         0.52359878 1.04719755 1.57079633] , len(x) =  4\n",
      "I_trapezoidal for  3 steps =  0.4972482942715824\n"
     ]
    }
   ],
   "source": [
    "a = 0\n",
    "b = np.pi/2\n",
    "n = 3\n",
    "I_trapezoidal = n_step_trapezoidalMethod(a, b, funcQ3, n)"
   ]
  },
  {
   "cell_type": "code",
   "execution_count": 113,
   "metadata": {},
   "outputs": [],
   "source": [
    "I_exact = 0.526978557614"
   ]
  },
  {
   "cell_type": "code",
   "execution_count": 114,
   "metadata": {},
   "outputs": [
    {
     "name": "stdout",
     "output_type": "stream",
     "text": [
      "x =  [0.         1.57079633] , len(x) =  2\n",
      "I_trapezoidal for  1 steps =  0.22650917522514513\n",
      "T0 =  0.22650917522514513 , error =  0.3004693823888549\n"
     ]
    }
   ],
   "source": [
    "# Step 1\n",
    "N = 1\n",
    "I_trapezoidal = n_step_trapezoidalMethod(a, b, funcQ3, N)\n",
    "t1 = I_trapezoidal\n",
    "error = abs(I_exact - I_trapezoidal)\n",
    "print(\"T0 = \", I_trapezoidal, \", error = \", error)"
   ]
  },
  {
   "cell_type": "code",
   "execution_count": 115,
   "metadata": {},
   "outputs": [
    {
     "name": "stdout",
     "output_type": "stream",
     "text": [
      "x =  [0.         0.78539816 1.57079633] , len(x) =  3\n",
      "I_trapezoidal for  2 steps =  0.456737454167059\n",
      "T1 =  0.456737454167059 , error =  0.07024110344694101\n"
     ]
    }
   ],
   "source": [
    "# Step 2\n",
    "N = 2\n",
    "I_trapezoidal = n_step_trapezoidalMethod(a, b, funcQ3, N)\n",
    "t2 = I_trapezoidal\n",
    "error = abs(I_exact - I_trapezoidal)\n",
    "print(\"T1 = \", I_trapezoidal, \", error = \", error)"
   ]
  },
  {
   "cell_type": "code",
   "execution_count": 116,
   "metadata": {},
   "outputs": [
    {
     "name": "stdout",
     "output_type": "stream",
     "text": [
      "x =  [0.         0.39269908 0.78539816 1.17809725 1.57079633] , len(x) =  5\n",
      "I_trapezoidal for  4 steps =  0.510504163519367\n",
      "T2 =  0.510504163519367 , error =  0.016474394094633027\n"
     ]
    }
   ],
   "source": [
    "# Step 3\n",
    "N = 4\n",
    "I_trapezoidal = n_step_trapezoidalMethod(a, b, funcQ3, N)\n",
    "t3 = I_trapezoidal\n",
    "error = abs(I_exact - I_trapezoidal)\n",
    "print(\"T2 = \", I_trapezoidal, \", error = \", error)"
   ]
  },
  {
   "cell_type": "code",
   "execution_count": 117,
   "metadata": {},
   "outputs": [],
   "source": [
    "def trapezoidal(a, b, f, RTOL, ATOL):\n",
    "    h = (b - a) \n",
    "    s = 0.5 * (f(a) + f(b))\n",
    "    T0 = h * s\n",
    "    N = 0\n",
    "    i = -1\n",
    "    repeat = 1\n",
    "    while(repeat):\n",
    "        i = i + 1\n",
    "        h = h / 2.0\n",
    "        s = s + sum([f(a + (2*j + 1) * h) for j in range(N+1)])\n",
    "        T1 = h * s\n",
    "        N = 2*N + 1\n",
    "        print(\"iteration \", i, \", T = \", T1)\n",
    "        if (abs(T0 - T1) <= T1 * RTOL + ATOL):\n",
    "            repeat = 0\n",
    "            return T1\n",
    "        T0 = T1"
   ]
  },
  {
   "cell_type": "markdown",
   "metadata": {},
   "source": [
    "# b) Romberg Method (Simpson's rule)"
   ]
  },
  {
   "cell_type": "code",
   "execution_count": 110,
   "metadata": {},
   "outputs": [
    {
     "name": "stdout",
     "output_type": "stream",
     "text": [
      "R2,1 =  0.5284263999701363\n",
      "\n",
      " error =  0.001447842356136264\n"
     ]
    }
   ],
   "source": [
    "R = (4 * t3 - t2) / 3 # Simpson value for i = 3\n",
    "\n",
    "print(\"R2,1 = \", R)\n",
    "print(\"\\n error = \", abs(I_exact - R))"
   ]
  },
  {
   "cell_type": "code",
   "execution_count": null,
   "metadata": {},
   "outputs": [],
   "source": []
  }
 ],
 "metadata": {
  "kernelspec": {
   "display_name": "Python 3",
   "language": "python",
   "name": "python3"
  },
  "language_info": {
   "codemirror_mode": {
    "name": "ipython",
    "version": 3
   },
   "file_extension": ".py",
   "mimetype": "text/x-python",
   "name": "python",
   "nbconvert_exporter": "python",
   "pygments_lexer": "ipython3",
   "version": "3.6.5"
  }
 },
 "nbformat": 4,
 "nbformat_minor": 2
}
