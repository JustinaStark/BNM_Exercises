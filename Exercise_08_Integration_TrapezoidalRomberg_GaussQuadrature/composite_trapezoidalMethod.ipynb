{
 "cells": [
  {
   "cell_type": "code",
   "execution_count": 1,
   "metadata": {},
   "outputs": [],
   "source": [
    "import numpy as np"
   ]
  },
  {
   "cell_type": "code",
   "execution_count": 2,
   "metadata": {},
   "outputs": [],
   "source": [
    "def composite_trapezoidal(a, b, f, RTOL, ATOL):\n",
    "    \"\"\"\n",
    "    Implementing the composite trapezoidal method\n",
    "    \n",
    "    Input:\n",
    "    a = lower bound of intergration interval\n",
    "    b = upper bound of intergration interval\n",
    "    f = integrand\n",
    "    \n",
    "    Return:\n",
    "    Approximation of integral with error below abs(Ti)*RTOL + ATOL\n",
    "    \"\"\"\n",
    "    h = float(b - a)\n",
    "    s = 0.5 * (f(a) + f(b))\n",
    "    T = h * s\n",
    "    N = 0\n",
    "    i = -1\n",
    "    \n",
    "    repeat = 1\n",
    "    \n",
    "    while(repeat):\n",
    "        i  = i+1\n",
    "        h  = h/2\n",
    "        s  = s + sum([ f( a + (2*j+1) * h) for j in range(N+1) ])\n",
    "        Ti = h * s\n",
    "        N  = 2 * N + 1\n",
    "        if(abs(Ti - T)) <= abs(Ti)*RTOL + ATOL:\n",
    "            repeat = 0\n",
    "            print(\"Comp. Trapezoidal Method converged for N = \", N+1, \"to T = \", Ti) # The numb. steps is N+1 because counting starts from 0\n",
    "            return Ti\n",
    "        T = Ti"
   ]
  },
  {
   "cell_type": "markdown",
   "metadata": {},
   "source": [
    "# Test the function composite_trapezoidal on the function from the exercise\n",
    "# Also the number of required steps for a specific tolerance is printed"
   ]
  },
  {
   "cell_type": "code",
   "execution_count": 3,
   "metadata": {},
   "outputs": [
    {
     "name": "stdout",
     "output_type": "stream",
     "text": [
      "I_exact =  0.6931471805599453\n"
     ]
    }
   ],
   "source": [
    "def someFunc(x):\n",
    "    return 1/x\n",
    "\n",
    "a = 1\n",
    "b = 2\n",
    "RTOL = 1e-3\n",
    "ATOL = 1e-3\n",
    "\n",
    "I_exact = np.log(2)\n",
    "print(\"I_exact = \", I_exact)"
   ]
  },
  {
   "cell_type": "code",
   "execution_count": 4,
   "metadata": {},
   "outputs": [
    {
     "name": "stdout",
     "output_type": "stream",
     "text": [
      "Comp. Trapezoidal Method converged for N =  16 to T =  0.6933912022075268\n"
     ]
    }
   ],
   "source": [
    "T = composite_trapezoidal(a, b, someFunc, RTOL, ATOL)"
   ]
  },
  {
   "cell_type": "code",
   "execution_count": 5,
   "metadata": {},
   "outputs": [
    {
     "name": "stdout",
     "output_type": "stream",
     "text": [
      "Absolute error =  0.0002440216475815271\n"
     ]
    }
   ],
   "source": [
    "print(\"Absolute error = \", abs(I_exact - T))"
   ]
  },
  {
   "cell_type": "code",
   "execution_count": null,
   "metadata": {},
   "outputs": [],
   "source": []
  }
 ],
 "metadata": {
  "kernelspec": {
   "display_name": "Python 3",
   "language": "python",
   "name": "python3"
  },
  "language_info": {
   "codemirror_mode": {
    "name": "ipython",
    "version": 3
   },
   "file_extension": ".py",
   "mimetype": "text/x-python",
   "name": "python",
   "nbconvert_exporter": "python",
   "pygments_lexer": "ipython3",
   "version": "3.6.5"
  }
 },
 "nbformat": 4,
 "nbformat_minor": 2
}
