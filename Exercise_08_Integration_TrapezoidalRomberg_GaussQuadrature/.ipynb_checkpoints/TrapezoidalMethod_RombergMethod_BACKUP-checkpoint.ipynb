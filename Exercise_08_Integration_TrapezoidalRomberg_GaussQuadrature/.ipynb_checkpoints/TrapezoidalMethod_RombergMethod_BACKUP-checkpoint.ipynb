{
 "cells": [
  {
   "cell_type": "code",
   "execution_count": 5,
   "metadata": {},
   "outputs": [],
   "source": [
    "import numpy as np\n",
    "import matplotlib.pyplot as plt\n",
    "import math"
   ]
  },
  {
   "cell_type": "markdown",
   "metadata": {},
   "source": [
    "# Q1 : Error bound of trapezoidal method (check where lagrange is max.)"
   ]
  },
  {
   "cell_type": "code",
   "execution_count": 6,
   "metadata": {},
   "outputs": [],
   "source": [
    "x = np.arange(-10, 11, 1)"
   ]
  },
  {
   "cell_type": "code",
   "execution_count": 7,
   "metadata": {},
   "outputs": [],
   "source": [
    "a = -10\n",
    "b = 10\n",
    "l = np.array([(i - a) * (i - b) for i in x])"
   ]
  },
  {
   "cell_type": "code",
   "execution_count": 8,
   "metadata": {},
   "outputs": [
    {
     "data": {
      "text/plain": [
       "array([   0,  -19,  -36,  -51,  -64,  -75,  -84,  -91,  -96,  -99, -100,\n",
       "        -99,  -96,  -91,  -84,  -75,  -64,  -51,  -36,  -19,    0])"
      ]
     },
     "execution_count": 8,
     "metadata": {},
     "output_type": "execute_result"
    }
   ],
   "source": [
    "l"
   ]
  },
  {
   "cell_type": "code",
   "execution_count": 9,
   "metadata": {},
   "outputs": [
    {
     "data": {
      "text/plain": [
       "[<matplotlib.lines.Line2D at 0x7fc63a5a3710>]"
      ]
     },
     "execution_count": 9,
     "metadata": {},
     "output_type": "execute_result"
    },
    {
     "data": {
      "image/png": "[encoded data removed]",
      "text/plain": [
       "<Figure size 432x288 with 1 Axes>"
      ]
     },
     "metadata": {},
     "output_type": "display_data"
    }
   ],
   "source": [
    "plt.plot(x, l)"
   ]
  },
  {
   "cell_type": "markdown",
   "metadata": {},
   "source": [
    "# Q2 : Integral Approx. using trapezoidal method for given tolerance"
   ]
  },
  {
   "cell_type": "code",
   "execution_count": 10,
   "metadata": {},
   "outputs": [],
   "source": [
    "hsq = 4 * 10**(-3)\n",
    "h = np.sqrt(hsq)"
   ]
  },
  {
   "cell_type": "code",
   "execution_count": 11,
   "metadata": {},
   "outputs": [
    {
     "data": {
      "text/plain": [
       "0.06324555320336758"
      ]
     },
     "execution_count": 11,
     "metadata": {},
     "output_type": "execute_result"
    }
   ],
   "source": [
    "h"
   ]
  },
  {
   "cell_type": "code",
   "execution_count": 12,
   "metadata": {},
   "outputs": [
    {
     "data": {
      "text/plain": [
       "15.811388300841898"
      ]
     },
     "execution_count": 12,
     "metadata": {},
     "output_type": "execute_result"
    }
   ],
   "source": [
    "1/h\n"
   ]
  },
  {
   "cell_type": "code",
   "execution_count": 13,
   "metadata": {},
   "outputs": [
    {
     "data": {
      "text/plain": [
       "0.9411764705882353"
      ]
     },
     "execution_count": 13,
     "metadata": {},
     "output_type": "execute_result"
    }
   ],
   "source": [
    "1 / (1 + 1/16)"
   ]
  },
  {
   "cell_type": "code",
   "execution_count": 14,
   "metadata": {},
   "outputs": [
    {
     "data": {
      "text/plain": [
       "0.8888888888888888"
      ]
     },
     "execution_count": 14,
     "metadata": {},
     "output_type": "execute_result"
    }
   ],
   "source": [
    "1 / (1 + 2/16)"
   ]
  },
  {
   "cell_type": "code",
   "execution_count": 15,
   "metadata": {},
   "outputs": [],
   "source": [
    "def f(x):\n",
    "    return 1 / x"
   ]
  },
  {
   "cell_type": "code",
   "execution_count": 16,
   "metadata": {},
   "outputs": [],
   "source": [
    "N  = 16\n",
    "a  = 1\n",
    "h  = 1/N\n",
    "x  = [a + i * h for i in range(N+1)]\n",
    "fi = [f(i) for i in x]"
   ]
  },
  {
   "cell_type": "code",
   "execution_count": 17,
   "metadata": {},
   "outputs": [
    {
     "data": {
      "text/plain": [
       "([1.0,\n",
       "  1.0625,\n",
       "  1.125,\n",
       "  1.1875,\n",
       "  1.25,\n",
       "  1.3125,\n",
       "  1.375,\n",
       "  1.4375,\n",
       "  1.5,\n",
       "  1.5625,\n",
       "  1.625,\n",
       "  1.6875,\n",
       "  1.75,\n",
       "  1.8125,\n",
       "  1.875,\n",
       "  1.9375,\n",
       "  2.0],\n",
       " [1.0,\n",
       "  0.9411764705882353,\n",
       "  0.8888888888888888,\n",
       "  0.8421052631578947,\n",
       "  0.8,\n",
       "  0.7619047619047619,\n",
       "  0.7272727272727273,\n",
       "  0.6956521739130435,\n",
       "  0.6666666666666666,\n",
       "  0.64,\n",
       "  0.6153846153846154,\n",
       "  0.5925925925925926,\n",
       "  0.5714285714285714,\n",
       "  0.5517241379310345,\n",
       "  0.5333333333333333,\n",
       "  0.5161290322580645,\n",
       "  0.5])"
      ]
     },
     "execution_count": 17,
     "metadata": {},
     "output_type": "execute_result"
    }
   ],
   "source": [
    "x, fi"
   ]
  },
  {
   "cell_type": "code",
   "execution_count": 18,
   "metadata": {},
   "outputs": [],
   "source": [
    "T = h * 1/2 * (fi[0] + fi[-1]) + h * sum(fi[1:-1])"
   ]
  },
  {
   "cell_type": "code",
   "execution_count": 19,
   "metadata": {},
   "outputs": [
    {
     "data": {
      "text/plain": [
       "0.6933912022075267"
      ]
     },
     "execution_count": 19,
     "metadata": {},
     "output_type": "execute_result"
    }
   ],
   "source": [
    "T"
   ]
  },
  {
   "cell_type": "code",
   "execution_count": 20,
   "metadata": {},
   "outputs": [],
   "source": [
    "I = np.log(2)"
   ]
  },
  {
   "cell_type": "code",
   "execution_count": 21,
   "metadata": {},
   "outputs": [],
   "source": [
    "error = abs(I - T)"
   ]
  },
  {
   "cell_type": "code",
   "execution_count": 22,
   "metadata": {},
   "outputs": [
    {
     "data": {
      "text/plain": [
       "0.0002440216475814161"
      ]
     },
     "execution_count": 22,
     "metadata": {},
     "output_type": "execute_result"
    }
   ],
   "source": [
    "error"
   ]
  },
  {
   "cell_type": "markdown",
   "metadata": {},
   "source": [
    "# Q3 : Trapezoidal method, Romberg method"
   ]
  },
  {
   "cell_type": "markdown",
   "metadata": {},
   "source": [
    "# a) Integral Approx. with 3 step trapezoidal method"
   ]
  },
  {
   "cell_type": "code",
   "execution_count": 23,
   "metadata": {},
   "outputs": [
    {
     "data": {
      "text/plain": [
       "0.43990084648844263"
      ]
     },
     "execution_count": 23,
     "metadata": {},
     "output_type": "execute_result"
    }
   ],
   "source": [
    "math.pi / (4 + math.pi)"
   ]
  },
  {
   "cell_type": "code",
   "execution_count": 24,
   "metadata": {},
   "outputs": [
    {
     "data": {
      "text/plain": [
       "0.7071067811865475"
      ]
     },
     "execution_count": 24,
     "metadata": {},
     "output_type": "execute_result"
    }
   ],
   "source": [
    "math.sin(math.pi / 4)"
   ]
  },
  {
   "cell_type": "code",
   "execution_count": 25,
   "metadata": {},
   "outputs": [
    {
     "data": {
      "text/plain": [
       "0.3618825280211202"
      ]
     },
     "execution_count": 25,
     "metadata": {},
     "output_type": "execute_result"
    }
   ],
   "source": [
    "math.pi / 4 * (math.sin(math.pi / 4) / (1 + math.pi**2 / 8) +  1 / (2 + math.pi**2 / 2)) "
   ]
  },
  {
   "cell_type": "code",
   "execution_count": 26,
   "metadata": {},
   "outputs": [],
   "source": [
    "def f2(x):\n",
    "    return math.sin(x) / (1 + x**2)"
   ]
  },
  {
   "cell_type": "code",
   "execution_count": 68,
   "metadata": {},
   "outputs": [],
   "source": [
    "a = 0\n",
    "b = math.pi / 2.0\n",
    "I = 0.526978557614"
   ]
  },
  {
   "cell_type": "code",
   "execution_count": 72,
   "metadata": {},
   "outputs": [],
   "source": [
    "def T(func, a, b, N):\n",
    "    h = float(b - a) / float(N)\n",
    "    return h * (0.5*func(a) + sum([func(a + i * h) for i in range(1, N)]) + 0.5*func(b))"
   ]
  },
  {
   "cell_type": "code",
   "execution_count": 81,
   "metadata": {},
   "outputs": [
    {
     "name": "stdout",
     "output_type": "stream",
     "text": [
      "T0 =  0.22650917522514513 , error =  0.3004693823888549\n"
     ]
    }
   ],
   "source": [
    "# Step 1\n",
    "N = 1\n",
    "I_trapezoidal = T(f2, a, b, N)\n",
    "t0 = I_trapezoidal\n",
    "error = abs(I - I_trapezoidal)\n",
    "print(\"T0 = \", I_trapezoidal, \", error = \", error)"
   ]
  },
  {
   "cell_type": "code",
   "execution_count": 82,
   "metadata": {},
   "outputs": [
    {
     "name": "stdout",
     "output_type": "stream",
     "text": [
      "T1 =  0.456737454167059 , error =  0.07024110344694101\n"
     ]
    }
   ],
   "source": [
    "# Step 2\n",
    "N = 2\n",
    "I_trapezoidal = T(f2, a, b, N)\n",
    "t1 = I_trapezoidal\n",
    "error = abs(I - I_trapezoidal)\n",
    "print(\"T1 = \", I_trapezoidal, \", error = \", error)"
   ]
  },
  {
   "cell_type": "code",
   "execution_count": 83,
   "metadata": {},
   "outputs": [
    {
     "name": "stdout",
     "output_type": "stream",
     "text": [
      "T2 =  0.510504163519367 , error =  0.016474394094633027\n"
     ]
    }
   ],
   "source": [
    "# Step 3\n",
    "N = 4\n",
    "I_trapezoidal = T(f2, a, b, N)\n",
    "t2 = I_trapezoidal\n",
    "error = abs(I - I_trapezoidal)\n",
    "print(\"T2 = \", I_trapezoidal, \", error = \", error)"
   ]
  },
  {
   "cell_type": "code",
   "execution_count": null,
   "metadata": {},
   "outputs": [],
   "source": [
    "def trapezoidal(a, b, f, RTOL, ATOL):\n",
    "    h = (b - a) \n",
    "    s = 0.5 * (f(a) + f(b))\n",
    "    T0 = h * s\n",
    "    N = 0\n",
    "    i = -1\n",
    "    repeat = 1\n",
    "    while(repeat):\n",
    "        i = i + 1\n",
    "        h = h / 2.0\n",
    "        s = s + sum([f(a + (2*j + 1) * h) for j in range(N+1)])\n",
    "        T1 = h * s\n",
    "        N = 2*N + 1\n",
    "        print(\"iteration \", i, \", T = \", T1)\n",
    "        if (abs(T0 - T1) <= T1 * RTOL + ATOL):\n",
    "            repeat = 0\n",
    "            return T1\n",
    "        T0 = T1"
   ]
  },
  {
   "cell_type": "markdown",
   "metadata": {},
   "source": [
    "# b) Romberg Method"
   ]
  },
  {
   "cell_type": "code",
   "execution_count": 86,
   "metadata": {},
   "outputs": [
    {
     "name": "stdout",
     "output_type": "stream",
     "text": [
      "R2,1 =  0.5284263999701363\n",
      "\n",
      " error =  0.001447842356136264\n"
     ]
    }
   ],
   "source": [
    "R = (4 * t2 - t1) / 3\n",
    "print(\"R2,1 = \", R)\n",
    "print(\"\\n error = \", abs(I - R))"
   ]
  },
  {
   "cell_type": "code",
   "execution_count": null,
   "metadata": {},
   "outputs": [],
   "source": []
  }
 ],
 "metadata": {
  "kernelspec": {
   "display_name": "Python 3",
   "language": "python",
   "name": "python3"
  },
  "language_info": {
   "codemirror_mode": {
    "name": "ipython",
    "version": 3
   },
   "file_extension": ".py",
   "mimetype": "text/x-python",
   "name": "python",
   "nbconvert_exporter": "python",
   "pygments_lexer": "ipython3",
   "version": "3.6.5"
  }
 },
 "nbformat": 4,
 "nbformat_minor": 2
}
