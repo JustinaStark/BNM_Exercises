{
 "cells": [
  {
   "cell_type": "code",
   "execution_count": 1,
   "metadata": {},
   "outputs": [],
   "source": [
    "import numpy as np\n",
    "import math"
   ]
  },
  {
   "cell_type": "code",
   "execution_count": 2,
   "metadata": {},
   "outputs": [],
   "source": [
    "def trapezoidal(a, b, f, number_of_iterations):\n",
    "    T_all = []\n",
    "    # Iteration 0 -> T0\n",
    "    h = (b - a) \n",
    "    s = 0.5 * (f(a) + f(b))\n",
    "    T = h * s\n",
    "    N = 0\n",
    "    T_all.append(T)\n",
    "    # Iteration 1 until max_iter\n",
    "    for i in range(1, number_of_iterations):\n",
    "        h = h / 2.0\n",
    "        s = s + sum([f(a + (2*j + 1) * h) for j in range(N+1)])\n",
    "        T = h * s\n",
    "        N = 2*N + 1\n",
    "        T_all.append(T)\n",
    "    return T_all\n",
    "        "
   ]
  },
  {
   "cell_type": "code",
   "execution_count": 20,
   "metadata": {},
   "outputs": [],
   "source": [
    "def romberg(a, b, f, numb_extrapolations):\n",
    "    rows = numb_extrapolations\n",
    "    cols = numb_extrapolations\n",
    "    R = np.zeros((rows, cols))\n",
    "    R[:, 0] = trapezoidal(a, b, f, rows) # Compute 1st column of Romberg scheme: Ti for row i=0, 1, ..., imax\n",
    "    \n",
    "    for k in range(1, cols):\n",
    "        for i in range(k, rows):\n",
    "            R[i, k] = ( R[i, k-1] - 4**(-k) * R[i-1, k-1] ) / ( 1 - 4**(-k)) # Compute the other cols by combining results from the respective previous col\n",
    "    print(\"R for i = \", numb_extrapolations,\":\\n\", R)\n",
    "    return R\n",
    "    "
   ]
  },
  {
   "cell_type": "code",
   "execution_count": 21,
   "metadata": {},
   "outputs": [],
   "source": [
    "def f1(x):\n",
    "    return 1 / x\n",
    "def f2(x):\n",
    "    return math.sin(x) / (1 + x**2)"
   ]
  },
  {
   "cell_type": "code",
   "execution_count": 22,
   "metadata": {},
   "outputs": [
    {
     "name": "stdout",
     "output_type": "stream",
     "text": [
      "Exact I =  0.6931471805599453 \n",
      "\n",
      "R for i =  5 :\n",
      " [[0.75       0.         0.         0.         0.        ]\n",
      " [0.70833333 0.69444444 0.         0.         0.        ]\n",
      " [0.69702381 0.69325397 0.6931746  0.         0.        ]\n",
      " [0.69412185 0.69315453 0.6931479  0.69314748 0.        ]\n",
      " [0.6933912  0.69314765 0.69314719 0.69314718 0.69314718]]\n",
      "\n",
      "Final error =  1.3567998946584225e-09\n"
     ]
    }
   ],
   "source": [
    "a = 1\n",
    "b = 2\n",
    "I = np.log(2)\n",
    "print(\"Exact I = \", I, \"\\n\")\n",
    "R = romberg(a, b, f1, 5)\n",
    "# print(R)\n",
    "print(\"\\nFinal error = \", abs(I - R[-1, -1]))"
   ]
  },
  {
   "cell_type": "code",
   "execution_count": 24,
   "metadata": {},
   "outputs": [
    {
     "name": "stdout",
     "output_type": "stream",
     "text": [
      "Exact I =  0.526978557614 \n",
      "\n",
      "R for i =  5 :\n",
      " [[0.22650918 0.         0.         0.         0.        ]\n",
      " [0.45673745 0.53348021 0.         0.         0.        ]\n",
      " [0.51050416 0.5284264  0.52808948 0.         0.        ]\n",
      " [0.52291075 0.52704627 0.52695426 0.52693624 0.        ]\n",
      " [0.52596453 0.52698246 0.52697821 0.52697859 0.52697875]]\n",
      "\n",
      "Final error =  1.9726009070630823e-07\n"
     ]
    }
   ],
   "source": [
    "a = 0\n",
    "b = math.pi / 2.0\n",
    "I = 0.526978557614\n",
    "print(\"Exact I = \", I, \"\\n\")\n",
    "R = romberg(a, b, f2, 5)\n",
    "# print(R)\n",
    "print(\"\\nFinal error = \", abs(I - R[-1, -1]))"
   ]
  },
  {
   "cell_type": "code",
   "execution_count": null,
   "metadata": {},
   "outputs": [],
   "source": []
  },
  {
   "cell_type": "code",
   "execution_count": null,
   "metadata": {},
   "outputs": [],
   "source": []
  },
  {
   "cell_type": "code",
   "execution_count": null,
   "metadata": {},
   "outputs": [],
   "source": []
  },
  {
   "cell_type": "code",
   "execution_count": null,
   "metadata": {},
   "outputs": [],
   "source": []
  }
 ],
 "metadata": {
  "kernelspec": {
   "display_name": "Python 3",
   "language": "python",
   "name": "python3"
  },
  "language_info": {
   "codemirror_mode": {
    "name": "ipython",
    "version": 3
   },
   "file_extension": ".py",
   "mimetype": "text/x-python",
   "name": "python",
   "nbconvert_exporter": "python",
   "pygments_lexer": "ipython3",
   "version": "3.6.5"
  }
 },
 "nbformat": 4,
 "nbformat_minor": 2
}
