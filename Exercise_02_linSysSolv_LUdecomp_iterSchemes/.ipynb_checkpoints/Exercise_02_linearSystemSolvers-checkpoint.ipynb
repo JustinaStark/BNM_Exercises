{
 "cells": [
  {
   "cell_type": "code",
   "execution_count": 1,
   "metadata": {},
   "outputs": [],
   "source": [
    "import numpy as np"
   ]
  },
  {
   "cell_type": "markdown",
   "metadata": {},
   "source": [
    "# Convergence criterion for iterative schemes"
   ]
  },
  {
   "cell_type": "code",
   "execution_count": 2,
   "metadata": {},
   "outputs": [],
   "source": [
    "# "
   ]
  },
  {
   "cell_type": "code",
   "execution_count": 3,
   "metadata": {},
   "outputs": [],
   "source": [
    "A = np.array([[1, 1, 2], [-1, 2, 1], [0, -1 , 1]])"
   ]
  },
  {
   "cell_type": "code",
   "execution_count": 4,
   "metadata": {},
   "outputs": [
    {
     "name": "stdout",
     "output_type": "stream",
     "text": [
      "spectral radius of A =  2.000000000000001\n"
     ]
    }
   ],
   "source": [
    "spectral_radius = max(abs(np.linalg.eigvals(A)))\n",
    "print(\"spectral radius of A = \", spectral_radius)"
   ]
  },
  {
   "cell_type": "markdown",
   "metadata": {},
   "source": [
    "# Gauss elimination with partial pivoting"
   ]
  },
  {
   "cell_type": "code",
   "execution_count": 7,
   "metadata": {},
   "outputs": [],
   "source": [
    "def get_column_max(A, column):\n",
    "    (m, n) = np.shape(A)\n",
    "    for i in range(n):\n",
    "        A[i,column]"
   ]
  },
  {
   "cell_type": "code",
   "execution_count": null,
   "metadata": {},
   "outputs": [],
   "source": []
  },
  {
   "cell_type": "code",
   "execution_count": 11,
   "metadata": {},
   "outputs": [],
   "source": [
    "def LUP_decompose(A):\n",
    "    (m, n) = np.shape(A)\n",
    "    assert(m==n) # Assert that A is a square matrix\n",
    "    P = np.array([i for i in range(m)]) # Store permutation matrix as integer vector P of size m containing the column indices where the permutation matrix has a 1\n",
    "    \n",
    "    for i in range(m):\n",
    "        maxA = 0\n",
    "        imax = i\n",
    "        \n",
    "        for k in range(i, m):\n",
    "            if (abs(A[k][i]) > maxA):\n",
    "                maxA = abs(A[k][i])\n",
    "                imax = k\n",
    "        \n",
    "        if (imax != i):\n",
    "            # pivoting P\n",
    "            j       = P[i]\n",
    "            P[i]    = P[imax]\n",
    "            P[imax] = j\n",
    "            \n",
    "            # pivoting rows of A\n",
    "            ptr     = A[i]\n",
    "            A[i]    = A[imax]\n",
    "            A[imax] = ptr\n",
    "            \n",
    "            for j in range(i+1, m):\n",
    "                A[j][i] = A[j][i] / A[i][i]\n",
    "                \n",
    "                for k in range(i+1, m):\n",
    "                    A[j][k] = A[j][k] - A[j][i] * A[i][k]\n",
    "    \n",
    "    return A, P\n",
    "            \n",
    "    \n",
    "    \n",
    "    \n",
    "    \n",
    "    "
   ]
  },
  {
   "cell_type": "code",
   "execution_count": 12,
   "metadata": {},
   "outputs": [
    {
     "data": {
      "text/plain": [
       "(array([[ 1,  1,  2],\n",
       "        [-1,  2,  1],\n",
       "        [ 0, -1,  1]]), array([0, 1, 2]))"
      ]
     },
     "execution_count": 12,
     "metadata": {},
     "output_type": "execute_result"
    }
   ],
   "source": [
    "LUP_decompose(A)"
   ]
  },
  {
   "cell_type": "code",
   "execution_count": null,
   "metadata": {},
   "outputs": [],
   "source": []
  },
  {
   "cell_type": "code",
   "execution_count": null,
   "metadata": {},
   "outputs": [],
   "source": []
  },
  {
   "cell_type": "code",
   "execution_count": null,
   "metadata": {},
   "outputs": [],
   "source": []
  },
  {
   "cell_type": "code",
   "execution_count": 215,
   "metadata": {},
   "outputs": [],
   "source": [
    "def lu_factor(A):\n",
    "    \"\"\"\n",
    "        LU factorization with partial pivoting\n",
    "        \n",
    "    \"\"\"\n",
    "    (m, n) = np.shape(A)\n",
    "    assert(m==n) # Assert that A is a square matrix\n",
    "    \n",
    "    P = np.arange(0, m)\n",
    "    # Iterate over the columns and get for each column the index of the row with maximal value in that column\n",
    "    print(\"\\n\", A)\n",
    "    print(\"\\n P =\", P)\n",
    "    \n",
    "    # Partial pivoting\n",
    "    for k in range(m-1): # only iterate until m-1 because in last column nothing more to compare (all other rows already used as pivots)\n",
    "       \n",
    "        # Get index of row with largest absolute value in that column -> max_row_index \n",
    "        # Start comparing from row k on, because row k-1 already used as pivot in prevoius iteration. \n",
    "        # Add k because comparing within a subarray starting from row k.\n",
    "        max_row_index = np.argmax(abs(A[k:n,k])) + k \n",
    "        print(\"\\n column k = \", k, \", max_row_index = \", max_row_index)\n",
    "        # Swap entries in pivoting vector: assign current max_row_index to entry for current column and move the index of the row that is replaced, to the entry where the pivot prevously was.\n",
    "        P[[k,max_row_index]] = P[[max_row_index,k]]\n",
    "        print(\"\\n P = \", P)\n",
    "        # Swap the rows in A such that the pivoting row moves upwards \n",
    "        A[[k,max_row_index]] = A[[max_row_index,k]]\n",
    "        print(\"\\n\", A)\n",
    "        \n",
    "        \n",
    "        # Partial pivoting done!\n",
    "        \n",
    "    # LU decomposition\n",
    "    tmp = A\n",
    "    U = np.zeros([m, m])\n",
    "    U[0] = A[0]\n",
    "    L = np.eye(m) # 2D array with ones on the diagonal and zeros elsewhere\n",
    "    for k in range(m):# Loop over columns\n",
    "        for i in range(k+1, m): # Loop over rows starting with row k+1\n",
    "            L[i,k] = float(tmp[i,k] / tmp[k,k])\n",
    "            print(\"l\", i, k, \" = \", L[i,k])\n",
    "            for j in range(k+1, m):\n",
    "                tmp[i,j] = tmp[i,j] - L[i,k] * tmp[k,j]\n",
    "            print(\"tmp = \\n\", tmp)\n",
    "                \n",
    "    for i in range(m):\n",
    "        for j in range(i+1,m):\n",
    "            U[i,j] = tmp[i,j]\n",
    "\n",
    "    print(\"\\n\")        \n",
    "    print(\"L = \\n\", L)\n",
    "    print(\"\\n\")\n",
    "    print(\"U \\n= \", U)\n"
   ]
  },
  {
   "cell_type": "code",
   "execution_count": 216,
   "metadata": {},
   "outputs": [],
   "source": [
    "# a = np.array([[1, 2, 3], [-1, 4, 1], [5, -1 , 1]])"
   ]
  },
  {
   "cell_type": "code",
   "execution_count": 217,
   "metadata": {},
   "outputs": [
    {
     "data": {
      "text/plain": [
       "array([[1.  , 1.  , 1.  ],\n",
       "       [0.5 , 1.  , 0.8 ],\n",
       "       [0.25, 0.5 , 1.  ]])"
      ]
     },
     "execution_count": 217,
     "metadata": {},
     "output_type": "execute_result"
    }
   ],
   "source": [
    "a = np.array([[1,1,1], [0.5,1.0,0.8], [0.25,0.5,1]])\n",
    "a"
   ]
  },
  {
   "cell_type": "code",
   "execution_count": 218,
   "metadata": {},
   "outputs": [
    {
     "name": "stdout",
     "output_type": "stream",
     "text": [
      "\n",
      " [[1.   1.   1.  ]\n",
      " [0.5  1.   0.8 ]\n",
      " [0.25 0.5  1.  ]]\n",
      "\n",
      " P = [0 1 2]\n",
      "\n",
      " column k =  0 , max_row_index =  0\n",
      "\n",
      " P =  [0 1 2]\n",
      "\n",
      " [[1.   1.   1.  ]\n",
      " [0.5  1.   0.8 ]\n",
      " [0.25 0.5  1.  ]]\n",
      "\n",
      " column k =  1 , max_row_index =  1\n",
      "\n",
      " P =  [0 1 2]\n",
      "\n",
      " [[1.   1.   1.  ]\n",
      " [0.5  1.   0.8 ]\n",
      " [0.25 0.5  1.  ]]\n",
      "l 1 0  =  0.5\n",
      "tmp = \n",
      " [[1.   1.   1.  ]\n",
      " [0.5  0.5  0.3 ]\n",
      " [0.25 0.5  1.  ]]\n",
      "l 2 0  =  0.25\n",
      "tmp = \n",
      " [[1.   1.   1.  ]\n",
      " [0.5  0.5  0.3 ]\n",
      " [0.25 0.25 0.75]]\n",
      "l 2 1  =  0.5\n",
      "tmp = \n",
      " [[1.   1.   1.  ]\n",
      " [0.5  0.5  0.3 ]\n",
      " [0.25 0.25 0.6 ]]\n",
      "\n",
      "\n",
      "L = \n",
      " [[1.   0.   0.  ]\n",
      " [0.5  1.   0.  ]\n",
      " [0.25 0.5  1.  ]]\n",
      "\n",
      "\n",
      "U \n",
      "=  [[1.  1.  1. ]\n",
      " [0.  0.  0.3]\n",
      " [0.  0.  0. ]]\n"
     ]
    }
   ],
   "source": [
    "lu_factor(a)"
   ]
  },
  {
   "cell_type": "code",
   "execution_count": 214,
   "metadata": {},
   "outputs": [
    {
     "name": "stdout",
     "output_type": "stream",
     "text": [
      "P = \n",
      " [[1. 0. 0.]\n",
      " [0. 1. 0.]\n",
      " [0. 0. 1.]]\n",
      "\n",
      "L = \n",
      " [[1.   0.   0.  ]\n",
      " [0.5  1.   0.  ]\n",
      " [0.25 0.   1.  ]]\n",
      "\n",
      "U \n",
      "=  [[ 1.    1.    1.  ]\n",
      " [ 0.    0.   -0.2 ]\n",
      " [ 0.    0.    0.35]]\n"
     ]
    }
   ],
   "source": [
    "from scipy import linalg\n",
    "p, l, u = linalg.lu(a)\n",
    "print(\"P = \\n\", p)        \n",
    "print(\"\\nL = \\n\", l)\n",
    "print(\"\\nU \\n= \", u)"
   ]
  },
  {
   "cell_type": "code",
   "execution_count": 211,
   "metadata": {},
   "outputs": [
    {
     "ename": "SyntaxError",
     "evalue": "invalid syntax (<ipython-input-211-c71e8758ac36>, line 16)",
     "output_type": "error",
     "traceback": [
      "\u001b[0;36m  File \u001b[0;32m\"<ipython-input-211-c71e8758ac36>\"\u001b[0;36m, line \u001b[0;32m16\u001b[0m\n\u001b[0;31m    P =\u001b[0m\n\u001b[0m        ^\u001b[0m\n\u001b[0;31mSyntaxError\u001b[0m\u001b[0;31m:\u001b[0m invalid syntax\n"
     ]
    }
   ],
   "source": [
    "def lu_factor(A):\n",
    "    \"\"\"\n",
    "        LU factorization with partial pivoting\n",
    "        \n",
    "    \"\"\"\n",
    "    (m, n) = np.shape(A)\n",
    "    assert(m==n) # Assert that A is a square matrix\n",
    "    \n",
    "    P = np.arange(0, m)\n",
    "    # Iterate over the columns and get for each column the index of the row with maximal value in that column\n",
    "    for k in range(m):\n",
    "        \n",
    "        # Pivoting\n",
    "        max_row_index = np.argmax(abs(A[:, k]))\n",
    "        print(max_row_index + 1)\n",
    "        P = "
   ]
  },
  {
   "cell_type": "code",
   "execution_count": null,
   "metadata": {},
   "outputs": [],
   "source": []
  },
  {
   "cell_type": "code",
   "execution_count": null,
   "metadata": {},
   "outputs": [],
   "source": []
  },
  {
   "cell_type": "code",
   "execution_count": null,
   "metadata": {},
   "outputs": [],
   "source": []
  },
  {
   "cell_type": "code",
   "execution_count": null,
   "metadata": {},
   "outputs": [],
   "source": []
  },
  {
   "cell_type": "code",
   "execution_count": null,
   "metadata": {},
   "outputs": [],
   "source": []
  },
  {
   "cell_type": "code",
   "execution_count": null,
   "metadata": {},
   "outputs": [],
   "source": []
  },
  {
   "cell_type": "code",
   "execution_count": null,
   "metadata": {},
   "outputs": [],
   "source": []
  },
  {
   "cell_type": "code",
   "execution_count": null,
   "metadata": {},
   "outputs": [],
   "source": []
  }
 ],
 "metadata": {
  "kernelspec": {
   "display_name": "Python 3",
   "language": "python",
   "name": "python3"
  },
  "language_info": {
   "codemirror_mode": {
    "name": "ipython",
    "version": 3
   },
   "file_extension": ".py",
   "mimetype": "text/x-python",
   "name": "python",
   "nbconvert_exporter": "python",
   "pygments_lexer": "ipython3",
   "version": "3.6.5"
  }
 },
 "nbformat": 4,
 "nbformat_minor": 2
}
