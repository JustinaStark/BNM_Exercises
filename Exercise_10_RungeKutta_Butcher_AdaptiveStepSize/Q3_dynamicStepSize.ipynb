{
 "cells": [
  {
   "cell_type": "code",
   "execution_count": 1,
   "metadata": {},
   "outputs": [],
   "source": [
    "import numpy as np\n",
    "from math import sqrt, exp\n",
    "from matplotlib import pyplot as plt"
   ]
  },
  {
   "cell_type": "code",
   "execution_count": 2,
   "metadata": {},
   "outputs": [],
   "source": [
    "def get_stages(yn, A, c, h, t, f):\n",
    "    # f = function\n",
    "    s = len(c) # number of stages\n",
    "    m = len(yn) # number of differential equations in system\n",
    "    k = np.zeros([s, m]) # initialize empty array for stages\n",
    "    k[0] = f(t + c[0] * h, yn) # initial stage k1\n",
    "    # Compute stages k2, k3, k4, ... \n",
    "    for i in range(1, s):\n",
    "        sum_prevStages = sum([A[i][j] * k[j] for j in range(i)])\n",
    "        k[i] = f(t + c[i] * h, yn + h * sum_prevStages) \n",
    "    return k\n",
    "\n",
    "def runge_kutta_solver(yn, A, b, c, h, t, f):\n",
    "    # yn = approx. sol. of prev. timepoint\n",
    "    # A = spatial shift matrix\n",
    "    # b = averaging weight vector of length s (s = #stages)\n",
    "    # c = temporal shift vector of length s \n",
    "    s = len(c) # number of stages\n",
    "    k = get_stages(yn, A, c, h, t, f)\n",
    "    y_nplus1 = yn + h * sum([b[i] * k[i] for i in range(s)]) # compute approx. solution y of next time point\n",
    "    return y_nplus1\n",
    "    \n",
    "\n",
    "def rk_time_stepper(y0, A, b, c, h, t0, tf, f):\n",
    "    # Call the runge kutta solver for all time points\n",
    "    time = np.arange(t0, tf+h, h);\n",
    "    N = len(time) # total number of time steps\n",
    "    y_all_timesteps = np.zeros([N, len(y0)]) # initialize empty array for solutions of all time steps\n",
    "    y_all_timesteps[0] = y0 # initial condition\n",
    "    for n in range(1, N):\n",
    "        y_all_timesteps[n] = runge_kutta_solver(y_all_timesteps[n-1], A, b, c, h, time[n], f);\n",
    "    return time, y_all_timesteps\n",
    "    \n",
    "    "
   ]
  },
  {
   "cell_type": "code",
   "execution_count": 3,
   "metadata": {},
   "outputs": [],
   "source": [
    "# Adaptive step size\n",
    "def adaptive_step_size(x, x_hat, TOL, Fs, p, h):\n",
    "    l = np.linalg.norm(np.array([x[i] - x_hat[i] for i in range(len(x))])) # local error estimator\n",
    "    # if the local error is higher than the tolerance, reject x (return false) and reduce the step size h\n",
    "    if l > TOL: \n",
    "        h = h * (TOL/l)**(1/(1+p)) * Fs\n",
    "        return False, h\n",
    "    \n",
    "    # if the local error is <= tolerance, accept x (return true) and propose new, larger h for next step\n",
    "    if l <= TOL:\n",
    "        h = h * (TOL/l)**(1/(1+p)) * Fs\n",
    "        return True, h"
   ]
  },
  {
   "cell_type": "code",
   "execution_count": 4,
   "metadata": {},
   "outputs": [],
   "source": [
    "# Runge Kutta Method with dynamic step-size adaptation: Embedded Runge-Kutta method\n",
    "def embedded_runge_kutta_stepper(y0, A, b, c, b_hat, h, t0, tf, f, TOL, Fs, p):\n",
    "\n",
    "    # initialize list for solutions of all time steps for y and reference y_hat and pass initial value\n",
    "    y_all_timesteps = [y0]\n",
    "    y_all_timesteps_hat = [y0]\n",
    "    time = [t0] # list for all the time-points computed. Will be returned.\n",
    "    t = t0 # intialize time iterator with starting time t0\n",
    "    i = 0\n",
    "    accepted = False\n",
    "    while t <= tf:\n",
    "        # Compute y and y_hat for different h until they are accepted (error below tolerance)\n",
    "        y = runge_kutta_solver(y_all_timesteps[i], A, b, c, h, t, f);\n",
    "        y_hat = runge_kutta_solver(y_all_timesteps_hat[i], A, b_hat, c, h, t, f);\n",
    "        \n",
    "        accepted, h = adaptive_step_size(y, y_hat, TOL, Fs, p, h)\n",
    "        \n",
    "        if accepted:\n",
    "            print(\"Iteration %d: Accepted y_n+1. New h for next iteration: %f\" %(i, h))\n",
    "            # if the local error of the solution is <= tolerance, accept y and y_hat and add to list\n",
    "            # else repeat computation with new h\n",
    "            y_all_timesteps += [y]\n",
    "            y_all_timesteps_hat += [y_hat]\n",
    "            t += h\n",
    "            time += [t]\n",
    "            i += 1 # number of time steps (iterator for accessing list for prev. solution)\n",
    "            \n",
    "    return time, y_all_timesteps, y_all_timesteps_hat\n",
    "    "
   ]
  },
  {
   "cell_type": "code",
   "execution_count": 5,
   "metadata": {},
   "outputs": [],
   "source": [
    "A_DOPRI5=np.array([[0,0,0,0,0,0,0],[1/5,0,0,0,0,0,0],[3/40,9/40,0,0,0,0,0],[44/45,-56/15,32/9,0,0,0,0],[19372/6561,-25360/2187,64448/6561,-212/729,0,0,0],[9017/3168,-355/33,46732/5247,49/176,-5103/18656,0,0],[35/384.,0,500/1113,125/192,-2187/6784,11/84,0]])\n",
    "b_DOPRI5=np.array([35/384.,0,500/1113,125/192,-2187/6784,11/84,0])\n",
    "b_hat_DOPRI5=np.array([5179/57600,0,7571/16695,393/640,-92097/339200,187/2100,1/40])\n",
    "c_DOPRI5=np.array([0,1/5.,3/10.,4/5,8/9,1,1])"
   ]
  },
  {
   "cell_type": "code",
   "execution_count": 6,
   "metadata": {},
   "outputs": [],
   "source": [
    "# SYSTEM OF ODES\n",
    "# x0 = np.array([-1, 1])\n",
    "# x0 = np.array([1, 1])\n",
    "# x0 = np.array([2, 0])\n",
    "\n",
    "# N = 100\n",
    "# h = 1/N\n",
    "# t0 = 0\n",
    "# tf = t0 + N*h\n",
    "\n",
    "# 2 BODY PROBLEM\n",
    "# Initial values\n",
    "x0 = [0.5, 0, 0, sqrt(3)]\n",
    "\n",
    "# Parameters\n",
    "t0 = 0\n",
    "tf = 4\n",
    "h = 0.01\n",
    "\n",
    "\n",
    "TOL = 0.1\n",
    "Fs = 0.8\n",
    "p = 4\n",
    "# time, y, y_hat = embedded_runge_kutta_stepper(x0, A_DOPRI5, b_DOPRI5, c_DOPRI5, b_hat_DOPRI5, h, t0, tf, two_body_problem, TOL, Fs, p)"
   ]
  },
  {
   "cell_type": "code",
   "execution_count": 7,
   "metadata": {},
   "outputs": [
    {
     "ename": "NameError",
     "evalue": "name 'time' is not defined",
     "output_type": "error",
     "traceback": [
      "\u001b[0;31m---------------------------------------------------------------------------\u001b[0m",
      "\u001b[0;31mNameError\u001b[0m                                 Traceback (most recent call last)",
      "\u001b[0;32m<ipython-input-7-5ab2a024ae04>\u001b[0m in \u001b[0;36m<module>\u001b[0;34m()\u001b[0m\n\u001b[0;32m----> 1\u001b[0;31m \u001b[0mplt\u001b[0m\u001b[0;34m.\u001b[0m\u001b[0mplot\u001b[0m\u001b[0;34m(\u001b[0m\u001b[0mtime\u001b[0m\u001b[0;34m,\u001b[0m \u001b[0my\u001b[0m\u001b[0;34m)\u001b[0m\u001b[0;34m\u001b[0m\u001b[0m\n\u001b[0m\u001b[1;32m      2\u001b[0m \u001b[0;31m# plt.plot(time, y_hat)\u001b[0m\u001b[0;34m\u001b[0m\u001b[0;34m\u001b[0m\u001b[0m\n\u001b[1;32m      3\u001b[0m \u001b[0;32mNone\u001b[0m\u001b[0;34m\u001b[0m\u001b[0m\n",
      "\u001b[0;31mNameError\u001b[0m: name 'time' is not defined"
     ]
    }
   ],
   "source": [
    "plt.plot(time, y)\n",
    "# plt.plot(time, y_hat)\n",
    "None"
   ]
  },
  {
   "cell_type": "code",
   "execution_count": null,
   "metadata": {},
   "outputs": [],
   "source": []
  }
 ],
 "metadata": {
  "kernelspec": {
   "display_name": "Python 3",
   "language": "python",
   "name": "python3"
  },
  "language_info": {
   "codemirror_mode": {
    "name": "ipython",
    "version": 3
   },
   "file_extension": ".py",
   "mimetype": "text/x-python",
   "name": "python",
   "nbconvert_exporter": "python",
   "pygments_lexer": "ipython3",
   "version": "3.6.5"
  }
 },
 "nbformat": 4,
 "nbformat_minor": 2
}
