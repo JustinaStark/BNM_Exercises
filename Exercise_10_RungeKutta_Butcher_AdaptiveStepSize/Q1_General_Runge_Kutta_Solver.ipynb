{
 "cells": [
  {
   "cell_type": "code",
   "execution_count": 39,
   "metadata": {},
   "outputs": [],
   "source": [
    "import numpy as np\n",
    "from math import sqrt, exp\n",
    "from matplotlib import pyplot as plt"
   ]
  },
  {
   "cell_type": "code",
   "execution_count": 2,
   "metadata": {},
   "outputs": [],
   "source": [
    "def get_stages(yn, A, c, h, t, f):\n",
    "    s = len(c) # number of stages\n",
    "    m = len(yn)\n",
    "    k = np.zeros([s, m])\n",
    "    k[0] = f(t + c[0] * h, yn)\n",
    "    for i in range(1, s):\n",
    "        sum_prevStages = sum([A[i][j] * k[j] for j in range(i)])\n",
    "        k[i] = f(t + c[i] * h, yn + h * sum_prevStages)\n",
    "    return k"
   ]
  },
  {
   "cell_type": "code",
   "execution_count": 3,
   "metadata": {},
   "outputs": [],
   "source": [
    "def runge_kutta_solver(yn, A, b, c, h, t, f):\n",
    "    s = len(c) # number of stages\n",
    "    k = get_stages(yn, A, c, h, t, f)\n",
    "    y_nplus1 = yn + h * sum([b[i] * k[i] for i in range(s)])\n",
    "    return y_nplus1\n",
    "    "
   ]
  },
  {
   "cell_type": "code",
   "execution_count": 4,
   "metadata": {},
   "outputs": [],
   "source": [
    "def rk_time_stepper(y0, A, b, c, h, t0, tf, f):\n",
    "    time = np.arange(t0, tf+h, h);\n",
    "    N = len(time)\n",
    "    y_all_timesteps = np.zeros([N, len(y0)])\n",
    "    y_all_timesteps[0] = y0\n",
    "    for n in range(1, N):\n",
    "        y_all_timesteps[n] = runge_kutta_solver(y_all_timesteps[n-1], A, b, c, h, time[n], f);\n",
    "    return time, y_all_timesteps\n",
    "    \n",
    "    "
   ]
  },
  {
   "cell_type": "code",
   "execution_count": 5,
   "metadata": {},
   "outputs": [],
   "source": [
    "def two_body_problem(t, y):\n",
    "    y1, y2, y3, y4 = y\n",
    "    dy1 = y3\n",
    "    dy2 = y4\n",
    "    dy3 = - y1 / ( (y1**2 + y2**2)**(3/2) )\n",
    "    dy4 = - y2 / ( (y1**2 + y2**2)**(3/2) )\n",
    "    return [dy1, dy2, dy3, dy4]"
   ]
  },
  {
   "cell_type": "code",
   "execution_count": 6,
   "metadata": {},
   "outputs": [],
   "source": [
    "# Butcher tables\n",
    "A_heun = [[0, 0],[1, 0]]\n",
    "b_heun = [0.5, 0.5]\n",
    "c_heun = [0, 1]"
   ]
  },
  {
   "cell_type": "code",
   "execution_count": 7,
   "metadata": {},
   "outputs": [],
   "source": [
    "# Initial values\n",
    "y0 = [0.5, 0, 0, sqrt(3)]\n",
    "\n",
    "# Parameters\n",
    "t0 = 0\n",
    "tf = 8\n",
    "h1 = 0.1\n",
    "h2 = 0.01"
   ]
  },
  {
   "cell_type": "code",
   "execution_count": 8,
   "metadata": {},
   "outputs": [],
   "source": [
    "time_h1, y_rk_h1 = rk_time_stepper(y0, A_heun, b_heun, c_heun, h1, t0, tf, two_body_problem)\n",
    "time_h2, y_rk_h2 = rk_time_stepper(y0, A_heun, b_heun, c_heun, h2, t0, tf, two_body_problem)"
   ]
  },
  {
   "cell_type": "code",
   "execution_count": 9,
   "metadata": {},
   "outputs": [
    {
     "data": {
      "text/plain": [
       "[<matplotlib.lines.Line2D at 0x7f9e3edeabe0>]"
      ]
     },
     "execution_count": 9,
     "metadata": {},
     "output_type": "execute_result"
    },
    {
     "data": {
      "image/png": "[encoded data removed]",
      "text/plain": [
       "<Figure size 432x288 with 1 Axes>"
      ]
     },
     "metadata": {},
     "output_type": "display_data"
    }
   ],
   "source": [
    "plt.plot(time_h1, y_rk_h1[:, 0])\n",
    "plt.plot(time_h2, y_rk_h2[:, 0])"
   ]
  },
  {
   "cell_type": "code",
   "execution_count": null,
   "metadata": {},
   "outputs": [],
   "source": []
  },
  {
   "cell_type": "code",
   "execution_count": null,
   "metadata": {},
   "outputs": [],
   "source": []
  },
  {
   "cell_type": "code",
   "execution_count": null,
   "metadata": {},
   "outputs": [],
   "source": []
  },
  {
   "cell_type": "code",
   "execution_count": null,
   "metadata": {},
   "outputs": [],
   "source": []
  },
  {
   "cell_type": "code",
   "execution_count": 85,
   "metadata": {},
   "outputs": [],
   "source": [
    "#Butcher Tables\n",
    "A_Euler=np.array([0])\n",
    "b_Euler=np.array([1])\n",
    "c_Euler=np.array([0])\n",
    "\n",
    "A_Heun=np.array([[0,0],[1,0]])\n",
    "b_Heun=np.array([0.5,0.5])\n",
    "c_Heun=np.array([0,1])\n",
    "\n",
    "A_RK3=np.array([[0,0],[2.0/3,0]])\n",
    "b_RK3=np.array([1.0/4,3.0/4])\n",
    "c_RK3=np.array([0,2/3.0])\n",
    "\n",
    "A_RK4=np.array([[0,0,0],[0.5,0,0],[0,0.5,0],[0,0,1]])\n",
    "b_RK4=np.array([1/6.,1/3.,1/3.,1/6.])\n",
    "c_RK4=np.array([0,1/2.,1/2.,1])"
   ]
  },
  {
   "cell_type": "code",
   "execution_count": 86,
   "metadata": {},
   "outputs": [],
   "source": [
    "def ode(t, x):\n",
    "    # M: nxn matrix, x: nx1 vector\n",
    "    M = np.array([[-1001, 999],[999, -1001]])\n",
    "    return M@x"
   ]
  },
  {
   "cell_type": "code",
   "execution_count": 87,
   "metadata": {},
   "outputs": [],
   "source": [
    "# x0 = np.array([-1, 1])\n",
    "# x0 = np.array([1, 1])\n",
    "x0 = np.array([2, 0])"
   ]
  },
  {
   "cell_type": "code",
   "execution_count": 116,
   "metadata": {},
   "outputs": [],
   "source": [
    "N = 800\n",
    "h = 1/N\n",
    "t0 = 0\n",
    "tf = t0 + N*h\n",
    "time_ode, y_rk_ode = rk_time_stepper(x0, A_Euler, b_Euler, c_Euler, h, t0, tf, ode)\n",
    "# time_ode, y_rk_ode = rk_time_stepper(x0, A_RK4, b_RK4, c_RK4, h, t0, tf, ode)"
   ]
  },
  {
   "cell_type": "code",
   "execution_count": 122,
   "metadata": {},
   "outputs": [
    {
     "data": {
      "text/plain": [
       "[<matplotlib.lines.Line2D at 0x7f9e41a6db70>]"
      ]
     },
     "execution_count": 122,
     "metadata": {},
     "output_type": "execute_result"
    },
    {
     "data": {
      "image/png": "[encoded data removed]",
      "text/plain": [
       "<Figure size 432x288 with 1 Axes>"
      ]
     },
     "metadata": {},
     "output_type": "display_data"
    }
   ],
   "source": [
    "plt.plot(time_ode[750:], y_rk_ode[750:,0])"
   ]
  },
  {
   "cell_type": "code",
   "execution_count": 98,
   "metadata": {},
   "outputs": [],
   "source": [
    "def exact_solution_ode(t, x0):\n",
    "    x1 = 0.5 * (x0[0] - x0[1]) * exp(-2000 * t) + 0.5 * (x0[0] + x0[1]) * exp(-2 * t)\n",
    "    x2 = 0.5 * (x0[1] - x0[0]) * exp(-2000 * t) + 0.5 * (x0[0] + x0[1]) * exp(-2 * t)\n",
    "    return np.array([x1, x2])"
   ]
  },
  {
   "cell_type": "code",
   "execution_count": 99,
   "metadata": {},
   "outputs": [],
   "source": [
    "x_exact = np.zeros([N+1, len(x0)])\n",
    "x_exact[0] = x0\n",
    "for i in range(1, N+1):\n",
    "    x_exact[i] = exact_solution_ode(time_ode[i], x0)"
   ]
  },
  {
   "cell_type": "code",
   "execution_count": 92,
   "metadata": {},
   "outputs": [
    {
     "data": {
      "text/plain": [
       "[<matplotlib.lines.Line2D at 0x7f9e405e6a90>]"
      ]
     },
     "execution_count": 92,
     "metadata": {},
     "output_type": "execute_result"
    },
    {
     "data": {
      "image/png": "[encoded data removed]",
      "text/plain": [
       "<Figure size 432x288 with 1 Axes>"
      ]
     },
     "metadata": {},
     "output_type": "display_data"
    }
   ],
   "source": [
    "plt.plot(time_ode, x_exact[:,0], \"-\")"
   ]
  },
  {
   "cell_type": "code",
   "execution_count": null,
   "metadata": {},
   "outputs": [],
   "source": []
  },
  {
   "cell_type": "code",
   "execution_count": null,
   "metadata": {},
   "outputs": [],
   "source": []
  }
 ],
 "metadata": {
  "kernelspec": {
   "display_name": "Python 3",
   "language": "python",
   "name": "python3"
  },
  "language_info": {
   "codemirror_mode": {
    "name": "ipython",
    "version": 3
   },
   "file_extension": ".py",
   "mimetype": "text/x-python",
   "name": "python",
   "nbconvert_exporter": "python",
   "pygments_lexer": "ipython3",
   "version": "3.6.5"
  }
 },
 "nbformat": 4,
 "nbformat_minor": 2
}
