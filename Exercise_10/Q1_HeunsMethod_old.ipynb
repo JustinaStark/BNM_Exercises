{
 "cells": [
  {
   "cell_type": "code",
   "execution_count": 16,
   "metadata": {},
   "outputs": [],
   "source": [
    "import numpy as np\n",
    "import matplotlib.pyplot as plt"
   ]
  },
  {
   "cell_type": "code",
   "execution_count": 10,
   "metadata": {},
   "outputs": [],
   "source": [
    "def Heuns_method(y0, N, h, func):\n",
    "    # N = total number of timesteps, h = stepsize\n",
    "    y = np.zeros(N)\n",
    "    y[0] = y0\n",
    "    for n in range(N-1):\n",
    "        ystar     = y[n] + h * func(y[n]) #predictor\n",
    "        y[n+1] = y[n] + h/2 * (func(y[n]) + func(ystar)) #corrector\n",
    "    return y\n",
    "        "
   ]
  },
  {
   "cell_type": "code",
   "execution_count": 14,
   "metadata": {},
   "outputs": [],
   "source": [
    "def f(y):\n",
    "    return -100 * y\n",
    "def F_exact(t, c):\n",
    "    return c * np.exp(-100 * t)"
   ]
  },
  {
   "cell_type": "code",
   "execution_count": 21,
   "metadata": {},
   "outputs": [],
   "source": [
    "N = 20\n",
    "h = 0.1/N\n",
    "y0 = 1\n",
    "y_heun = Heuns_method(y0, N, h, f)"
   ]
  },
  {
   "cell_type": "code",
   "execution_count": 22,
   "metadata": {},
   "outputs": [],
   "source": [
    "t0 = 0\n",
    "tmax = N * h\n",
    "t = np.arange(t0, tmax, h)\n",
    "y_exact = [F_exact(t[i], y0) for i in range(len(t))]"
   ]
  },
  {
   "cell_type": "code",
   "execution_count": 23,
   "metadata": {},
   "outputs": [
    {
     "data": {
      "image/png": "[encoded data removed]",
      "text/plain": [
       "<Figure size 432x288 with 1 Axes>"
      ]
     },
     "metadata": {},
     "output_type": "display_data"
    }
   ],
   "source": [
    "plt.plot(t, y_exact)\n",
    "plt.plot(t, y_heun, \"*\")\n",
    "plt.legend(['Exact', 'Heun'])\n",
    "None"
   ]
  },
  {
   "cell_type": "code",
   "execution_count": null,
   "metadata": {},
   "outputs": [],
   "source": [
    "t0 = 0\n",
    "tf = 8\n",
    "h  = 1/10\n",
    "N  = (tf - t0) / h\n",
    "\n",
    "y1 = np.zeros(N)\n",
    "y2 = np.zeros(N)"
   ]
  },
  {
   "cell_type": "code",
   "execution_count": null,
   "metadata": {},
   "outputs": [],
   "source": [
    "# 2-body problem\n"
   ]
  },
  {
   "cell_type": "code",
   "execution_count": 1,
   "metadata": {},
   "outputs": [],
   "source": [
    "y1, y2, y3, y4 = [0, 0, 1, 3]"
   ]
  },
  {
   "cell_type": "code",
   "execution_count": null,
   "metadata": {},
   "outputs": [],
   "source": []
  }
 ],
 "metadata": {
  "kernelspec": {
   "display_name": "Python 3",
   "language": "python",
   "name": "python3"
  },
  "language_info": {
   "codemirror_mode": {
    "name": "ipython",
    "version": 3
   },
   "file_extension": ".py",
   "mimetype": "text/x-python",
   "name": "python",
   "nbconvert_exporter": "python",
   "pygments_lexer": "ipython3",
   "version": "3.6.5"
  }
 },
 "nbformat": 4,
 "nbformat_minor": 2
}
