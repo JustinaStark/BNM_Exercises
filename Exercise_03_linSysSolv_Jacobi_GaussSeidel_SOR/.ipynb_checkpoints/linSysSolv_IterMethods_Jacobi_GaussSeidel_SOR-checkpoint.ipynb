{
 "cells": [
  {
   "cell_type": "code",
   "execution_count": 40,
   "metadata": {},
   "outputs": [],
   "source": [
    "import numpy as np\n",
    "import scipy.linalg\n",
    "import matplotlib.pyplot as plt\n",
    "import time"
   ]
  },
  {
   "cell_type": "code",
   "execution_count": 41,
   "metadata": {},
   "outputs": [],
   "source": [
    "def get_dlu_summands(A):\n",
    "    \"\"\"\n",
    "    Splits A into its diagonal, lower triangular (without diag) and upper triagonal (without diag) matrix, i.e.\n",
    "    A = D + L + U\n",
    "    \n",
    "    Be careful, this is NOT!!! an ldu factorization!\n",
    "    \n",
    "    \"\"\"\n",
    "    D = np.diag(np.diag(A))\n",
    "    L = np.tril(A, -1)\n",
    "    U = np.triu(A, 1)\n",
    "    assert(np.all(D + L + U == A))\n",
    "    return D, L, U\n",
    "\n",
    "# D, L, U = get_dlu_summands(A)\n",
    "# print(\"D = \\n\", D, \"\\nL =\\n\", L, \"\\nU = \\n\", U)\n",
    "\n",
    "# D + L + U"
   ]
  },
  {
   "cell_type": "code",
   "execution_count": 42,
   "metadata": {},
   "outputs": [],
   "source": [
    "def get_Tj(A):\n",
    "    \"\"\"\n",
    "    Returns the Jacobi iteration matrix of A\n",
    "    \"\"\"\n",
    "    D, L, U = get_dlu_summands(A)\n",
    "    return np.linalg.inv(D) @ (-L-U)\n",
    "\n",
    "def get_Tgs(A):\n",
    "    \"\"\"\n",
    "    Returns the Gauss-Seidel iteration matrix of A\n",
    "    \"\"\"\n",
    "    D, L, U = get_dlu_summands(A)\n",
    "    return - np.linalg.inv(D + L) @ U\n",
    "\n",
    "def get_Tsor(A, w):\n",
    "    \"\"\"\n",
    "    Returns the Successive Over-Relaxation iteration matrix of A \n",
    "    for given weighting w bw. old and new Gauss-Seidel vectors\n",
    "    \"\"\"\n",
    "    D, L, U = get_dlu_summands(A)\n",
    "    return np.linalg.inv(D + w*L) @ (-w*U + (1-w)*D)\n",
    "\n",
    "# Get iteration matrix and spectral radius for Jacobi Method\n",
    "# Tj = get_Tj(A)\n",
    "# spectral_radius = get_spectral_radius(Tj)\n",
    "# print(\"spectral radius of Tj = \", spectral_radius)\n",
    "# print(\"convergence: \", spectral_radius < 1, \"\\n\")\n",
    "\n",
    "# Get iteration matrix and spectral radius for Gauss-Seidel Method\n",
    "# Tgs = get_Tgs(A)\n",
    "# spectral_radius = get_spectral_radius(Tgs)\n",
    "# print(\"spectral radius of Tgs = \", spectral_radius)\n",
    "# print(\"convergence: \", spectral_radius < 1, \"\\n\")\n",
    "    "
   ]
  },
  {
   "cell_type": "code",
   "execution_count": 43,
   "metadata": {},
   "outputs": [],
   "source": [
    "def get_spectral_radius(T):\n",
    "    \"\"\"Return the spectral radius, i.e. the max. abs. eigenvalue of the input matrix\"\"\"\n",
    "    eigvals = np.linalg.eigvals(T)\n",
    "    return np.max(abs(eigvals)) # remember to compare the absolute value of the eigenvalues!"
   ]
  },
  {
   "cell_type": "code",
   "execution_count": 44,
   "metadata": {},
   "outputs": [],
   "source": [
    "A1 = np.array([[3, 0, 4], [7, 4, 2], [-1, 1, 2]])\n",
    "A2 = np.array([[-3, 3, -6], [-4, 7, -8], [5, 7, -9]])\n",
    "A3 = np.array([[4, 1, 1], [2, -9, 0], [0, -8, -6]])\n",
    "A4 = np.array([[7, 6, 9], [4, 5, -4], [-7, -3, 8]])\n",
    "A5 = np.array([[3, 2, 1], [2, 3, 2], [1, 2, 3]])"
   ]
  },
  {
   "cell_type": "code",
   "execution_count": 45,
   "metadata": {},
   "outputs": [
    {
     "name": "stdout",
     "output_type": "stream",
     "text": [
      "spectral radius of Tj =  1.12514735635261\n",
      "convergence:  False \n",
      "\n",
      "spectral radius of Tj =  0.8133091054692767\n",
      "convergence:  True \n",
      "\n",
      "spectral radius of Tj =  0.4438188250156999\n",
      "convergence:  True \n",
      "\n",
      "spectral radius of Tj =  0.641132809955697\n",
      "convergence:  True \n",
      "\n",
      "spectral radius of Tgs =  1.5833333333333335\n",
      "convergence:  False \n",
      "\n",
      "spectral radius of Tgs =  1.1111111111111107\n",
      "convergence:  False \n",
      "\n",
      "spectral radius of Tgs =  0.018518518518518517\n",
      "convergence:  True \n",
      "\n",
      "spectral radius of Tgs =  0.7745966692414834\n",
      "convergence:  True \n",
      "\n"
     ]
    }
   ],
   "source": [
    "# Check if Jacobi and Gauss-Seidel Method converge for given matrices A1 - A4\n",
    "for a in [A1, A2, A3, A4]:\n",
    "    Tj = get_Tj(a)\n",
    "    spectral_radius = get_spectral_radius(Tj)\n",
    "    print(\"spectral radius of Tj = \", spectral_radius)\n",
    "    print(\"convergence: \", spectral_radius < 1, \"\\n\")\n",
    "\n",
    "for a in [A1, A2, A3, A4]:\n",
    "    Tgs = get_Tgs(a)\n",
    "    spectral_radius = get_spectral_radius(Tgs)\n",
    "    print(\"spectral radius of Tgs = \", spectral_radius)\n",
    "    print(\"convergence: \", spectral_radius < 1, \"\\n\")"
   ]
  },
  {
   "cell_type": "code",
   "execution_count": 46,
   "metadata": {},
   "outputs": [
    {
     "name": "stdout",
     "output_type": "stream",
     "text": [
      "min. spectral radius =  0.33848706746672824\n",
      "w_opt = 1.151\n"
     ]
    },
    {
     "data": {
      "image/png": "[encoded data removed]",
      "text/plain": [
       "<Figure size 432x288 with 1 Axes>"
      ]
     },
     "metadata": {},
     "output_type": "display_data"
    }
   ],
   "source": [
    "# Successive Overrelaxation method: \n",
    "# plot the spectral radius as a function of w, 0 < w < 2\n",
    "w = np.arange(0.001, 2, 0.001) # weights\n",
    "p = np.zeros(len(w)) # empty array for spectral radius\n",
    "for i in range(len(w)):\n",
    "    Tsor = get_Tsor(A5, w[i])\n",
    "    spectral_radius = get_spectral_radius(Tsor)\n",
    "    p[i] = spectral_radius\n",
    "\n",
    "plt.plot(w, p)\n",
    "plt.xlabel(\"w\")\n",
    "plt.ylabel(\"spectral radius of T_sor\")\n",
    "None\n",
    "\n",
    "print(\"min. spectral radius = \", np.min(p))\n",
    "print(\"w_opt =\", w[np.argmin(p)]) # Optimal value of w for fast convergence"
   ]
  },
  {
   "cell_type": "code",
   "execution_count": 47,
   "metadata": {},
   "outputs": [
    {
     "name": "stdout",
     "output_type": "stream",
     "text": [
      "min. iterations to reach ATOL for w =  0.4 :  219.0\n",
      "min. iterations to reach ATOL for w =  1.4 :  34.0\n"
     ]
    }
   ],
   "source": [
    "# Find minimum number of SOR iterations to achieve ATOL for different w\n",
    "# |ek| = |e0| * |Tk|**k = ATOL --> k = log10(ATOL) / log10(spectral radius of T)\n",
    "ATOL = 1e-10\n",
    "def get_k(T, ATOL):\n",
    "    p = get_spectral_radius(T)\n",
    "    k = np.log10(ATOL) / np.log10(p)\n",
    "    return k\n",
    "\n",
    "w    = 0.4\n",
    "Tsor = get_Tsor(A5, w)\n",
    "k    = get_k(Tsor, ATOL)\n",
    "print(\"min. iterations to reach ATOL for w = \",w, \": \", np.ceil(k) )\n",
    "\n",
    "w    = 1.4\n",
    "Tsor = get_Tsor(A5, w)\n",
    "k    = get_k(Tsor, ATOL)\n",
    "print(\"min. iterations to reach ATOL for w = \",w, \": \", np.ceil(k) )"
   ]
  },
  {
   "cell_type": "code",
   "execution_count": 48,
   "metadata": {},
   "outputs": [],
   "source": [
    "# The smaller the norm of T or the spectral radius, the faster the iterative converges."
   ]
  },
  {
   "cell_type": "code",
   "execution_count": 49,
   "metadata": {},
   "outputs": [],
   "source": [
    "def jacobi_method(A, b, x0, RTOL, ATOL):\n",
    "    start_time = time.time()\n",
    "    T  = get_Tj(A)\n",
    "    p  = get_spectral_radius(T)\n",
    "    print(\"p(Tj) = \", p)\n",
    "    D, L, U = get_dlu_summands(A)\n",
    "    \n",
    "    if(p >= 1.0):\n",
    "        print(\"Apectral radius of Tj = \", spectral_radius, \". \\nThus, the Jacobi Method will not converge for the given A.\")\n",
    "        return 1\n",
    "    \n",
    "    repeat = 1\n",
    "    i = 0\n",
    "    while(repeat):\n",
    "        i += 1\n",
    "        c  = np.linalg.inv(D) @ b\n",
    "        x  = T @ x0 + c\n",
    "        if all((abs(x - x0)) <= RTOL* abs(x) + ATOL):\n",
    "            repeat = 0\n",
    "            print(\"After \", i, \"iterations converged to x = \", x0)\n",
    "            print(\"CPU time: %s seconds\" % (time.time() - start_time))\n",
    "            return x\n",
    "        \n",
    "        else: x0 = x"
   ]
  },
  {
   "cell_type": "code",
   "execution_count": 50,
   "metadata": {},
   "outputs": [],
   "source": [
    "A  = np.array([[5, 2, 1], [4, 11, 5], [7, 8, 16]])\n",
    "b  = np.array([8, 20, 31])\n",
    "x0 = [0.5, 0.5, 0.5]\n",
    "\n",
    "RTOL = 1e-12\n",
    "ATOL = 1e-12"
   ]
  },
  {
   "cell_type": "code",
   "execution_count": 51,
   "metadata": {},
   "outputs": [
    {
     "name": "stdout",
     "output_type": "stream",
     "text": [
      "p(Tj) =  0.7802448571464132\n",
      "After  110 iterations converged to x =  [1. 1. 1.]\n",
      "CPU time: 0.008398056030273438 seconds\n"
     ]
    }
   ],
   "source": [
    "x = jacobi_method(A, b, x0, RTOL, ATOL)"
   ]
  },
  {
   "cell_type": "code",
   "execution_count": 52,
   "metadata": {},
   "outputs": [
    {
     "data": {
      "text/plain": [
       "array([ 8., 20., 31.])"
      ]
     },
     "execution_count": 52,
     "metadata": {},
     "output_type": "execute_result"
    }
   ],
   "source": [
    "A@x"
   ]
  },
  {
   "cell_type": "code",
   "execution_count": 53,
   "metadata": {},
   "outputs": [
    {
     "data": {
      "text/plain": [
       "array([1., 1., 1.])"
      ]
     },
     "execution_count": 53,
     "metadata": {},
     "output_type": "execute_result"
    }
   ],
   "source": [
    "x"
   ]
  },
  {
   "cell_type": "code",
   "execution_count": 54,
   "metadata": {},
   "outputs": [],
   "source": [
    "def gauss_seidel_method(A, b, x0, RTOL, ATOL):\n",
    "    start_time = time.time()\n",
    "    T  = get_Tgs(A)\n",
    "    p  = get_spectral_radius(T)\n",
    "    print(\"p(Tgs) = \", p)\n",
    "    D, L, U = get_dlu_summands(A)\n",
    "    \n",
    "    if(p >= 1.0):\n",
    "        print(\"Spectral radius of Tgs = \", spectral_radius, \". \\nThus, the Gauss-Seidel Method will not converge for the given A.\")\n",
    "        return 1\n",
    "    \n",
    "    repeat = 1\n",
    "    i = 0\n",
    "    while(repeat):\n",
    "        i += 1\n",
    "        c  = np.linalg.inv(D + L) @ b\n",
    "        x  = T @ x0 + c\n",
    "        if all((abs(x - x0)) <= RTOL* abs(x) + ATOL):\n",
    "            repeat = 0\n",
    "            print(\"After \", i, \"iterations converged to x = \", x0)\n",
    "            print(\"CPU time: %s seconds\" % (time.time() - start_time))\n",
    "            return x\n",
    "        \n",
    "        else: x0 = x"
   ]
  },
  {
   "cell_type": "code",
   "execution_count": 55,
   "metadata": {},
   "outputs": [],
   "source": [
    "A  = np.array([[5, 2, 1], [4, 11, 5], [7, 8, 16]])\n",
    "b  = np.array([8, 20, 31])\n",
    "x0 = [0.5, 0.5, 0.5]\n",
    "\n",
    "RTOL = 1e-12\n",
    "ATOL = 1e-12"
   ]
  },
  {
   "cell_type": "code",
   "execution_count": 56,
   "metadata": {},
   "outputs": [
    {
     "name": "stdout",
     "output_type": "stream",
     "text": [
      "p(Tgs) =  0.28203803740888317\n",
      "After  23 iterations converged to x =  [1. 1. 1.]\n",
      "CPU time: 0.003736734390258789 seconds\n"
     ]
    }
   ],
   "source": [
    "x = gauss_seidel_method(A, b, x0, RTOL, ATOL)"
   ]
  },
  {
   "cell_type": "code",
   "execution_count": 57,
   "metadata": {},
   "outputs": [
    {
     "data": {
      "text/plain": [
       "array([ 8., 20., 31.])"
      ]
     },
     "execution_count": 57,
     "metadata": {},
     "output_type": "execute_result"
    }
   ],
   "source": [
    "A@x"
   ]
  },
  {
   "cell_type": "code",
   "execution_count": 61,
   "metadata": {},
   "outputs": [],
   "source": [
    "def sor_method(A, b, x0, w, RTOL, ATOL):\n",
    "    start_time = time.time()\n",
    "    T  = get_Tsor(A, w)\n",
    "    p  = get_spectral_radius(T)\n",
    "    print(\"p(Tsor) = \", p)\n",
    "    D, L, U = get_dlu_summands(A)\n",
    "    \n",
    "    if(p >= 1.0):\n",
    "        print(\"Spectral radius of Tsor = \", spectral_radius, \". \\nThus, the Gauss-Seidel Method will not converge for the given A.\")\n",
    "        return 1\n",
    "    \n",
    "    repeat = 1\n",
    "    i = 0\n",
    "    while(repeat):\n",
    "        i += 1\n",
    "        c  = np.linalg.inv(D + w*L) * w @ b\n",
    "        x  = T @ x0 + c\n",
    "        if all((abs(x - x0)) <= RTOL* abs(x) + ATOL):\n",
    "            repeat = 0\n",
    "            print(\"After \", i, \"iterations converged to x = \", x0)\n",
    "            print(\"CPU time: %s seconds\" % (time.time() - start_time))\n",
    "            return x\n",
    "        \n",
    "        else: x0 = x"
   ]
  },
  {
   "cell_type": "code",
   "execution_count": 62,
   "metadata": {},
   "outputs": [
    {
     "name": "stdout",
     "output_type": "stream",
     "text": [
      "min. spectral radius =  0.2731780361936815\n",
      "w_opt = 1.043\n"
     ]
    },
    {
     "data": {
      "image/png": "[encoded data removed]",
      "text/plain": [
       "<Figure size 432x288 with 1 Axes>"
      ]
     },
     "metadata": {},
     "output_type": "display_data"
    }
   ],
   "source": [
    "# Successive Overrelaxation method: \n",
    "# plot the spectral radius as a function of w, 0 < w < 2\n",
    "w = np.arange(0.001, 2, 0.001) # weights\n",
    "p = np.zeros(len(w)) # empty array for spectral radius\n",
    "for i in range(len(w)):\n",
    "    Tsor = get_Tsor(A, w[i])\n",
    "    spectral_radius = get_spectral_radius(Tsor)\n",
    "    p[i] = spectral_radius\n",
    "\n",
    "plt.plot(w, p)\n",
    "plt.xlabel(\"w\")\n",
    "plt.ylabel(\"spectral radius of T_sor\")\n",
    "None\n",
    "\n",
    "# Find the optimal weight\n",
    "w_opt = w[np.argmin(p)]\n",
    "print(\"min. spectral radius = \", np.min(p))\n",
    "print(\"w_opt =\", w[np.argmin(p)]) # Optimal value of w for fast convergence"
   ]
  },
  {
   "cell_type": "code",
   "execution_count": 63,
   "metadata": {},
   "outputs": [
    {
     "name": "stdout",
     "output_type": "stream",
     "text": [
      "p(Tsor) =  0.2731780361936815\n",
      "After  23 iterations converged to x =  [1. 1. 1.]\n",
      "CPU time: 0.0029778480529785156 seconds\n"
     ]
    },
    {
     "data": {
      "text/plain": [
       "array([1., 1., 1.])"
      ]
     },
     "execution_count": 63,
     "metadata": {},
     "output_type": "execute_result"
    }
   ],
   "source": [
    "# p_tj = get_spectral_radius(get_Tj(A))\n",
    "# w = 2 / (1 + np.sqrt(1 - p_tj)**2) \n",
    "sor_method(A, b, x0, w_opt, RTOL, ATOL)"
   ]
  },
  {
   "cell_type": "code",
   "execution_count": null,
   "metadata": {},
   "outputs": [],
   "source": []
  },
  {
   "cell_type": "code",
   "execution_count": null,
   "metadata": {},
   "outputs": [],
   "source": []
  },
  {
   "cell_type": "code",
   "execution_count": null,
   "metadata": {},
   "outputs": [],
   "source": []
  },
  {
   "cell_type": "code",
   "execution_count": null,
   "metadata": {},
   "outputs": [],
   "source": []
  }
 ],
 "metadata": {
  "kernelspec": {
   "display_name": "Python 3",
   "language": "python",
   "name": "python3"
  },
  "language_info": {
   "codemirror_mode": {
    "name": "ipython",
    "version": 3
   },
   "file_extension": ".py",
   "mimetype": "text/x-python",
   "name": "python",
   "nbconvert_exporter": "python",
   "pygments_lexer": "ipython3",
   "version": "3.6.5"
  }
 },
 "nbformat": 4,
 "nbformat_minor": 2
}
