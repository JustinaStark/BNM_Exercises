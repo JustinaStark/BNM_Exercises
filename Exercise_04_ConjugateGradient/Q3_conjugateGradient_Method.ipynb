{
 "cells": [
  {
   "cell_type": "code",
   "execution_count": 1,
   "metadata": {},
   "outputs": [],
   "source": [
    "import numpy as np\n",
    "import time"
   ]
  },
  {
   "cell_type": "code",
   "execution_count": 2,
   "metadata": {},
   "outputs": [],
   "source": [
    "def conj_grad(A, b, u0, tol, max_iter):\n",
    "    \"\"\"\n",
    "    Implementation of conjugate gradient method according to algorithm in BNM script page 34:\n",
    "    \"Algorithm 4 Conjugate gradient descent\"\n",
    "    A : nxn matrix\n",
    "    b : nx1 vector --> mind the sign! Here we solve for \n",
    "    \n",
    "    Ax = b \n",
    "    Ax - b = 0\n",
    "    \n",
    "    (in the script the b is replaced by -b and then there is Ax + b = 0)\n",
    "    \n",
    "    \"\"\"\n",
    "\n",
    "    u_k = u0 # Initialize variable for minimum with starting point\n",
    "    r_kminus1 = A @ u_k - b # Gradient of F at initial point u0 \n",
    "    p_k = -r_kminus1 # Vector pointing down the gradient\n",
    "    \n",
    "    k = 0 # Iterator\n",
    "    start = time.time()\n",
    "    while (k <= max_iter):\n",
    "        k += 1\n",
    "        print(\"k = \", k)\n",
    "        u_kminus1 = u_k # Update u_kminus1 with u_k from last iteration\n",
    "        if (k >= 2):\n",
    "            e_kminus1 = np.inner(r_kminus1, r_kminus1) / np.inner(r_kminus2, r_kminus2)\n",
    "            print(\"e_kminus1 = \", e_kminus1)\n",
    "            p_k = - r_kminus1 + e_kminus1 * p_k # Search plane\n",
    "            print(\"p_k = \", p_k)\n",
    "        \n",
    "        rho_k = np.inner(r_kminus1, r_kminus1) / np.inner(np.dot(A, p_k), p_k) # Step size\n",
    "        print(\"rho_k = \", rho_k)\n",
    "        u_k = u_kminus1 + rho_k * p_k # Gradient descent step along p_k with step size rho_k\n",
    "        r_k = r_kminus1 + rho_k * np.dot(A, p_k) # Find point where 1st contour tangential to direction of descent\n",
    "        print(\"r_k = \", r_k)\n",
    "        if (np.abs(np.linalg.norm(r_k)) < tol):\n",
    "            print(\"CG converged at iteration \", k, \" to \\n\", u_k)\n",
    "            break\n",
    "        print(\"u_k = \", u_k, \"\\n\")\n",
    "            \n",
    "        # update variables\n",
    "        r_kminus2 = r_kminus1\n",
    "        r_kminus1 = r_k\n",
    "        \n",
    "        end = time.time()\n",
    "        cpu_time = end - start\n",
    "        \n",
    "        \n",
    "    return u_k, k, cpu_time"
   ]
  },
  {
   "cell_type": "code",
   "execution_count": 3,
   "metadata": {},
   "outputs": [
    {
     "name": "stdout",
     "output_type": "stream",
     "text": [
      "k =  1\n",
      "rho_k =  0.15702479338842976\n",
      "r_k =  [-0.04132231  0.0661157  -0.04132231]\n",
      "u_k =  [0.18595041 0.10743802 0.18595041] \n",
      "\n",
      "k =  2\n",
      "e_kminus1 =  0.0005464107642920555\n",
      "p_k =  [ 0.04022949 -0.06748173  0.04022949]\n",
      "rho_k =  1.5921052631578942\n",
      "r_k =  [1.20042865e-15 1.42941214e-15 1.19348975e-15]\n",
      "CG converged at iteration  2  to \n",
      " [2.50000000e-01 3.60822483e-16 2.50000000e-01]\n",
      "uk =  [2.50000000e-01 3.60822483e-16 2.50000000e-01]\n"
     ]
    }
   ],
   "source": [
    "A = [[3,2,1],\n",
    "    [2,3,2],\n",
    "    [1,2,3]]\n",
    "A = np.array(A)\n",
    "\n",
    "b = [1,1,1]\n",
    "b = np.transpose(np.array(b))\n",
    "\n",
    "u0 = np.array([0.5, 0.5, 0.5]).T\n",
    "uk, k, cpu_time = conj_grad(A, b, u0, 1e-10, 1000)\n",
    "print(\"uk = \", uk)"
   ]
  },
  {
   "cell_type": "code",
   "execution_count": 4,
   "metadata": {},
   "outputs": [
    {
     "data": {
      "text/plain": [
       "array([ 2.50000000e-01, -3.33066907e-17,  2.50000000e-01])"
      ]
     },
     "execution_count": 4,
     "metadata": {},
     "output_type": "execute_result"
    }
   ],
   "source": [
    "np.linalg.solve(A, b)"
   ]
  },
  {
   "cell_type": "code",
   "execution_count": null,
   "metadata": {},
   "outputs": [],
   "source": []
  },
  {
   "cell_type": "code",
   "execution_count": null,
   "metadata": {},
   "outputs": [],
   "source": []
  },
  {
   "cell_type": "code",
   "execution_count": null,
   "metadata": {},
   "outputs": [],
   "source": []
  },
  {
   "cell_type": "code",
   "execution_count": 5,
   "metadata": {},
   "outputs": [],
   "source": [
    "def get_matrix_condition_number(A):\n",
    "    ATA     = np.transpose(A) @ A\n",
    "    eig_vals = np.linalg.eigvals(ATA)\n",
    "    l_max   = np.max(eig_vals)\n",
    "    l_min   = np.min(eig_vals)\n",
    "    kappa   = np.sqrt(l_max) / np.sqrt(l_min)\n",
    "    return kappa\n",
    "\n",
    "def get_CG_convergence_factor(A):\n",
    "    kappa = get_matrix_condition_number(A)\n",
    "    alpha = (np.sqrt(kappa) - 1) / (np.sqrt(kappa) + 1)\n",
    "    return alpha\n",
    "\n",
    "def get_CG_min_iter(A, factor):\n",
    "    alpha = get_CG_convergence_factor(A)\n",
    "    k = np.log10(0.5 * factor) / np.log10(alpha)\n",
    "    return k"
   ]
  },
  {
   "cell_type": "code",
   "execution_count": 6,
   "metadata": {},
   "outputs": [
    {
     "name": "stdout",
     "output_type": "stream",
     "text": [
      "Minimum number of iterations to reduce the initial error \n",
      "by factor of 1e-10  =  36.5109039373403 = 37.0\n"
     ]
    }
   ],
   "source": [
    "# Find the minimum numbers of iterations needed to reduce initial error by a factor of 1e-10\n",
    "factor_reduce = 1e-10\n",
    "kmin = get_CG_min_iter(A, factor_reduce)\n",
    "print(\"Minimum number of iterations to reduce the initial error \\nby factor of\", factor_reduce, \" = \", kmin, \"=\", np.ceil(kmin))"
   ]
  },
  {
   "cell_type": "code",
   "execution_count": 7,
   "metadata": {},
   "outputs": [
    {
     "data": {
      "text/plain": [
       "10.151492315720775"
      ]
     },
     "execution_count": 7,
     "metadata": {},
     "output_type": "execute_result"
    }
   ],
   "source": [
    "get_matrix_condition_number(A)"
   ]
  },
  {
   "cell_type": "code",
   "execution_count": null,
   "metadata": {},
   "outputs": [],
   "source": []
  }
 ],
 "metadata": {
  "kernelspec": {
   "display_name": "Python 3",
   "language": "python",
   "name": "python3"
  },
  "language_info": {
   "codemirror_mode": {
    "name": "ipython",
    "version": 3
   },
   "file_extension": ".py",
   "mimetype": "text/x-python",
   "name": "python",
   "nbconvert_exporter": "python",
   "pygments_lexer": "ipython3",
   "version": "3.6.5"
  }
 },
 "nbformat": 4,
 "nbformat_minor": 2
}
