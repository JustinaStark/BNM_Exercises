{
 "cells": [
  {
   "cell_type": "code",
   "execution_count": 29,
   "metadata": {},
   "outputs": [],
   "source": [
    "import numpy as np\n",
    "import time\n",
    "import matplotlib.pyplot as plt"
   ]
  },
  {
   "cell_type": "code",
   "execution_count": 2,
   "metadata": {},
   "outputs": [],
   "source": [
    "def get_matrix_condition_number(A):\n",
    "    ATA     = np.transpose(A) @ A\n",
    "    eig_vals = np.linalg.eigvals(ATA)\n",
    "    l_max   = np.max(eig_vals)\n",
    "    l_min   = np.min(eig_vals)\n",
    "    kappa   = np.sqrt(l_max) / np.sqrt(l_min)\n",
    "    return kappa\n",
    "\n",
    "def get_CG_convergence_factor(A):\n",
    "    kappa = get_matrix_condition_number(A)\n",
    "    alpha = (np.sqrt(kappa) - 1) / (np.sqrt(kappa) + 1)\n",
    "    return alpha\n",
    "\n",
    "def get_CG_min_iter(A, factor):\n",
    "    alpha = get_CG_convergence_factor(A)\n",
    "    k = np.log10(0.5 * factor) / np.log10(alpha)\n",
    "    return np.ceil(k)"
   ]
  },
  {
   "cell_type": "code",
   "execution_count": 3,
   "metadata": {},
   "outputs": [],
   "source": [
    "def conj_grad(A, b, u0, tol, max_iter):\n",
    "    \n",
    "    \"\"\"\n",
    "    Implementation of conjugate gradient method according to algorithm in BNM script page 34:\n",
    "    \"Algorithm 4 Conjugate gradient descent\"\n",
    "    A : nxn matrix\n",
    "    b : nx1 vector --> mind the sign! Here we solve for \n",
    "    \n",
    "    Ax = b \n",
    "    Ax - b = 0\n",
    "    \n",
    "    (in the script the b is replaced by -b and then there is Ax + b = 0)\n",
    "    \n",
    "    \"\"\"\n",
    "    r_kminus1 = A @ u0 - b # Gradient of F at initial point u0 \n",
    "    p_k = -r_kminus1 # Vector pointing down the gradient\n",
    "    \n",
    "    u_k = u0 # Initialize variable for minimum with starting point\n",
    "    \n",
    "    k = 0 # Iterator\n",
    "    start = time.time()\n",
    "    while (k <= max_iter):\n",
    "        k += 1\n",
    "#         print(\"k = \", k)\n",
    "        u_kminus1 = u_k # Update u_kminus1 with u_k from last iteration\n",
    "        if (k >= 2):\n",
    "            e_kminus1 = np.inner(r_kminus1, r_kminus1) / np.inner(r_kminus2, r_kminus2)\n",
    "#             print(\"e_kminus1 = \", e_kminus1)\n",
    "            p_k = - r_kminus1 + e_kminus1 * p_k # Search plane\n",
    "#             print(\"p_k = \", p_k)\n",
    "        \n",
    "        rho_k = np.inner(r_kminus1, r_kminus1) / np.inner(np.dot(A, p_k), p_k) # Step size\n",
    "#         print(\"rho_k = \", rho_k)\n",
    "        u_k = u_kminus1 + rho_k * p_k # Gradient descent step along p_k with step size rho_k\n",
    "        r_k = r_kminus1 + rho_k * np.dot(A, p_k) # Find point where 1st contour tangential to direction of descent\n",
    "#         print(\"r_k = \", r_k)\n",
    "        if (np.abs(np.linalg.norm(r_k)) < tol):\n",
    "            print(\"CG converged at iteration \", k, \" to \\n\", u_k)\n",
    "            \n",
    "            end = time.time()\n",
    "            cpu_time = end - start\n",
    "            return u_k , k, cpu_time\n",
    "#         print(\"u_k = \", u_k, \"\\n\")\n",
    "            \n",
    "        # update variables\n",
    "        r_kminus2 = r_kminus1\n",
    "        r_kminus1 = r_k\n",
    "        \n",
    "        end = time.time()\n",
    "        cpu_time = end - start\n",
    "        \n",
    "        \n",
    "    return u_k , k, cpu_time"
   ]
  },
  {
   "cell_type": "code",
   "execution_count": 4,
   "metadata": {},
   "outputs": [
    {
     "name": "stdout",
     "output_type": "stream",
     "text": [
      "CG converged at iteration  4  to \n",
      " [ 0.58823529 -0.76470588  0.17647059  1.09803922]\n",
      "cpu time =  0.0010859966278076172\n"
     ]
    }
   ],
   "source": [
    "A = [[3,1,0,0],\n",
    "    [1,4,1,3],\n",
    "    [0,1,10,0],\n",
    "    [0,3,0,3]]\n",
    "A = np.array(A)\n",
    "b = np.array([1,1,1,1]).T\n",
    "\n",
    "n = A.shape[0]\n",
    "# u0 = np.random.rand(n).T\n",
    "u0 = np.array([0.5, 0.5, 0.5, 0.5]).T\n",
    "\n",
    "uk, k, cpu_time = conj_grad(A, b, u0, 1e-7, 10)\n",
    "\n",
    "print(\"cpu time = \", cpu_time)"
   ]
  },
  {
   "cell_type": "code",
   "execution_count": 5,
   "metadata": {},
   "outputs": [
    {
     "data": {
      "text/plain": [
       "array([ 0.58823529, -0.76470588,  0.17647059,  1.09803922])"
      ]
     },
     "execution_count": 5,
     "metadata": {},
     "output_type": "execute_result"
    }
   ],
   "source": [
    "np.linalg.solve(A, b)"
   ]
  },
  {
   "cell_type": "code",
   "execution_count": 6,
   "metadata": {},
   "outputs": [
    {
     "name": "stdout",
     "output_type": "stream",
     "text": [
      "Minimum number of iterations to reduce the initial error by factor of 1e-7 =  53.0\n"
     ]
    }
   ],
   "source": [
    "# Find the minimum numbers of iterations needed to reduce initial error by a factor of 1e-7\n",
    "kmin = get_CG_min_iter(A, 1e-7)\n",
    "print(\"Minimum number of iterations to reduce the initial error by factor of 1e-7 = \", np.ceil(kmin))"
   ]
  },
  {
   "cell_type": "code",
   "execution_count": 7,
   "metadata": {},
   "outputs": [
    {
     "data": {
      "text/plain": [
       "40.06988779953552"
      ]
     },
     "execution_count": 7,
     "metadata": {},
     "output_type": "execute_result"
    }
   ],
   "source": [
    "get_matrix_condition_number(A)"
   ]
  },
  {
   "cell_type": "markdown",
   "metadata": {},
   "source": [
    "# Preconditioning with Cholesky decomposition"
   ]
  },
  {
   "cell_type": "code",
   "execution_count": 8,
   "metadata": {},
   "outputs": [],
   "source": [
    "def cholesky_decomposition(A):\n",
    "    \"\"\"\n",
    "    Cholesky decomposition of A for Pre-conditioning for CG method\n",
    "\n",
    "    \"\"\"\n",
    "    # Check if A symmetric matrix\n",
    "    assert((A == A.T).all), \"Matrix is not a symmetric nxn matrix\"\n",
    "    \n",
    "    # Initialize lower triangular matrix L\n",
    "    L = np.zeros(A.shape)\n",
    "    n = A.shape[0]    \n",
    "    for k in range(n):\n",
    "        for i in range(k+1):\n",
    "                \n",
    "            if i != k:\n",
    "                L[k, i] = (1/L[i, i]) * (A[k, i] - sum(L[i, j] * L[k, j] for j in range(i)))\n",
    "                \n",
    "            else:\n",
    "                L[k, k] = np.sqrt(A[k, k] - sum((L[k, j] * L[k, j]) for j in range(k)))                \n",
    "    return L"
   ]
  },
  {
   "cell_type": "code",
   "execution_count": 9,
   "metadata": {},
   "outputs": [],
   "source": [
    "A = [[3.0,1.0,0.0,0.0],\n",
    "    [1.0,4.0,1.0,3.0],\n",
    "    [0.0,1.0,10.0,0.0],\n",
    "    [0.0,3.0,0.0,3.0]]\n",
    "A = np.array(A)\n",
    "H = cholesky_decomposition(A)\n",
    "# incompl_cholesky_decomp(A)"
   ]
  },
  {
   "cell_type": "code",
   "execution_count": 10,
   "metadata": {},
   "outputs": [
    {
     "data": {
      "text/plain": [
       "array([[ 1.73205081,  0.        ,  0.        ,  0.        ],\n",
       "       [ 0.57735027,  1.91485422,  0.        ,  0.        ],\n",
       "       [ 0.        ,  0.52223297,  3.1188576 ,  0.        ],\n",
       "       [ 0.        ,  1.5666989 , -0.26233382,  0.69038794]])"
      ]
     },
     "execution_count": 10,
     "metadata": {},
     "output_type": "execute_result"
    }
   ],
   "source": [
    "H"
   ]
  },
  {
   "cell_type": "code",
   "execution_count": 11,
   "metadata": {},
   "outputs": [
    {
     "name": "stdout",
     "output_type": "stream",
     "text": [
      "[[3.00000000e+00 1.00000000e+00 0.00000000e+00 0.00000000e+00]\n",
      " [1.00000000e+00 4.00000000e+00 1.00000000e+00 3.00000000e+00]\n",
      " [0.00000000e+00 1.00000000e+00 1.00000000e+01 9.22425856e-17]\n",
      " [0.00000000e+00 3.00000000e+00 9.22425856e-17 3.00000000e+00]]\n"
     ]
    }
   ],
   "source": [
    "# Just a check\n",
    "C = H @ np.transpose(H)\n",
    "print(C)"
   ]
  },
  {
   "cell_type": "code",
   "execution_count": 12,
   "metadata": {},
   "outputs": [
    {
     "data": {
      "text/plain": [
       "array([[ 1.73205081,  0.        ,  0.        ,  0.        ],\n",
       "       [ 0.57735027,  1.91485422,  0.        ,  0.        ],\n",
       "       [ 0.        ,  0.52223297,  3.1188576 ,  0.        ],\n",
       "       [ 0.        ,  1.5666989 , -0.26233382,  0.69038794]])"
      ]
     },
     "execution_count": 12,
     "metadata": {},
     "output_type": "execute_result"
    }
   ],
   "source": [
    "# Just a check to compare if cholesky decomposition working well\n",
    "import scipy.linalg\n",
    "scipy.linalg.cholesky(A, True)"
   ]
  },
  {
   "cell_type": "markdown",
   "metadata": {},
   "source": [
    "# Do the Pre-conditioning of A and get A_tilde"
   ]
  },
  {
   "cell_type": "code",
   "execution_count": 13,
   "metadata": {},
   "outputs": [],
   "source": [
    "H_inv       = np.linalg.inv(H)\n",
    "H_trans     = H.T\n",
    "H_trans_inv = np.linalg.inv(H_trans)\n",
    "\n",
    "A_tilde = H_inv @ A @ H_trans_inv\n",
    "b_tilde = H_inv @ b\n",
    "\n",
    "# x_tilde = H_trans @ x --> to get solution x, compute x = H_trans_inv @ x_tilde"
   ]
  },
  {
   "cell_type": "markdown",
   "metadata": {},
   "source": [
    "# Solve A_tilde x_tilde = b_tilde using Conjugate Gradient method"
   ]
  },
  {
   "cell_type": "code",
   "execution_count": 14,
   "metadata": {},
   "outputs": [
    {
     "name": "stdout",
     "output_type": "stream",
     "text": [
      "CG converged at iteration  1  to \n",
      " [0.57735027 0.34815531 0.26233382 0.75807304]\n"
     ]
    }
   ],
   "source": [
    "u0 = np.array([0.5, 0.5, 0.5, 0.5]).T\n",
    "uk, k, cpu_time = conj_grad(A_tilde, b_tilde, u0, 1e-12, 1e3)"
   ]
  },
  {
   "cell_type": "code",
   "execution_count": 15,
   "metadata": {},
   "outputs": [
    {
     "name": "stdout",
     "output_type": "stream",
     "text": [
      "x =  [ 0.58823529 -0.76470588  0.17647059  1.09803922]\n"
     ]
    }
   ],
   "source": [
    "# Compute x from uk = x_tilde\n",
    "x = np.linalg.inv(H_trans) @ uk\n",
    "print(\"x = \", x)"
   ]
  },
  {
   "cell_type": "code",
   "execution_count": 16,
   "metadata": {},
   "outputs": [
    {
     "data": {
      "text/plain": [
       "array([ 0.58823529, -0.76470588,  0.17647059,  1.09803922])"
      ]
     },
     "execution_count": 16,
     "metadata": {},
     "output_type": "execute_result"
    }
   ],
   "source": [
    "np.linalg.solve(A, b)"
   ]
  },
  {
   "cell_type": "code",
   "execution_count": null,
   "metadata": {},
   "outputs": [],
   "source": []
  },
  {
   "cell_type": "code",
   "execution_count": null,
   "metadata": {},
   "outputs": [],
   "source": []
  },
  {
   "cell_type": "markdown",
   "metadata": {},
   "source": [
    "# Tridiagonal sparse matrix"
   ]
  },
  {
   "cell_type": "code",
   "execution_count": 17,
   "metadata": {},
   "outputs": [
    {
     "name": "stdout",
     "output_type": "stream",
     "text": [
      "A = \n",
      " [[-2.  1.  0. ...  0.  0.  0.]\n",
      " [ 1. -2.  1. ...  0.  0.  0.]\n",
      " [ 0.  1. -2. ...  0.  0.  0.]\n",
      " ...\n",
      " [ 0.  0.  0. ... -2.  1.  0.]\n",
      " [ 0.  0.  0. ...  1. -2.  1.]\n",
      " [ 0.  0.  0. ...  0.  1. -2.]] (100, 100)\n"
     ]
    }
   ],
   "source": [
    "# Build tridiagonal sparse matrix\n",
    "from scipy.sparse import diags\n",
    "n = 100\n",
    "c = np.array([1 for i in range(n-1)])\n",
    "d = np.array([-2 for i in range(n)])\n",
    "k = np.array([c, d, c])\n",
    "offset = [-1,0,1]\n",
    "A      = diags(k,offset).toarray()\n",
    "print(\"A = \\n\", A, A.shape)"
   ]
  },
  {
   "cell_type": "code",
   "execution_count": 18,
   "metadata": {},
   "outputs": [],
   "source": [
    "h = 1/n\n",
    "b = np.array([2*h**2 for i in range(n)])\n",
    "# print(\"b = \\n\", b, b.shape)"
   ]
  },
  {
   "cell_type": "code",
   "execution_count": 19,
   "metadata": {},
   "outputs": [
    {
     "name": "stdout",
     "output_type": "stream",
     "text": [
      "CG converged at iteration  50  to \n",
      " [-0.01   -0.0198 -0.0294 -0.0388 -0.048  -0.057  -0.0658 -0.0744 -0.0828\n",
      " -0.091  -0.099  -0.1068 -0.1144 -0.1218 -0.129  -0.136  -0.1428 -0.1494\n",
      " -0.1558 -0.162  -0.168  -0.1738 -0.1794 -0.1848 -0.19   -0.195  -0.1998\n",
      " -0.2044 -0.2088 -0.213  -0.217  -0.2208 -0.2244 -0.2278 -0.231  -0.234\n",
      " -0.2368 -0.2394 -0.2418 -0.244  -0.246  -0.2478 -0.2494 -0.2508 -0.252\n",
      " -0.253  -0.2538 -0.2544 -0.2548 -0.255  -0.255  -0.2548 -0.2544 -0.2538\n",
      " -0.253  -0.252  -0.2508 -0.2494 -0.2478 -0.246  -0.244  -0.2418 -0.2394\n",
      " -0.2368 -0.234  -0.231  -0.2278 -0.2244 -0.2208 -0.217  -0.213  -0.2088\n",
      " -0.2044 -0.1998 -0.195  -0.19   -0.1848 -0.1794 -0.1738 -0.168  -0.162\n",
      " -0.1558 -0.1494 -0.1428 -0.136  -0.129  -0.1218 -0.1144 -0.1068 -0.099\n",
      " -0.091  -0.0828 -0.0744 -0.0658 -0.057  -0.048  -0.0388 -0.0294 -0.0198\n",
      " -0.01  ]\n"
     ]
    }
   ],
   "source": [
    "u0 = np.array([0.5 for i in range(n)]).T\n",
    "uk, k, cpu_time = conj_grad(A, b, u0, 1e-12, 1e3)"
   ]
  },
  {
   "cell_type": "code",
   "execution_count": 20,
   "metadata": {},
   "outputs": [],
   "source": [
    "x_numpy = np.linalg.solve(A, b)"
   ]
  },
  {
   "cell_type": "code",
   "execution_count": 21,
   "metadata": {},
   "outputs": [
    {
     "name": "stdout",
     "output_type": "stream",
     "text": [
      "CG found correct solution\n"
     ]
    }
   ],
   "source": [
    "if((uk == x_numpy).all ):\n",
    "    print(\"CG found correct solution\")"
   ]
  },
  {
   "cell_type": "code",
   "execution_count": null,
   "metadata": {},
   "outputs": [],
   "source": []
  },
  {
   "cell_type": "code",
   "execution_count": null,
   "metadata": {},
   "outputs": [],
   "source": []
  },
  {
   "cell_type": "code",
   "execution_count": null,
   "metadata": {},
   "outputs": [],
   "source": []
  },
  {
   "cell_type": "code",
   "execution_count": 26,
   "metadata": {},
   "outputs": [
    {
     "name": "stdout",
     "output_type": "stream",
     "text": [
      "nxn = \n",
      " (100, 100)\n",
      "nxn = \n",
      " (500, 500)\n",
      "nxn = \n",
      " (1000, 1000)\n"
     ]
    }
   ],
   "source": [
    "# Build tridiagonal sparse matrix\n",
    "from scipy.sparse import diags\n",
    "min_iter = []\n",
    "kappa = []\n",
    "N = []\n",
    "for n in [100, 500, 1000]:\n",
    "    c = np.array([1 for i in range(n-1)])\n",
    "    d = np.array([-2 for i in range(n)])\n",
    "    k = np.array([c, d, c])\n",
    "    offset = [-1,0,1]\n",
    "    A      = diags(k,offset).toarray()\n",
    "    print(\"nxn = \\n\", A.shape)\n",
    "    \n",
    "    min_iter.append(get_CG_min_iter(A, 1e-12))\n",
    "    kappa.append(get_matrix_condition_number(A))\n",
    "    N.append(n)\n",
    "    "
   ]
  },
  {
   "cell_type": "code",
   "execution_count": 31,
   "metadata": {},
   "outputs": [
    {
     "data": {
      "text/plain": [
       "[<matplotlib.lines.Line2D at 0x7ff96ffee828>]"
      ]
     },
     "execution_count": 31,
     "metadata": {},
     "output_type": "execute_result"
    },
    {
     "data": {
      "image/png": "[encoded data removed]",
      "text/plain": [
       "<Figure size 432x288 with 1 Axes>"
      ]
     },
     "metadata": {},
     "output_type": "display_data"
    }
   ],
   "source": [
    "plt.plot(N, kappa)\n",
    "plt.plot(N, min_iter)"
   ]
  },
  {
   "cell_type": "code",
   "execution_count": null,
   "metadata": {},
   "outputs": [],
   "source": []
  }
 ],
 "metadata": {
  "kernelspec": {
   "display_name": "Python 3",
   "language": "python",
   "name": "python3"
  },
  "language_info": {
   "codemirror_mode": {
    "name": "ipython",
    "version": 3
   },
   "file_extension": ".py",
   "mimetype": "text/x-python",
   "name": "python",
   "nbconvert_exporter": "python",
   "pygments_lexer": "ipython3",
   "version": "3.6.5"
  }
 },
 "nbformat": 4,
 "nbformat_minor": 2
}
