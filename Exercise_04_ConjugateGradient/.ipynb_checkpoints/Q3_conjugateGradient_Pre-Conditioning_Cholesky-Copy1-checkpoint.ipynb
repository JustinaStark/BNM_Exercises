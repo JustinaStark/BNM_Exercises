{
 "cells": [
  {
   "cell_type": "code",
   "execution_count": 3,
   "metadata": {},
   "outputs": [],
   "source": [
    "import numpy as np\n",
    "import time"
   ]
  },
  {
   "cell_type": "code",
   "execution_count": 4,
   "metadata": {},
   "outputs": [],
   "source": [
    "def get_matrix_condition_number(A):\n",
    "    ATA     = np.transpose(A) @ A\n",
    "    eig_vals = np.linalg.eigvals(ATA)\n",
    "    l_max   = np.max(eig_vals)\n",
    "    l_min   = np.min(eig_vals)\n",
    "    kappa   = np.sqrt(l_max) / np.sqrt(l_min)\n",
    "    return kappa\n",
    "\n",
    "def get_CG_convergence_factor(A):\n",
    "    kappa = get_matrix_condition_number(A)\n",
    "    alpha = (np.sqrt(kappa) - 1) / (np.sqrt(kappa) + 1)\n",
    "    return alpha\n",
    "\n",
    "def get_CG_min_iter(A, factor):\n",
    "    alpha = get_CG_convergence_factor(A)\n",
    "    k = np.log10(0.5 * factor) / np.log10(alpha)\n",
    "    return np.ceil(k)"
   ]
  },
  {
   "cell_type": "code",
   "execution_count": 5,
   "metadata": {},
   "outputs": [],
   "source": [
    "def conj_grad(A, b, u0, tol, max_iter):\n",
    "    \n",
    "    # Finds the solution to Ax = b using conjugate gradient method\n",
    "    \n",
    "    # Implementation of conjugate gradient method according to algorithm in BNM script page 34:\n",
    "    # \"Algorithm 4 Conjugate gradient descent\"\n",
    "    \n",
    "    r_kminus1 = A @ u0 - b # Gradient of F at initial point u0 \n",
    "    p_k = -r_kminus1 # Vector pointing down the gradient\n",
    "    \n",
    "    u_k = u0 # Initialize variable for minimum with starting point\n",
    "    \n",
    "    k = 0 # Iterator\n",
    "    start = time.time()\n",
    "    while (k <= max_iter):\n",
    "        k += 1\n",
    "        print(\"k = \", k)\n",
    "        u_kminus1 = u_k # Update u_kminus1 with u_k from last iteration\n",
    "        if (k >= 2):\n",
    "            e_kminus1 = np.inner(r_kminus1, r_kminus1) / np.inner(r_kminus2, r_kminus2)\n",
    "#             print(\"e_kminus1 = \", e_kminus1)\n",
    "            p_k = - r_kminus1 + e_kminus1 * p_k # Search plane\n",
    "#             print(\"p_k = \", p_k)\n",
    "        \n",
    "        rho_k = np.inner(r_kminus1, r_kminus1) / np.inner(np.dot(A, p_k), p_k) # Step size\n",
    "#         print(\"rho_k = \", rho_k)\n",
    "        u_k = u_kminus1 + rho_k * p_k # Gradient descent step along p_k with step size rho_k\n",
    "        r_k = r_kminus1 + rho_k * np.dot(A, p_k) # Find point where 1st contour tangential to direction of descent\n",
    "#         print(\"r_k = \", r_k)\n",
    "        if (np.abs(np.linalg.norm(r_k)) < tol):\n",
    "            print(\"CG converged at iteration \", k, \" to \\n\", u_k)\n",
    "            break\n",
    "        print(\"u_k = \", u_k, \"\\n\")\n",
    "            \n",
    "        # update variables\n",
    "        r_kminus2 = r_kminus1\n",
    "        r_kminus1 = r_k\n",
    "        \n",
    "        end = time.time()\n",
    "        cpu_time = end - start\n",
    "        \n",
    "        \n",
    "    return u_k , k, cpu_time"
   ]
  },
  {
   "cell_type": "code",
   "execution_count": 20,
   "metadata": {},
   "outputs": [
    {
     "name": "stdout",
     "output_type": "stream",
     "text": [
      "k =  1\n",
      "u_k =  [0.39193084 0.12175793 0.01368876 0.28386167] \n",
      "\n",
      "k =  2\n",
      "u_k =  [ 0.34102862 -0.01064058  0.10494351  0.24029628] \n",
      "\n",
      "k =  3\n",
      "u_k =  [ 0.28036707 -0.29864877  0.12713184  0.64407657] \n",
      "\n",
      "k =  4\n",
      "CG converged at iteration  4  to \n",
      " [ 0.58823529 -0.76470588  0.17647059  1.09803922]\n",
      "cpu time =  0.0016739368438720703\n"
     ]
    }
   ],
   "source": [
    "A = [[3,1,0,0],\n",
    "    [1,4,1,3],\n",
    "    [0,1,10,0],\n",
    "    [0,3,0,3]]\n",
    "A = np.array(A)\n",
    "b = np.array([1,1,1,1]).T\n",
    "\n",
    "n = A.shape[0]\n",
    "# u0 = np.random.rand(n).T\n",
    "u0 = np.array([0.5, 0.5, 0.5, 0.5]).T\n",
    "\n",
    "uk, k, cpu_time = conj_grad(A, b, u0, 1e-7, 10)\n",
    "\n",
    "print(\"cpu time = \", cpu_time)"
   ]
  },
  {
   "cell_type": "code",
   "execution_count": 21,
   "metadata": {},
   "outputs": [
    {
     "data": {
      "text/plain": [
       "array([ 0.58823529, -0.76470588,  0.17647059,  1.09803922])"
      ]
     },
     "execution_count": 21,
     "metadata": {},
     "output_type": "execute_result"
    }
   ],
   "source": [
    "np.linalg.solve(A, b)"
   ]
  },
  {
   "cell_type": "code",
   "execution_count": 22,
   "metadata": {},
   "outputs": [
    {
     "name": "stdout",
     "output_type": "stream",
     "text": [
      "Minimum number of iterations to reduce the initial error by factor of 1e-7 =  53.0\n"
     ]
    }
   ],
   "source": [
    "# Find the minimum numbers of iterations needed to reduce initial error by a factor of 1e-7\n",
    "kmin = get_CG_min_iter(A, 1e-7)\n",
    "print(\"Minimum number of iterations to reduce the initial error by factor of 1e-7 = \", np.ceil(kmin))"
   ]
  },
  {
   "cell_type": "code",
   "execution_count": 23,
   "metadata": {},
   "outputs": [
    {
     "data": {
      "text/plain": [
       "40.06988779953552"
      ]
     },
     "execution_count": 23,
     "metadata": {},
     "output_type": "execute_result"
    }
   ],
   "source": [
    "get_matrix_condition_number(A)"
   ]
  },
  {
   "cell_type": "code",
   "execution_count": 24,
   "metadata": {},
   "outputs": [],
   "source": [
    "def cholesky_decomposition(A):\n",
    "    \"\"\"\n",
    "    Cholesky decomposition of A for Pre-conditioning for CG method\n",
    "\n",
    "    \"\"\"\n",
    "    # Check if A symmetric matrix\n",
    "    assert()\n",
    "    # Initialize lower triangular matrix L\n",
    "    L = np.zeros(A.shape)\n",
    "    n = A.shape[0]    \n",
    "    for k in range(n):\n",
    "        for i in range(k+1):\n",
    "                \n",
    "            if i != k:\n",
    "                L[k, i] = (1/L[i, i]) * (A[k, i] - sum(L[i, j] * L[k, j] for j in range(i)))\n",
    "                \n",
    "            else:\n",
    "                L[k, k] = np.sqrt(A[k, k] - sum((L[k, j] * L[k, j]) for j in range(k)))                \n",
    "    return L"
   ]
  },
  {
   "cell_type": "code",
   "execution_count": 25,
   "metadata": {},
   "outputs": [],
   "source": [
    "A = [[3.0,1.0,0.0,0.0],\n",
    "    [1.0,4.0,1.0,3.0],\n",
    "    [0.0,1.0,10.0,0.0],\n",
    "    [0.0,3.0,0.0,3.0]]\n",
    "A = np.array(A)\n",
    "L = cholesky_decomposition(A)\n",
    "# incompl_cholesky_decomp(A)"
   ]
  },
  {
   "cell_type": "code",
   "execution_count": 26,
   "metadata": {},
   "outputs": [
    {
     "data": {
      "text/plain": [
       "array([[ 1.73205081,  0.        ,  0.        ,  0.        ],\n",
       "       [ 0.57735027,  1.91485422,  0.        ,  0.        ],\n",
       "       [ 0.        ,  0.52223297,  3.1188576 ,  0.        ],\n",
       "       [ 0.        ,  1.5666989 , -0.26233382,  0.69038794]])"
      ]
     },
     "execution_count": 26,
     "metadata": {},
     "output_type": "execute_result"
    }
   ],
   "source": [
    "import scipy.linalg\n",
    "scipy.linalg.cholesky(A, True)"
   ]
  },
  {
   "cell_type": "code",
   "execution_count": 27,
   "metadata": {},
   "outputs": [
    {
     "name": "stdout",
     "output_type": "stream",
     "text": [
      "[[3.00000000e+00 1.00000000e+00 0.00000000e+00 0.00000000e+00]\n",
      " [1.00000000e+00 4.00000000e+00 1.00000000e+00 3.00000000e+00]\n",
      " [0.00000000e+00 1.00000000e+00 1.00000000e+01 9.22425856e-17]\n",
      " [0.00000000e+00 3.00000000e+00 9.22425856e-17 3.00000000e+00]]\n"
     ]
    }
   ],
   "source": [
    "C = L @ np.transpose(L)\n",
    "print(C)"
   ]
  },
  {
   "cell_type": "code",
   "execution_count": 28,
   "metadata": {},
   "outputs": [
    {
     "name": "stdout",
     "output_type": "stream",
     "text": [
      "k =  1\n",
      "u_k =  [0.39193084 0.12175793 0.01368876 0.28386167] \n",
      "\n",
      "k =  2\n",
      "u_k =  [ 0.34102862 -0.01064058  0.10494351  0.24029628] \n",
      "\n",
      "k =  3\n",
      "u_k =  [ 0.28036707 -0.29864877  0.12713184  0.64407657] \n",
      "\n",
      "k =  4\n",
      "CG converged at iteration  4  to \n",
      " [ 0.58823529 -0.76470588  0.17647059  1.09803922]\n"
     ]
    }
   ],
   "source": [
    "u0 = np.array([0.5, 0.5, 0.5, 0.5]).T\n",
    "uk, k, cpu_time = conj_grad(C, b, u0, 1e-10, 20)"
   ]
  },
  {
   "cell_type": "code",
   "execution_count": 30,
   "metadata": {},
   "outputs": [
    {
     "data": {
      "text/plain": [
       "0.001611948013305664"
      ]
     },
     "execution_count": 30,
     "metadata": {},
     "output_type": "execute_result"
    }
   ],
   "source": [
    "cpu_time"
   ]
  },
  {
   "cell_type": "code",
   "execution_count": null,
   "metadata": {},
   "outputs": [],
   "source": []
  }
 ],
 "metadata": {
  "kernelspec": {
   "display_name": "Python 3",
   "language": "python",
   "name": "python3"
  },
  "language_info": {
   "codemirror_mode": {
    "name": "ipython",
    "version": 3
   },
   "file_extension": ".py",
   "mimetype": "text/x-python",
   "name": "python",
   "nbconvert_exporter": "python",
   "pygments_lexer": "ipython3",
   "version": "3.6.5"
  }
 },
 "nbformat": 4,
 "nbformat_minor": 2
}
