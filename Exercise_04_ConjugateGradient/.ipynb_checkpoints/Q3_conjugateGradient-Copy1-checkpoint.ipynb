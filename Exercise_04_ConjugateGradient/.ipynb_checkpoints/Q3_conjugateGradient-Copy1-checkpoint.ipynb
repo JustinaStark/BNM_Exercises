{
 "cells": [
  {
   "cell_type": "code",
   "execution_count": 3,
   "metadata": {},
   "outputs": [],
   "source": [
    "import numpy as np\n",
    "import time"
   ]
  },
  {
   "cell_type": "code",
   "execution_count": 4,
   "metadata": {},
   "outputs": [],
   "source": [
    "def get_matrix_condition_number(A):\n",
    "    ATA     = np.transpose(A) @ A\n",
    "    eig_vals = np.linalg.eigvals(ATA)\n",
    "    l_max   = np.max(eig_vals)\n",
    "    l_min   = np.min(eig_vals)\n",
    "    kappa   = np.sqrt(l_max) / np.sqrt(l_min)\n",
    "    return kappa\n",
    "\n",
    "def get_CG_convergence_factor(A):\n",
    "    kappa = get_matrix_condition_number(A)\n",
    "    alpha = (np.sqrt(kappa) - 1) / (np.sqrt(kappa) + 1)\n",
    "    return alpha\n",
    "\n",
    "def get_CG_min_iter(A, factor):\n",
    "    alpha = get_CG_convergence_factor(A)\n",
    "    k = np.log10(0.5 * factor) / np.log10(alpha)\n",
    "    return np.ceil(k)"
   ]
  },
  {
   "cell_type": "code",
   "execution_count": 5,
   "metadata": {},
   "outputs": [],
   "source": [
    "def conj_grad(A, b, u0, tol, max_iter):\n",
    "    \"\"\"\n",
    "    Implementation of conjugate gradient method according to algorithm in BNM script page 34:\n",
    "    \"Algorithm 4 Conjugate gradient descent\"\n",
    "    A : nxn matrix\n",
    "    b : nx1 vector --> mind the sign! Here we solve for \n",
    "    \n",
    "    Ax = b \n",
    "    Ax - b = 0\n",
    "    \n",
    "    (in the script the b is replaced by -b and then there is Ax + b = 0)\n",
    "    \n",
    "    \"\"\"\n",
    "    \n",
    "    # Finds the solution to Ax = b using conjugate gradient method\n",
    "    \n",
    "    # Implementation of conjugate gradient method according to algorithm in BNM script page 34:\n",
    "    # \"Algorithm 4 Conjugate gradient descent\"\n",
    "    \n",
    "    r_kminus1 = A @ u0 - b # Gradient of F at initial point u0 \n",
    "    p_k = -r_kminus1 # Vector pointing down the gradient\n",
    "    \n",
    "    u_k = u0 # Initialize variable for minimum with starting point\n",
    "    \n",
    "    k = 0 # Iterator\n",
    "    start = time.time()\n",
    "    while (k <= max_iter):\n",
    "        k += 1\n",
    "        print(\"k = \", k)\n",
    "        u_kminus1 = u_k # Update u_kminus1 with u_k from last iteration\n",
    "        if (k >= 2):\n",
    "            e_kminus1 = np.inner(r_kminus1, r_kminus1) / np.inner(r_kminus2, r_kminus2)\n",
    "#             print(\"e_kminus1 = \", e_kminus1)\n",
    "            p_k = - r_kminus1 + e_kminus1 * p_k # Search plane\n",
    "#             print(\"p_k = \", p_k)\n",
    "        \n",
    "        rho_k = np.inner(r_kminus1, r_kminus1) / np.inner(np.dot(A, p_k), p_k) # Step size\n",
    "#         print(\"rho_k = \", rho_k)\n",
    "        u_k = u_kminus1 + rho_k * p_k # Gradient descent step along p_k with step size rho_k\n",
    "        r_k = r_kminus1 + rho_k * np.dot(A, p_k) # Find point where 1st contour tangential to direction of descent\n",
    "#         print(\"r_k = \", r_k)\n",
    "        if (np.abs(np.linalg.norm(r_k)) < tol):\n",
    "            print(\"CG converged at iteration \", k, \" to \\n\", u_k)\n",
    "            break\n",
    "        print(\"u_k = \", u_k, \"\\n\")\n",
    "            \n",
    "        # update variables\n",
    "        r_kminus2 = r_kminus1\n",
    "        r_kminus1 = r_k\n",
    "        \n",
    "        end = time.time()\n",
    "        cpu_time = end - start\n",
    "        \n",
    "        \n",
    "    return u_k , k, cpu_time"
   ]
  },
  {
   "cell_type": "code",
   "execution_count": 6,
   "metadata": {},
   "outputs": [
    {
     "name": "stdout",
     "output_type": "stream",
     "text": [
      "k =  1\n",
      "u_k =  [ 0.29259791 -0.15193899  0.0324941   0.5027531 ] \n",
      "\n",
      "k =  2\n",
      "u_k =  [ 0.32468106 -0.19852656  0.12925136  0.48218761] \n",
      "\n",
      "k =  3\n",
      "u_k =  [ 0.48969777 -0.29555827  0.12626234  0.56661656] \n",
      "\n",
      "k =  4\n",
      "CG converged at iteration  4  to \n",
      " [ 0.58823529 -0.76470588  0.17647059  1.09803922]\n"
     ]
    }
   ],
   "source": [
    "A = [[3,1,0,0],\n",
    "    [1,4,1,3],\n",
    "    [0,1,10,0],\n",
    "    [0,3,0,3]]\n",
    "A = np.array(A)\n",
    "b = np.array([1,1,1,1]).T\n",
    "\n",
    "n = A.shape[0]\n",
    "u0 = np.random.rand(n).T\n",
    "\n",
    "uk, k, cpu_time = conj_grad(A, b, u0, 1e-7, 10)"
   ]
  },
  {
   "cell_type": "code",
   "execution_count": 7,
   "metadata": {},
   "outputs": [
    {
     "name": "stdout",
     "output_type": "stream",
     "text": [
      "u_exact =  [ 0.58823529 -0.76470588  0.17647059  1.09803922]\n"
     ]
    }
   ],
   "source": [
    "u_exact = np.linalg.solve(A, b)\n",
    "print(\"u_exact = \", u_exact)"
   ]
  },
  {
   "cell_type": "code",
   "execution_count": 8,
   "metadata": {
    "scrolled": true
   },
   "outputs": [
    {
     "name": "stdout",
     "output_type": "stream",
     "text": [
      "Minimum number of iterations to reduce the initial error by factor of 1e-7 =  75.0\n"
     ]
    }
   ],
   "source": [
    "# Find the minimum numbers of iterations needed to reduce initial error by a factor of 1e-7\n",
    "kmin = get_CG_min_iter(A, 1e-10)\n",
    "print(\"Minimum number of iterations to reduce the initial error by factor of 1e-7 = \", np.ceil(kmin))"
   ]
  },
  {
   "cell_type": "code",
   "execution_count": 7,
   "metadata": {},
   "outputs": [
    {
     "data": {
      "text/plain": [
       "40.06988779953552"
      ]
     },
     "execution_count": 7,
     "metadata": {},
     "output_type": "execute_result"
    }
   ],
   "source": [
    "get_matrix_condition_number(A)"
   ]
  },
  {
   "cell_type": "code",
   "execution_count": 8,
   "metadata": {},
   "outputs": [],
   "source": [
    "def get_Anorm(v, A):\n",
    "    return np.sqrt( v.T @ A @ v )"
   ]
  },
  {
   "cell_type": "code",
   "execution_count": 9,
   "metadata": {},
   "outputs": [
    {
     "name": "stdout",
     "output_type": "stream",
     "text": [
      "e0 =  2.9414004491044823\n"
     ]
    }
   ],
   "source": [
    "# \n",
    "v0 = u_exact - u0\n",
    "e0 = get_Anorm(v0, A)\n",
    "print(\"e0 = \", e0)"
   ]
  },
  {
   "cell_type": "code",
   "execution_count": 10,
   "metadata": {},
   "outputs": [
    {
     "name": "stdout",
     "output_type": "stream",
     "text": [
      "ek =  7.180169461462107e-15\n"
     ]
    }
   ],
   "source": [
    "vk = u_exact - uk\n",
    "ek = get_Anorm(vk, A)\n",
    "print(\"ek = \", ek)"
   ]
  },
  {
   "cell_type": "code",
   "execution_count": 11,
   "metadata": {},
   "outputs": [
    {
     "name": "stdout",
     "output_type": "stream",
     "text": [
      "e0 / ek =  2.441071722705465e-15\n"
     ]
    }
   ],
   "source": [
    "factor = ek / e0 \n",
    "print(\"e0 / ek = \", factor)"
   ]
  },
  {
   "cell_type": "code",
   "execution_count": null,
   "metadata": {},
   "outputs": [],
   "source": []
  },
  {
   "cell_type": "code",
   "execution_count": null,
   "metadata": {},
   "outputs": [],
   "source": []
  }
 ],
 "metadata": {
  "kernelspec": {
   "display_name": "Python 3",
   "language": "python",
   "name": "python3"
  },
  "language_info": {
   "codemirror_mode": {
    "name": "ipython",
    "version": 3
   },
   "file_extension": ".py",
   "mimetype": "text/x-python",
   "name": "python",
   "nbconvert_exporter": "python",
   "pygments_lexer": "ipython3",
   "version": "3.6.5"
  }
 },
 "nbformat": 4,
 "nbformat_minor": 2
}
