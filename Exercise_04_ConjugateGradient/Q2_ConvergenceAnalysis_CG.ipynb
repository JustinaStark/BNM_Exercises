{
 "cells": [
  {
   "cell_type": "code",
   "execution_count": 3,
   "metadata": {},
   "outputs": [],
   "source": [
    "import numpy as np"
   ]
  },
  {
   "cell_type": "code",
   "execution_count": 4,
   "metadata": {},
   "outputs": [],
   "source": [
    "A = [[3, 2, 1],\n",
    "    [2, 3, 2],\n",
    "    [1, 2, 3]]\n",
    "A = np.array(A)"
   ]
  },
  {
   "cell_type": "code",
   "execution_count": 5,
   "metadata": {},
   "outputs": [
    {
     "name": "stdout",
     "output_type": "stream",
     "text": [
      "[[14 14 10]\n",
      " [14 17 14]\n",
      " [10 14 14]] \n",
      "\n",
      "[[14 14 10]\n",
      " [14 17 14]\n",
      " [10 14 14]] \n",
      "\n"
     ]
    }
   ],
   "source": [
    "print(A.T @ A,'\\n')\n",
    "print(np.dot(A.T, A),'\\n')"
   ]
  },
  {
   "cell_type": "code",
   "execution_count": 6,
   "metadata": {},
   "outputs": [
    {
     "name": "stdout",
     "output_type": "stream",
     "text": [
      "[40.60596926  4.          0.39403074]\n"
     ]
    }
   ],
   "source": [
    "lam = np.linalg.eigvals(np.dot(A.T, A))\n",
    "print(lam)"
   ]
  },
  {
   "cell_type": "code",
   "execution_count": 15,
   "metadata": {},
   "outputs": [
    {
     "name": "stdout",
     "output_type": "stream",
     "text": [
      "10.151492315720775\n"
     ]
    }
   ],
   "source": [
    "kappa = np.sqrt(np.max(lam)) / np.sqrt(np.min(lam))\n",
    "print(kappa)"
   ]
  },
  {
   "cell_type": "code",
   "execution_count": 16,
   "metadata": {},
   "outputs": [
    {
     "name": "stdout",
     "output_type": "stream",
     "text": [
      "0.5222329678670935\n"
     ]
    }
   ],
   "source": [
    "alpha = (np.sqrt(kappa) - 1) / (np.sqrt(kappa) + 1)\n",
    "print(alpha)"
   ]
  },
  {
   "cell_type": "code",
   "execution_count": 17,
   "metadata": {},
   "outputs": [
    {
     "name": "stdout",
     "output_type": "stream",
     "text": [
      "36.5109039373403\n"
     ]
    }
   ],
   "source": [
    "k = np.log10(0.5 * 1e-10) / np.log10(alpha)\n",
    "print(k)"
   ]
  },
  {
   "cell_type": "code",
   "execution_count": null,
   "metadata": {},
   "outputs": [],
   "source": []
  },
  {
   "cell_type": "code",
   "execution_count": 25,
   "metadata": {},
   "outputs": [
    {
     "name": "stdout",
     "output_type": "stream",
     "text": [
      "l_max =  6.37228132326902 , l_min =  0.6277186767309862\n",
      "kappa =  10.151492315720775\n"
     ]
    }
   ],
   "source": [
    "# A symmetric --> condition number kappa = abs(max_eigenval) / abs(min_eigenval)\n",
    "# for non-symmetric A, we would have to compute kappa = sqrt(max_eigenval(A.T A)) / sqrt(min_eigenval(A.T A))\n",
    "\n",
    "eigenvals = np.linalg.eigvals(A)\n",
    "l_max = max(eigenvals) # maximal absolute eigenvalue of A\n",
    "l_min = min(eigenvals) # minimal absolute eigenvalue of A\n",
    "print(\"l_max = \", l_max, \", l_min = \", l_min)\n",
    "\n",
    "kappa = abs(l_max) / abs(l_min) # condition number of symmetric A. If A pos. definite, not necessary to take the modulus\n",
    "print(\"kappa = \", kappa)"
   ]
  },
  {
   "cell_type": "code",
   "execution_count": 27,
   "metadata": {},
   "outputs": [
    {
     "name": "stdout",
     "output_type": "stream",
     "text": [
      "convergence factor alpha =  0.5222329678670935\n"
     ]
    }
   ],
   "source": [
    "# Compute convergence factor of conjugate gradient method: alpha\n",
    "alpha = (np.sqrt(kappa) - 1) / (np.sqrt(kappa) + 1)\n",
    "print(\"convergence factor alpha = \", alpha)"
   ]
  },
  {
   "cell_type": "code",
   "execution_count": 32,
   "metadata": {},
   "outputs": [
    {
     "name": "stdout",
     "output_type": "stream",
     "text": [
      "min_iter =  36.5109039373403  =  37.0\n"
     ]
    }
   ],
   "source": [
    "factor_error_reduce = 1e-10\n",
    "min_iter = np.log10(factor_error_reduce * 0.5) / np.log10(alpha)\n",
    "print(\"min_iter = \", min_iter, \" = \", np.ceil(min_iter))"
   ]
  },
  {
   "cell_type": "code",
   "execution_count": null,
   "metadata": {},
   "outputs": [],
   "source": []
  }
 ],
 "metadata": {
  "kernelspec": {
   "display_name": "Python 3",
   "language": "python",
   "name": "python3"
  },
  "language_info": {
   "codemirror_mode": {
    "name": "ipython",
    "version": 3
   },
   "file_extension": ".py",
   "mimetype": "text/x-python",
   "name": "python",
   "nbconvert_exporter": "python",
   "pygments_lexer": "ipython3",
   "version": "3.6.5"
  }
 },
 "nbformat": 4,
 "nbformat_minor": 2
}
