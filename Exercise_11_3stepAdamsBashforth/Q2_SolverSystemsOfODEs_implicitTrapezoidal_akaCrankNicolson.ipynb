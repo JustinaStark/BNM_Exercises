{
 "cells": [
  {
   "cell_type": "code",
   "execution_count": 1,
   "metadata": {},
   "outputs": [],
   "source": [
    "import numpy as np"
   ]
  },
  {
   "cell_type": "code",
   "execution_count": 2,
   "metadata": {},
   "outputs": [],
   "source": [
    "def CrankNicolson(u0, A, h, t0, tmax):\n",
    "    \"\"\"\n",
    "    Crank-Nicolson (aka implicit Trapezoidal) Method\n",
    "    \n",
    "    Find the implicit solution for a System of ODEs of type \n",
    "    ------------\n",
    "    y' = Ay\n",
    "    ------------\n",
    "    where y' and y are vectors of length n and A is a nxn coefficient matrix \n",
    "    \n",
    "    Input:\n",
    "    u0: Vector containing the initial conditions of the System of ODEs\n",
    "    A:  Matrix containing the coefficient in the linear System\n",
    "    h:  Time-step size\n",
    "    t0: Starting time\n",
    "    tmax: Endtime\n",
    "    \n",
    "    Return:\n",
    "    time: Array containing the time points\n",
    "    uj:   Array containing the solution vector u for the N time points computed\n",
    "    \n",
    "    \"\"\"\n",
    "    assert(np.shape(A)[0] == np.shape(A)[1])\n",
    "    assert(len(u0) == np.shape(A)[0])\n",
    "    \n",
    "    # Construct amplification factor\n",
    "    n = np.shape(A)[0]\n",
    "    I = np.identity(n)\n",
    "    \n",
    "    B1 = I - h/2 * A\n",
    "    print(\"\\n[I - h/2 A] = \\n\", B1)\n",
    "    \n",
    "    B2 = I + h/2 * A\n",
    "    print(\"\\n[I + h/2 A] = \\n\", B2)\n",
    "    \n",
    "    B1inv = np.linalg.inv(B1)\n",
    "    print(\"\\n[I - h/2 A]^(-1) = \\n\", B1inv, \"\\n\")\n",
    "    \n",
    "    C    = B1inv @ B2\n",
    "    print(\"\\n[I - h/2 A]^(-1) [I + h/2 A] = \\n\", C, \"\\n\")\n",
    "    \n",
    "    # Initialize arrays for time and solution\n",
    "    time = np.arange(t0, tmax+h, h)\n",
    "    N    = len(time)\n",
    "    uj  = np.zeros((N, n)) # N timepoints, n variables\n",
    "    \n",
    "    # Initial condition\n",
    "    uj[0] = u0\n",
    "    \n",
    "    # Time integration\n",
    "    for j in range(N-1):\n",
    "        uj[j+1] = C @ uj[j]\n",
    "        print(\"u_\", j+1, \"= \", uj[j+1])\n",
    "        \n",
    "    return time, uj\n",
    "    "
   ]
  },
  {
   "cell_type": "code",
   "execution_count": 3,
   "metadata": {},
   "outputs": [],
   "source": [
    "# 2nd order ODE of type x'' + ax' + bx can be transformed into system of odes, where x1 = x, x2 = x', etc.\n",
    "\n",
    "# Initial Conditions\n",
    "x0  = 1 # = x1\n",
    "dx0 = 0 # = x2\n",
    "\n",
    "u0  = [x0, dx0] \n",
    "\n",
    "# Time-step size\n",
    "h   = 0.5\n",
    "\n",
    "# Coefficients\n",
    "a = 0.5\n",
    "b = 1\n",
    "A = np.array([[0, 1],\n",
    "              [-b, -a]])"
   ]
  },
  {
   "cell_type": "code",
   "execution_count": 4,
   "metadata": {},
   "outputs": [
    {
     "name": "stdout",
     "output_type": "stream",
     "text": [
      "\n",
      "[I - h/2 A] = \n",
      " [[ 1.    -0.25 ]\n",
      " [ 0.25   1.125]]\n",
      "\n",
      "[I + h/2 A] = \n",
      " [[ 1.     0.25 ]\n",
      " [-0.25   0.875]]\n",
      "\n",
      "[I - h/2 A]^(-1) = \n",
      " [[ 0.94736842  0.21052632]\n",
      " [-0.21052632  0.84210526]] \n",
      "\n",
      "\n",
      "[I - h/2 A]^(-1) [I + h/2 A] = \n",
      " [[ 0.89473684  0.42105263]\n",
      " [-0.42105263  0.68421053]] \n",
      "\n",
      "u_ 1 =  [ 0.89473684 -0.42105263]\n",
      "u_ 2 =  [ 0.6232687  -0.66481994]\n",
      "u_ 3 =  [ 0.27773728 -0.71730573]\n",
      "u_ 4 =  [-0.05352169 -0.60773014]\n",
      "u_ 5 =  [-0.3037742  -0.39327991]\n",
      "u_ 6 =  [-0.43738951 -0.14118133]\n",
      "u_ 7 =  [-0.45079328  0.08756625]\n",
      "u_ 8 =  [-0.36647136  0.24972145]\n",
      "u_ 9 =  [-0.22274955  0.32516577]\n",
      "u_ 10 =  [-0.06239032  0.31627113]\n",
      "u_ 11 =  [0.07734387 0.24266565]\n",
      "u_ 12 =  [0.17137742 0.13346855]\n",
      "u_ 13 =  [0.20953497 0.01916167]\n",
      "u_ 14 =  [ 0.19554673 -0.07511463]\n",
      "u_ 15 =  [ 0.14333565 -0.13372969]\n",
      "u_ 16 =  [ 0.07194045 -0.15185112]\n",
      "u_ 17 =  [ 0.00043046 -0.13418885]\n",
      "u_ 18 =  [-0.05611542 -0.09199467]\n",
      "u_ 19 =  [-0.08894313 -0.03931618]\n",
      "u_ 20 =  [-0.09613487  0.0105492 ]\n",
      "u_ 21 =  [-0.08157365  0.04769571]\n",
      "u_ 22 =  [-0.05290454  0.06698071]\n",
      "u_ 23 =  [-0.01913324  0.0681045 ]\n",
      "u_ 24 =  [0.01155637 0.05465392]\n",
      "u_ 25 =  [0.03335208 0.03252895]\n",
      "u_ 26 =  [0.04353774 0.00821367]\n",
      "u_ 27 =  [ 0.0424132 -0.0127118]\n",
      "u_ 28 =  [ 0.03259632 -0.02655574]\n",
      "u_ 29 =  [ 0.01798376 -0.03189448]\n",
      "u_ 30 =  [ 0.00266148 -0.02939465]\n",
      "u_ 31 =  [-0.00999537 -0.02123275]\n",
      "u_ 32 =  [-0.01788333 -0.0103191 ]\n",
      "u_ 33 =  [-0.02034576  0.00046939]\n",
      "u_ 34 =  [-0.01800646  0.0088878 ]\n",
      "u_ 35 =  [-0.01236881  0.01366279]\n",
      "u_ 36 =  [-0.00531408  0.01455615]\n",
      "u_ 37 =  [0.0013742  0.01219698]\n",
      "u_ 38 =  [0.00636512 0.00776669]\n",
      "u_ 39 =  [0.00896529 0.002634  ]\n",
      "u_ 40 =  [ 0.00913063 -0.00197265]\n"
     ]
    }
   ],
   "source": [
    "t0   = 0\n",
    "tmax = 20\n",
    "time, uj = CrankNicolson(u0, A, h, t0, tmax)"
   ]
  },
  {
   "cell_type": "code",
   "execution_count": 6,
   "metadata": {},
   "outputs": [
    {
     "data": {
      "image/png": "[encoded data removed]",
      "text/plain": [
       "<Figure size 432x288 with 1 Axes>"
      ]
     },
     "metadata": {},
     "output_type": "display_data"
    }
   ],
   "source": [
    "import matplotlib.pyplot as plt\n",
    "plt.plot(time, uj[:, 0])\n",
    "plt.xlabel(\"time\")\n",
    "plt.ylabel(\"space x\")\n",
    "None"
   ]
  },
  {
   "cell_type": "code",
   "execution_count": null,
   "metadata": {},
   "outputs": [],
   "source": []
  }
 ],
 "metadata": {
  "kernelspec": {
   "display_name": "Python 3",
   "language": "python",
   "name": "python3"
  },
  "language_info": {
   "codemirror_mode": {
    "name": "ipython",
    "version": 3
   },
   "file_extension": ".py",
   "mimetype": "text/x-python",
   "name": "python",
   "nbconvert_exporter": "python",
   "pygments_lexer": "ipython3",
   "version": "3.6.5"
  }
 },
 "nbformat": 4,
 "nbformat_minor": 2
}
