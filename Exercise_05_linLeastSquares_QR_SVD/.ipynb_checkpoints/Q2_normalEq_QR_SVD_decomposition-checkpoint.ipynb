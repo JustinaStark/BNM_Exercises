{
 "cells": [
  {
   "cell_type": "code",
   "execution_count": 1,
   "metadata": {},
   "outputs": [],
   "source": [
    "import numpy as np"
   ]
  },
  {
   "cell_type": "code",
   "execution_count": 2,
   "metadata": {},
   "outputs": [],
   "source": [
    "t = np.array([0.1, 0.2, 0.3, 0.4, 0.5, 0.6, 0.7, 0.8, 0.9, 1.0])"
   ]
  },
  {
   "cell_type": "code",
   "execution_count": 3,
   "metadata": {},
   "outputs": [],
   "source": [
    "fi = np.array([100, 34, 17, 12, 9, 6, 5, 4, 4, 2])"
   ]
  },
  {
   "cell_type": "code",
   "execution_count": 4,
   "metadata": {},
   "outputs": [],
   "source": [
    "phi1 = 1/t\n",
    "phi2 = 1/(t*t)\n",
    "phi3 = np.exp(-(t-1))\n",
    "phi4 = np.exp(-2 * (t-1))\n",
    "phi = np.array([phi1, phi2, phi3, phi4])\n",
    "A = phi.T"
   ]
  },
  {
   "cell_type": "code",
   "execution_count": 5,
   "metadata": {},
   "outputs": [
    {
     "data": {
      "text/plain": [
       "((10, 4), (10,))"
      ]
     },
     "execution_count": 5,
     "metadata": {},
     "output_type": "execute_result"
    }
   ],
   "source": [
    "A.shape, fi.shape"
   ]
  },
  {
   "cell_type": "markdown",
   "metadata": {},
   "source": [
    "# Solve using:"
   ]
  },
  {
   "cell_type": "markdown",
   "metadata": {},
   "source": [
    "# a) Normal Equations"
   ]
  },
  {
   "cell_type": "code",
   "execution_count": 6,
   "metadata": {},
   "outputs": [],
   "source": [
    "ATA = A.T @ A\n",
    "ATf = A.T @ fi"
   ]
  },
  {
   "cell_type": "code",
   "execution_count": 7,
   "metadata": {},
   "outputs": [
    {
     "data": {
      "text/plain": [
       "array([ 4.05911565,  0.61403517, -2.53145933,  0.70575998])"
      ]
     },
     "execution_count": 7,
     "metadata": {},
     "output_type": "execute_result"
    }
   ],
   "source": [
    "np.linalg.solve(ATA, ATf)"
   ]
  },
  {
   "cell_type": "code",
   "execution_count": 8,
   "metadata": {},
   "outputs": [],
   "source": [
    "ATA_inv = np.linalg.inv(ATA)"
   ]
  },
  {
   "cell_type": "code",
   "execution_count": 9,
   "metadata": {},
   "outputs": [],
   "source": [
    "l = ATA_inv @ ATf"
   ]
  },
  {
   "cell_type": "code",
   "execution_count": 10,
   "metadata": {},
   "outputs": [
    {
     "data": {
      "text/plain": [
       "array([ 4.05911565,  0.61403517, -2.53145933,  0.70575998])"
      ]
     },
     "execution_count": 10,
     "metadata": {},
     "output_type": "execute_result"
    }
   ],
   "source": [
    "l"
   ]
  },
  {
   "cell_type": "markdown",
   "metadata": {},
   "source": [
    "# b) QR Decomposition"
   ]
  },
  {
   "cell_type": "code",
   "execution_count": 11,
   "metadata": {},
   "outputs": [
    {
     "data": {
      "text/plain": [
       "array([ 4.05911565,  0.61403517, -2.53145933,  0.70575998])"
      ]
     },
     "execution_count": 11,
     "metadata": {},
     "output_type": "execute_result"
    }
   ],
   "source": [
    "# Q2 b) Solve using QR decomposition of A\n",
    "Q, R = np.linalg.qr(A)\n",
    "d = Q.T @ fi\n",
    "\n",
    "l = np.linalg.solve(R, d)\n",
    "l"
   ]
  },
  {
   "cell_type": "markdown",
   "metadata": {},
   "source": [
    "# c) Singular Value Decomposition"
   ]
  },
  {
   "cell_type": "code",
   "execution_count": 30,
   "metadata": {},
   "outputs": [],
   "source": [
    "U, S, VT = np.linalg.svd(A)"
   ]
  },
  {
   "cell_type": "code",
   "execution_count": 31,
   "metadata": {},
   "outputs": [
    {
     "data": {
      "text/plain": [
       "((10, 10), (4,), (4, 4))"
      ]
     },
     "execution_count": 31,
     "metadata": {},
     "output_type": "execute_result"
    }
   ],
   "source": [
    "U.shape, S.shape, VT.shape"
   ]
  },
  {
   "cell_type": "code",
   "execution_count": 32,
   "metadata": {},
   "outputs": [],
   "source": [
    "n = len(S)\n",
    "y = np.zeros(n)\n",
    "for i in range(n):\n",
    "    y[i] = 1/S_1d[i]  * (np.dot(U[:, i], fi)) # Solve y = VT@x"
   ]
  },
  {
   "cell_type": "code",
   "execution_count": 34,
   "metadata": {},
   "outputs": [
    {
     "data": {
      "text/plain": [
       "array([ 4.05911565,  0.61403517, -2.53145933,  0.70575998])"
      ]
     },
     "execution_count": 34,
     "metadata": {},
     "output_type": "execute_result"
    }
   ],
   "source": [
    "V = VT.T\n",
    "x = V @ y # Recover x\n",
    "x"
   ]
  },
  {
   "cell_type": "code",
   "execution_count": 23,
   "metadata": {},
   "outputs": [],
   "source": [
    "# np.linalg.solve(S, UTf) # will not work unless we fill S with zeros"
   ]
  },
  {
   "cell_type": "code",
   "execution_count": 27,
   "metadata": {},
   "outputs": [],
   "source": [
    "# Q2 b) Solve using Singular Value decomposition of A\n",
    "# U : left singular vectors  = eigenvectors of AA.T, sorted acc. to importance\n",
    "# V : right singular vectors = eigenvectors of A.TA, sorted acc. to U\n",
    "# S : singular values        = square root of eigenvalues of (A.TA) ordered decreasingly\n",
    "\n",
    "# AAT = A @ A.T\n",
    "# ATA = A.T @ A\n",
    "\n",
    "# left_lamdas,  left_vectors  = np.linalg.eig(AAT)\n",
    "# right_lamdas, right_vectors = np.linalg.eig(ATA)\n",
    "\n",
    "\n",
    "# right_lamdas.argsort()\n",
    "\n",
    "# right_lamdas"
   ]
  },
  {
   "cell_type": "code",
   "execution_count": null,
   "metadata": {},
   "outputs": [],
   "source": []
  },
  {
   "cell_type": "code",
   "execution_count": null,
   "metadata": {},
   "outputs": [],
   "source": []
  },
  {
   "cell_type": "code",
   "execution_count": null,
   "metadata": {},
   "outputs": [],
   "source": []
  },
  {
   "cell_type": "code",
   "execution_count": null,
   "metadata": {},
   "outputs": [],
   "source": [
    "def qr_decomposition(A):\n",
    "    \n",
    "    # initialize Q and R\n",
    "    R   = np.zeros(A.shape)\n",
    "    Q   = np.zeros(A.shape)\n",
    "    \n",
    "    R[0, 0] = np.linalg.norm(A[:, 0])\n",
    "    Q[:, 0]  = A[:, 0] / R[0, 0]\n",
    "    \n",
    "    R[0, 1] = np.inner(A[:, 1], Q[:, 0])\n",
    "    a2o = A[:, 1] - R[0, 1] * Q[:, 0]\n",
    "    R[1, 1] = np.linalg.norm([a2o])\n",
    "    Q[:, 1]  = a2o / R[1, 1]\n",
    "    \n",
    "    R[0, 2] = np.inner(A[:, 2], Q[:, 0])\n",
    "    R[1, 2] = np.inner(A[:, 2], Q[:, 1]) \n",
    "    a3o = A[:, 2] -  R[0, 2] * Q[:, 0] - R[1, 2] * Q[:, 1]\n",
    "    R[2, 2] = np.linalg.norm([a3o])\n",
    "    Q[:, 2]  = a3o / R[2, 2]\n",
    "    return Q, R\n",
    "    \n",
    "    "
   ]
  },
  {
   "cell_type": "code",
   "execution_count": null,
   "metadata": {},
   "outputs": [],
   "source": [
    "A = np.array([[2, 6, 9],\n",
    "             [7, 1, 2],\n",
    "             [1, 2, 3]])"
   ]
  },
  {
   "cell_type": "code",
   "execution_count": null,
   "metadata": {},
   "outputs": [],
   "source": [
    "Q, R = qr_decomposition(A)"
   ]
  },
  {
   "cell_type": "code",
   "execution_count": null,
   "metadata": {},
   "outputs": [],
   "source": [
    "Q, R"
   ]
  },
  {
   "cell_type": "code",
   "execution_count": null,
   "metadata": {},
   "outputs": [],
   "source": [
    "Q.T@Q"
   ]
  },
  {
   "cell_type": "code",
   "execution_count": null,
   "metadata": {},
   "outputs": [],
   "source": [
    "q, r = np.linalg.qr(A)\n",
    "q, r"
   ]
  },
  {
   "cell_type": "code",
   "execution_count": null,
   "metadata": {},
   "outputs": [],
   "source": [
    "np.inner(A[:, 1], Q[:, 0])"
   ]
  },
  {
   "cell_type": "code",
   "execution_count": null,
   "metadata": {},
   "outputs": [],
   "source": [
    "Q @ R"
   ]
  },
  {
   "cell_type": "code",
   "execution_count": null,
   "metadata": {},
   "outputs": [],
   "source": [
    "q @ r"
   ]
  },
  {
   "cell_type": "code",
   "execution_count": null,
   "metadata": {},
   "outputs": [],
   "source": []
  }
 ],
 "metadata": {
  "kernelspec": {
   "display_name": "Python 3",
   "language": "python",
   "name": "python3"
  },
  "language_info": {
   "codemirror_mode": {
    "name": "ipython",
    "version": 3
   },
   "file_extension": ".py",
   "mimetype": "text/x-python",
   "name": "python",
   "nbconvert_exporter": "python",
   "pygments_lexer": "ipython3",
   "version": "3.6.5"
  }
 },
 "nbformat": 4,
 "nbformat_minor": 2
}
