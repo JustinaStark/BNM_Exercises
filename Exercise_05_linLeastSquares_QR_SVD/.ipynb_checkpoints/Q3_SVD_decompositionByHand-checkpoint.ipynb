{
 "cells": [
  {
   "cell_type": "code",
   "execution_count": 1,
   "metadata": {},
   "outputs": [],
   "source": [
    "import numpy as np"
   ]
  },
  {
   "cell_type": "code",
   "execution_count": 2,
   "metadata": {},
   "outputs": [],
   "source": [
    "A = np.array([[1, 1, 0, 1], [0, 0, 0, 1], [1, 1, 0, 0]])\n",
    "B = np.array([[1, 0, 1, 0], [0, 1, 0, 1]])"
   ]
  },
  {
   "cell_type": "code",
   "execution_count": 3,
   "metadata": {},
   "outputs": [],
   "source": [
    "AAT = A@A.T\n",
    "BBT = B@B.T"
   ]
  },
  {
   "cell_type": "code",
   "execution_count": 4,
   "metadata": {},
   "outputs": [
    {
     "data": {
      "text/plain": [
       "array([[3, 1, 2],\n",
       "       [1, 1, 0],\n",
       "       [2, 0, 2]])"
      ]
     },
     "execution_count": 4,
     "metadata": {},
     "output_type": "execute_result"
    }
   ],
   "source": [
    "AAT"
   ]
  },
  {
   "cell_type": "code",
   "execution_count": 5,
   "metadata": {},
   "outputs": [
    {
     "data": {
      "text/plain": [
       "array([ 4.73205081, -0.        ,  1.26794919])"
      ]
     },
     "execution_count": 5,
     "metadata": {},
     "output_type": "execute_result"
    }
   ],
   "source": [
    "mu = np.linalg.eigvals(AAT)    \n",
    "mu = (abs(mu)>1e-15) * mu\n",
    "mu"
   ]
  },
  {
   "cell_type": "code",
   "execution_count": 6,
   "metadata": {},
   "outputs": [],
   "source": [
    "s = np.sqrt(mu)"
   ]
  },
  {
   "cell_type": "code",
   "execution_count": 7,
   "metadata": {},
   "outputs": [
    {
     "data": {
      "text/plain": [
       "array([ 2.17532775, -0.        ,  1.1260325 ])"
      ]
     },
     "execution_count": 7,
     "metadata": {},
     "output_type": "execute_result"
    }
   ],
   "source": [
    "s"
   ]
  },
  {
   "cell_type": "code",
   "execution_count": 8,
   "metadata": {},
   "outputs": [
    {
     "data": {
      "text/plain": [
       "array([[2, 0],\n",
       "       [0, 2]])"
      ]
     },
     "execution_count": 8,
     "metadata": {},
     "output_type": "execute_result"
    }
   ],
   "source": [
    "BBT"
   ]
  },
  {
   "cell_type": "code",
   "execution_count": 9,
   "metadata": {},
   "outputs": [],
   "source": [
    "mu = np.linalg.eigvals(BBT)"
   ]
  },
  {
   "cell_type": "code",
   "execution_count": 10,
   "metadata": {},
   "outputs": [
    {
     "data": {
      "text/plain": [
       "array([1.41421356, 1.41421356])"
      ]
     },
     "execution_count": 10,
     "metadata": {},
     "output_type": "execute_result"
    }
   ],
   "source": [
    "s = np.sqrt(mu)\n",
    "s"
   ]
  },
  {
   "cell_type": "markdown",
   "metadata": {},
   "source": [
    "# Singular Value Decomposition of A"
   ]
  },
  {
   "cell_type": "code",
   "execution_count": 69,
   "metadata": {},
   "outputs": [
    {
     "data": {
      "text/plain": [
       "array([ 4.73205081, -0.        ,  1.26794919])"
      ]
     },
     "execution_count": 69,
     "metadata": {},
     "output_type": "execute_result"
    }
   ],
   "source": [
    "# returns non-ordered eigenvalues, \n",
    "# eigenvectors s.t. col v[:, i] eigenvector to eigenvalue mu[i]\n",
    "mu, U_unordered = np.linalg.eig(AAT)  # Get left singular vectors\n",
    "\n",
    "# round values beyond machine precision to 0\n",
    "mu = (abs(mu)>1e-15) * mu \n",
    "mu"
   ]
  },
  {
   "cell_type": "code",
   "execution_count": 70,
   "metadata": {},
   "outputs": [
    {
     "data": {
      "text/plain": [
       "array([0, 2, 1])"
      ]
     },
     "execution_count": 70,
     "metadata": {},
     "output_type": "execute_result"
    }
   ],
   "source": [
    "descOrder = np.argsort(mu)[::-1] # Get indices which sort for descending order\n",
    "descOrder"
   ]
  },
  {
   "cell_type": "code",
   "execution_count": 71,
   "metadata": {},
   "outputs": [
    {
     "data": {
      "text/plain": [
       "array([ 4.73205081,  1.26794919, -0.        ])"
      ]
     },
     "execution_count": 71,
     "metadata": {},
     "output_type": "execute_result"
    }
   ],
   "source": [
    "mu[descOrder]"
   ]
  },
  {
   "cell_type": "code",
   "execution_count": 77,
   "metadata": {},
   "outputs": [],
   "source": [
    "# Get the singular values in descending order\n",
    "S = np.sqrt(mu[descOrder])"
   ]
  },
  {
   "cell_type": "code",
   "execution_count": 79,
   "metadata": {},
   "outputs": [
    {
     "data": {
      "text/plain": [
       "array([[-0.78867513, -0.21132487, -0.57735027],\n",
       "       [-0.21132487, -0.78867513,  0.57735027],\n",
       "       [-0.57735027,  0.57735027,  0.57735027]])"
      ]
     },
     "execution_count": 79,
     "metadata": {},
     "output_type": "execute_result"
    }
   ],
   "source": [
    "# Get U with the columns ordered corresponding to the order in S\n",
    "U = U_unordered[:, descOrder] \n",
    "U"
   ]
  },
  {
   "cell_type": "code",
   "execution_count": 91,
   "metadata": {},
   "outputs": [
    {
     "data": {
      "text/plain": [
       "array([ 4.73205081e+00, -6.80523210e-17,  1.26794919e+00,  0.00000000e+00])"
      ]
     },
     "execution_count": 91,
     "metadata": {},
     "output_type": "execute_result"
    }
   ],
   "source": [
    "# returns non-ordered eigenvalues, \n",
    "# eigenvectors s.t. col v[:, i] eigenvector to eigenvalue mu[i]\n",
    "mu, V_unordered = np.linalg.eig(A.T@A)  # Get right singular vectors\n",
    "\n",
    "# round values beyond machine precision to 0\n",
    "# mu = (abs(mu)>1e-15) * mu \n",
    "mu"
   ]
  },
  {
   "cell_type": "code",
   "execution_count": 92,
   "metadata": {},
   "outputs": [
    {
     "data": {
      "text/plain": [
       "array([0, 2, 3, 1])"
      ]
     },
     "execution_count": 92,
     "metadata": {},
     "output_type": "execute_result"
    }
   ],
   "source": [
    "descOrder = np.argsort(mu)[::-1] # Get indices which sort for descending order\n",
    "descOrder"
   ]
  },
  {
   "cell_type": "code",
   "execution_count": 93,
   "metadata": {},
   "outputs": [
    {
     "data": {
      "text/plain": [
       "array([[-6.27963030e-01, -3.25057584e-01,  0.00000000e+00,\n",
       "        -7.07106781e-01],\n",
       "       [-6.27963030e-01, -3.25057584e-01,  0.00000000e+00,\n",
       "         7.07106781e-01],\n",
       "       [ 0.00000000e+00,  0.00000000e+00,  1.00000000e+00,\n",
       "         0.00000000e+00],\n",
       "       [-4.59700843e-01,  8.88073834e-01,  0.00000000e+00,\n",
       "        -2.45228923e-17]])"
      ]
     },
     "execution_count": 93,
     "metadata": {},
     "output_type": "execute_result"
    }
   ],
   "source": [
    "# Get V with the columns ordered corresponding to the order in S\n",
    "V = V_unordered[:, descOrder]\n",
    "V"
   ]
  },
  {
   "cell_type": "code",
   "execution_count": 94,
   "metadata": {},
   "outputs": [
    {
     "data": {
      "text/plain": [
       "(array([[ 0.78867513,  0.21132487,  0.57735027],\n",
       "        [ 0.21132487,  0.78867513, -0.57735027],\n",
       "        [ 0.57735027, -0.57735027, -0.57735027]]),\n",
       " array([2.17532775e+00, 1.12603250e+00, 5.73316705e-17]),\n",
       " array([[ 6.27963030e-01,  6.27963030e-01,  0.00000000e+00,\n",
       "          4.59700843e-01],\n",
       "        [-3.25057584e-01, -3.25057584e-01,  0.00000000e+00,\n",
       "          8.88073834e-01],\n",
       "        [ 7.07106781e-01, -7.07106781e-01,  0.00000000e+00,\n",
       "         -2.77555756e-16],\n",
       "        [ 0.00000000e+00,  0.00000000e+00,  1.00000000e+00,\n",
       "          0.00000000e+00]]))"
      ]
     },
     "execution_count": 94,
     "metadata": {},
     "output_type": "execute_result"
    }
   ],
   "source": [
    "# Compare\n",
    "np.linalg.svd(A)\n"
   ]
  },
  {
   "cell_type": "code",
   "execution_count": 95,
   "metadata": {},
   "outputs": [
    {
     "data": {
      "text/plain": [
       "(array([[-0.78867513, -0.21132487, -0.57735027],\n",
       "        [-0.21132487, -0.78867513,  0.57735027],\n",
       "        [-0.57735027,  0.57735027,  0.57735027]]),\n",
       " array([ 2.17532775,  1.1260325 , -0.        ]),\n",
       " array([[-6.27963030e-01, -6.27963030e-01,  0.00000000e+00,\n",
       "         -4.59700843e-01],\n",
       "        [-3.25057584e-01, -3.25057584e-01,  0.00000000e+00,\n",
       "          8.88073834e-01],\n",
       "        [ 0.00000000e+00,  0.00000000e+00,  1.00000000e+00,\n",
       "          0.00000000e+00],\n",
       "        [-7.07106781e-01,  7.07106781e-01,  0.00000000e+00,\n",
       "         -2.45228923e-17]]))"
      ]
     },
     "execution_count": 95,
     "metadata": {},
     "output_type": "execute_result"
    }
   ],
   "source": [
    "U, S, V.T"
   ]
  },
  {
   "cell_type": "code",
   "execution_count": null,
   "metadata": {},
   "outputs": [],
   "source": []
  },
  {
   "cell_type": "code",
   "execution_count": null,
   "metadata": {},
   "outputs": [],
   "source": []
  },
  {
   "cell_type": "code",
   "execution_count": null,
   "metadata": {},
   "outputs": [],
   "source": []
  }
 ],
 "metadata": {
  "kernelspec": {
   "display_name": "Python 3",
   "language": "python",
   "name": "python3"
  },
  "language_info": {
   "codemirror_mode": {
    "name": "ipython",
    "version": 3
   },
   "file_extension": ".py",
   "mimetype": "text/x-python",
   "name": "python",
   "nbconvert_exporter": "python",
   "pygments_lexer": "ipython3",
   "version": "3.6.5"
  }
 },
 "nbformat": 4,
 "nbformat_minor": 2
}
